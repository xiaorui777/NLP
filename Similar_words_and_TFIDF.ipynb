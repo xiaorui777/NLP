{
  "nbformat": 4,
  "nbformat_minor": 0,
  "metadata": {
    "colab": {
      "name": "Similar_words_and_TFIDF",
      "version": "0.3.2",
      "provenance": [],
      "include_colab_link": true
    },
    "kernelspec": {
      "name": "python3",
      "display_name": "Python 3"
    }
  },
  "cells": [
    {
      "cell_type": "markdown",
      "metadata": {
        "id": "view-in-github",
        "colab_type": "text"
      },
      "source": [
        "<a href=\"https://colab.research.google.com/github/xiaorui777/NLP/blob/master/Similar_words_and_TFIDF.ipynb\" target=\"_parent\"><img src=\"https://colab.research.google.com/assets/colab-badge.svg\" alt=\"Open In Colab\"/></a>"
      ]
    },
    {
      "cell_type": "markdown",
      "metadata": {
        "id": "JgQAUVz-Ic_y",
        "colab_type": "text"
      },
      "source": [
        "## Search Tree  ->  Similar Words\n",
        "#### 通过搜索树的方法可以找到一个词的相似的词（词向量的概率分布相似）"
      ]
    },
    {
      "cell_type": "code",
      "metadata": {
        "id": "U42skjSgIbAX",
        "colab_type": "code",
        "colab": {}
      },
      "source": [
        "csv_path = './sqlResult_1558435.csv'"
      ],
      "execution_count": 0,
      "outputs": []
    },
    {
      "cell_type": "code",
      "metadata": {
        "id": "upHQy5x1KSaX",
        "colab_type": "code",
        "colab": {}
      },
      "source": [
        "import pandas as pd"
      ],
      "execution_count": 0,
      "outputs": []
    },
    {
      "cell_type": "code",
      "metadata": {
        "id": "RPiW4k9xKV_H",
        "colab_type": "code",
        "colab": {}
      },
      "source": [
        "content = pd.read_csv(csv_path, encoding = 'gb18030')"
      ],
      "execution_count": 0,
      "outputs": []
    },
    {
      "cell_type": "code",
      "metadata": {
        "id": "n-k9X4EiKZYl",
        "colab_type": "code",
        "colab": {}
      },
      "source": [
        "content = content.fillna(' ')\n",
        "news_content = content['content'].tolist()"
      ],
      "execution_count": 0,
      "outputs": []
    },
    {
      "cell_type": "code",
      "metadata": {
        "id": "itJfGYhBYLgI",
        "colab_type": "code",
        "colab": {}
      },
      "source": [
        "import jieba\n",
        "import re"
      ],
      "execution_count": 0,
      "outputs": []
    },
    {
      "cell_type": "code",
      "metadata": {
        "id": "UHJkUdc6jnXF",
        "colab_type": "code",
        "colab": {
          "base_uri": "https://localhost:8080/",
          "height": 89
        },
        "outputId": "07b8a857-191b-4b2d-b080-e272f3389cae"
      },
      "source": [
        "news_content[0]"
      ],
      "execution_count": 6,
      "outputs": [
        {
          "output_type": "execute_result",
          "data": {
            "text/plain": [
              "'此外，自本周（6月12日）起，除小米手机6等15款机型外，其余机型已暂停更新发布（含开发版/体验版内测，稳定版暂不受影响），以确保工程师可以集中全部精力进行系统优化工作。有人猜测这也是将精力主要用到MIUI 9的研发之中。\\r\\nMIUI 8去年5月发布，距今已有一年有余，也是时候更新换代了。\\r\\n当然，关于MIUI 9的确切信息，我们还是等待官方消息。\\r\\n'"
            ]
          },
          "metadata": {
            "tags": []
          },
          "execution_count": 6
        }
      ]
    },
    {
      "cell_type": "code",
      "metadata": {
        "id": "e3zKo1szYSJg",
        "colab_type": "code",
        "colab": {}
      },
      "source": [
        "def cut(string): return \" \".join(jieba.cut(string))"
      ],
      "execution_count": 0,
      "outputs": []
    },
    {
      "cell_type": "code",
      "metadata": {
        "id": "DtsTJNXkY1Wr",
        "colab_type": "code",
        "colab": {}
      },
      "source": [
        "def token(string): return re.findall(r'[\\w]+', string)"
      ],
      "execution_count": 0,
      "outputs": []
    },
    {
      "cell_type": "code",
      "metadata": {
        "id": "iW13sNGsZEd8",
        "colab_type": "code",
        "colab": {}
      },
      "source": [
        "news_content = [token(n) for n in news_content]"
      ],
      "execution_count": 0,
      "outputs": []
    },
    {
      "cell_type": "code",
      "metadata": {
        "id": "UvkQEtuvki0V",
        "colab_type": "code",
        "colab": {}
      },
      "source": [
        "news_content = [' '.join(n) for n in news_content]"
      ],
      "execution_count": 0,
      "outputs": []
    },
    {
      "cell_type": "code",
      "metadata": {
        "id": "EI7ET3ZWZLcZ",
        "colab_type": "code",
        "outputId": "d03b627a-3d94-456a-e9b5-1dc18ebedd05",
        "colab": {
          "base_uri": "https://localhost:8080/",
          "height": 85
        }
      },
      "source": [
        "news_content = ([cut(n) for n in news_content])"
      ],
      "execution_count": 11,
      "outputs": [
        {
          "output_type": "stream",
          "text": [
            "Building prefix dict from the default dictionary ...\n",
            "Dumping model to file cache /tmp/jieba.cache\n",
            "Loading model cost 1.069 seconds.\n",
            "Prefix dict has been built succesfully.\n"
          ],
          "name": "stderr"
        }
      ]
    },
    {
      "cell_type": "code",
      "metadata": {
        "id": "T4Bj6eUskott",
        "colab_type": "code",
        "colab": {
          "base_uri": "https://localhost:8080/",
          "height": 89
        },
        "outputId": "b059d99b-cf13-4de2-805b-ca870b47d216"
      },
      "source": [
        "news_content[1]"
      ],
      "execution_count": 12,
      "outputs": [
        {
          "output_type": "execute_result",
          "data": {
            "text/plain": [
              "'骁龙 835 作为 唯一 通过 Windows   10 桌面 平台 认证 的 ARM 处理器   高通 强调   不会 因为 只 考虑 性能 而 去 屏蔽掉 小 核心   相反   他们 正 联手 微软   找到 一种 适合 桌面 平台 的   兼顾 性能 和 功耗 的 完美 方案   报道 称   微软 已经 拿到 了 一些 新 的 源码   以便 Windows   10 更好 地 理解 big   little 架构   资料 显示   骁龙 835 作为 一款 集成 了 CPU   GPU   基带   蓝牙   Wi   Fi 的 SoC   比 传统 的 Wintel 方案 可以 节省 至少 30   的 PCB 空间   按计划   今年 Q4   华硕   惠普   联想 将 首发 骁龙 835   Win10 电脑   预计 均 是 二合一 形态 的 产品   当然   高通 骁龙 只是 个 开始   未来 也许 还 能 见到 三星 Exynos   联发科   华为 麒麟   小米 澎湃 等 进入 Windows   10 桌面 平台'"
            ]
          },
          "metadata": {
            "tags": []
          },
          "execution_count": 12
        }
      ]
    },
    {
      "cell_type": "code",
      "metadata": {
        "id": "rFoq6YFAZSUa",
        "colab_type": "code",
        "colab": {}
      },
      "source": [
        "with open('news-sentences-cut.txt', 'w')as f:\n",
        "    for n in news_content:\n",
        "        f.write(n + '\\n')"
      ],
      "execution_count": 0,
      "outputs": []
    },
    {
      "cell_type": "code",
      "metadata": {
        "id": "-xhWeDO4ZkjW",
        "colab_type": "code",
        "colab": {}
      },
      "source": [
        "from gensim.models import Word2Vec\n",
        "from gensim.models.word2vec import LineSentence "
      ],
      "execution_count": 0,
      "outputs": []
    },
    {
      "cell_type": "code",
      "metadata": {
        "id": "syP3U_EZZyeC",
        "colab_type": "code",
        "colab": {}
      },
      "source": [
        "news_word2vec = Word2Vec(LineSentence('news-sentences-cut.txt'), size = 35, workers = 8)"
      ],
      "execution_count": 0,
      "outputs": []
    },
    {
      "cell_type": "code",
      "metadata": {
        "id": "-F4RQ1qcaayK",
        "colab_type": "code",
        "colab": {
          "base_uri": "https://localhost:8080/",
          "height": 480
        },
        "outputId": "f076c0c7-77d1-4cc3-e867-8677d3344ade"
      },
      "source": [
        " news_word2vec.most_similar('说',topn = 20)"
      ],
      "execution_count": 16,
      "outputs": [
        {
          "output_type": "stream",
          "text": [
            "/usr/local/lib/python3.6/dist-packages/ipykernel_launcher.py:1: DeprecationWarning: Call to deprecated `most_similar` (Method will be removed in 4.0.0, use self.wv.most_similar() instead).\n",
            "  \"\"\"Entry point for launching an IPython kernel.\n",
            "/usr/local/lib/python3.6/dist-packages/gensim/matutils.py:737: FutureWarning: Conversion of the second argument of issubdtype from `int` to `np.signedinteger` is deprecated. In future, it will be treated as `np.int64 == np.dtype(int).type`.\n",
            "  if np.issubdtype(vec.dtype, np.int):\n"
          ],
          "name": "stderr"
        },
        {
          "output_type": "execute_result",
          "data": {
            "text/plain": [
              "[('表示', 0.8976008892059326),\n",
              " ('认为', 0.8567700386047363),\n",
              " ('看来', 0.8484138250350952),\n",
              " ('指出', 0.8432142734527588),\n",
              " ('坦言', 0.8130702972412109),\n",
              " ('告诉', 0.7960416674613953),\n",
              " ('介绍', 0.7870182991027832),\n",
              " ('透露', 0.7482523918151855),\n",
              " ('中说', 0.7402211427688599),\n",
              " ('称', 0.7368116974830627),\n",
              " ('明说', 0.7204200029373169),\n",
              " ('文说', 0.7001379728317261),\n",
              " ('所说', 0.6958318948745728),\n",
              " ('提到', 0.6539344191551208),\n",
              " ('强调', 0.6477982997894287),\n",
              " ('问', 0.6406140923500061),\n",
              " ('特别强调', 0.6338685750961304),\n",
              " ('如是说', 0.6172906160354614),\n",
              " ('时说', 0.6146233081817627),\n",
              " ('相信', 0.6136190891265869)]"
            ]
          },
          "metadata": {
            "tags": []
          },
          "execution_count": 16
        }
      ]
    },
    {
      "cell_type": "code",
      "metadata": {
        "id": "cehWc-4TDdxM",
        "colab_type": "code",
        "colab": {
          "base_uri": "https://localhost:8080/",
          "height": 480
        },
        "outputId": "e65b8726-3fc4-43b2-a5ab-004339ab974d"
      },
      "source": [
        " news_word2vec.most_similar('指出',topn = 20)"
      ],
      "execution_count": 17,
      "outputs": [
        {
          "output_type": "stream",
          "text": [
            "/usr/local/lib/python3.6/dist-packages/ipykernel_launcher.py:1: DeprecationWarning: Call to deprecated `most_similar` (Method will be removed in 4.0.0, use self.wv.most_similar() instead).\n",
            "  \"\"\"Entry point for launching an IPython kernel.\n",
            "/usr/local/lib/python3.6/dist-packages/gensim/matutils.py:737: FutureWarning: Conversion of the second argument of issubdtype from `int` to `np.signedinteger` is deprecated. In future, it will be treated as `np.int64 == np.dtype(int).type`.\n",
            "  if np.issubdtype(vec.dtype, np.int):\n"
          ],
          "name": "stderr"
        },
        {
          "output_type": "execute_result",
          "data": {
            "text/plain": [
              "[('认为', 0.9168087840080261),\n",
              " ('表示', 0.89305180311203),\n",
              " ('说', 0.8432143926620483),\n",
              " ('强调', 0.8040673136711121),\n",
              " ('称', 0.7831950187683105),\n",
              " ('看来', 0.7539883255958557),\n",
              " ('介绍', 0.7289222478866577),\n",
              " ('坦言', 0.7250171303749084),\n",
              " ('普遍认为', 0.717861533164978),\n",
              " ('建议', 0.7169000506401062),\n",
              " ('透露', 0.7154723405838013),\n",
              " ('中说', 0.6795278787612915),\n",
              " ('特别强调', 0.6763197779655457),\n",
              " ('提到', 0.6730482578277588),\n",
              " ('表明', 0.6695089340209961),\n",
              " ('文说', 0.6639866828918457),\n",
              " ('说明', 0.6570356488227844),\n",
              " ('中称', 0.647436797618866),\n",
              " ('所说', 0.6311272978782654),\n",
              " ('告诉', 0.6227320432662964)]"
            ]
          },
          "metadata": {
            "tags": []
          },
          "execution_count": 17
        }
      ]
    },
    {
      "cell_type": "code",
      "metadata": {
        "id": "rNhSg911oD1n",
        "colab_type": "code",
        "colab": {
          "base_uri": "https://localhost:8080/",
          "height": 480
        },
        "outputId": "8c386997-9ed5-4f4b-978d-756e327bb1e7"
      },
      "source": [
        "news_word2vec.most_similar('表示',topn = 20)"
      ],
      "execution_count": 18,
      "outputs": [
        {
          "output_type": "stream",
          "text": [
            "/usr/local/lib/python3.6/dist-packages/ipykernel_launcher.py:1: DeprecationWarning: Call to deprecated `most_similar` (Method will be removed in 4.0.0, use self.wv.most_similar() instead).\n",
            "  \"\"\"Entry point for launching an IPython kernel.\n",
            "/usr/local/lib/python3.6/dist-packages/gensim/matutils.py:737: FutureWarning: Conversion of the second argument of issubdtype from `int` to `np.signedinteger` is deprecated. In future, it will be treated as `np.int64 == np.dtype(int).type`.\n",
            "  if np.issubdtype(vec.dtype, np.int):\n"
          ],
          "name": "stderr"
        },
        {
          "output_type": "execute_result",
          "data": {
            "text/plain": [
              "[('说', 0.8976008892059326),\n",
              " ('指出', 0.8930517435073853),\n",
              " ('认为', 0.8845583200454712),\n",
              " ('透露', 0.8177427649497986),\n",
              " ('坦言', 0.787850558757782),\n",
              " ('看来', 0.7868240475654602),\n",
              " ('介绍', 0.7685011625289917),\n",
              " ('称', 0.7527901530265808),\n",
              " ('强调', 0.7351047396659851),\n",
              " ('中说', 0.6912063360214233),\n",
              " ('告诉', 0.6637974381446838),\n",
              " ('提到', 0.6616037487983704),\n",
              " ('建议', 0.6566609144210815),\n",
              " ('文说', 0.6498594880104065),\n",
              " ('特别强调', 0.6270115375518799),\n",
              " ('普遍认为', 0.6175589561462402),\n",
              " ('所说', 0.609308123588562),\n",
              " ('时说', 0.6069957613945007),\n",
              " ('呼吁', 0.6038222312927246),\n",
              " ('中称', 0.5960525870323181)]"
            ]
          },
          "metadata": {
            "tags": []
          },
          "execution_count": 18
        }
      ]
    },
    {
      "cell_type": "markdown",
      "metadata": {
        "id": "MegrAr0coK-h",
        "colab_type": "text"
      },
      "source": [
        "### 由上可知，从topn中选取答案再迭代的效果会更好，定义一个迭代"
      ]
    },
    {
      "cell_type": "code",
      "metadata": {
        "id": "F9CCW0HLoHHn",
        "colab_type": "code",
        "colab": {}
      },
      "source": [
        "from collections import defaultdict"
      ],
      "execution_count": 0,
      "outputs": []
    },
    {
      "cell_type": "code",
      "metadata": {
        "id": "kEEGWaCSogHd",
        "colab_type": "code",
        "colab": {}
      },
      "source": [
        "def get_related_words(initial_words, model):\n",
        "    '''\n",
        "    @initial_words are initial words we already now \n",
        "    @model is the word2vec model\n",
        "    '''\n",
        "    unseen = initial_words\n",
        "    \n",
        "    seen = defaultdict(int)\n",
        "    \n",
        "    max_size = 500\n",
        "    \n",
        "    while unseen and len(seen) < max_size:\n",
        "        if len(seen) % 100 == 0: \n",
        "            print('seen length : {}'.format(len(seen)))\n",
        "            \n",
        "        node = unseen.pop(0)\n",
        "                          \n",
        "        new_expanding = [w for w, s in model.most_similar(node, topn = 20)]\n",
        "        unseen += new_expanding\n",
        "        seen[node] += 1\n",
        "    return seen"
      ],
      "execution_count": 0,
      "outputs": []
    },
    {
      "cell_type": "code",
      "metadata": {
        "id": "Lh95YV_6w1Gs",
        "colab_type": "code",
        "colab": {
          "base_uri": "https://localhost:8080/",
          "height": 242
        },
        "outputId": "0e1fd748-6439-4842-be6a-402b1facb0b9"
      },
      "source": [
        "related_words = get_related_words(['说','表示'],  news_word2vec)"
      ],
      "execution_count": 21,
      "outputs": [
        {
          "output_type": "stream",
          "text": [
            "seen length : 0\n"
          ],
          "name": "stdout"
        },
        {
          "output_type": "stream",
          "text": [
            "/usr/local/lib/python3.6/dist-packages/ipykernel_launcher.py:18: DeprecationWarning: Call to deprecated `most_similar` (Method will be removed in 4.0.0, use self.wv.most_similar() instead).\n",
            "/usr/local/lib/python3.6/dist-packages/gensim/matutils.py:737: FutureWarning: Conversion of the second argument of issubdtype from `int` to `np.signedinteger` is deprecated. In future, it will be treated as `np.int64 == np.dtype(int).type`.\n",
            "  if np.issubdtype(vec.dtype, np.int):\n"
          ],
          "name": "stderr"
        },
        {
          "output_type": "stream",
          "text": [
            "seen length : 100\n",
            "seen length : 200\n",
            "seen length : 200\n",
            "seen length : 300\n",
            "seen length : 400\n",
            "seen length : 400\n"
          ],
          "name": "stdout"
        }
      ]
    },
    {
      "cell_type": "code",
      "metadata": {
        "id": "jo3wMo3oycJz",
        "colab_type": "code",
        "colab": {
          "base_uri": "https://localhost:8080/",
          "height": 8517
        },
        "outputId": "a0ab60b6-91d0-4d7f-84a4-2380aa13a0ce"
      },
      "source": [
        "# 按相近的次数排序\n",
        "sorted(related_words.items(), key=lambda x: x[1], reverse=True)"
      ],
      "execution_count": 22,
      "outputs": [
        {
          "output_type": "execute_result",
          "data": {
            "text/plain": [
              "[('指出', 98),\n",
              " ('认为', 87),\n",
              " ('所说', 87),\n",
              " ('说', 84),\n",
              " ('提到', 79),\n",
              " ('表示', 78),\n",
              " ('坦言', 78),\n",
              " ('透露', 73),\n",
              " ('看来', 64),\n",
              " ('告诉', 55),\n",
              " ('介绍', 55),\n",
              " ('特别强调', 52),\n",
              " ('称', 47),\n",
              " ('明说', 41),\n",
              " ('强调', 41),\n",
              " ('中说', 40),\n",
              " ('提及', 37),\n",
              " ('问', 34),\n",
              " ('说明', 34),\n",
              " ('文说', 33),\n",
              " ('中称', 30),\n",
              " ('深有体会', 30),\n",
              " ('相信', 29),\n",
              " ('普遍认为', 27),\n",
              " ('写道', 26),\n",
              " ('建议', 25),\n",
              " ('说道', 25),\n",
              " ('解释', 23),\n",
              " ('表明', 21),\n",
              " ('声称', 20),\n",
              " ('时说', 19),\n",
              " ('看法', 19),\n",
              " ('地说', 19),\n",
              " ('如是说', 18),\n",
              " ('承认', 18),\n",
              " ('而言', 17),\n",
              " ('呼吁', 16),\n",
              " ('直言', 15),\n",
              " ('推测', 15),\n",
              " ('时称', 15),\n",
              " ('觉得', 14),\n",
              " ('列举', 14),\n",
              " ('看好', 13),\n",
              " ('证实', 13),\n",
              " ('引用', 13),\n",
              " ('知道', 13),\n",
              " ('描述', 13),\n",
              " ('坦承', 12),\n",
              " ('还称', 12),\n",
              " ('第三份', 12),\n",
              " ('反复强调', 12),\n",
              " ('原话', 11),\n",
              " ('问道', 11),\n",
              " ('确信', 11),\n",
              " ('阐述', 11),\n",
              " ('充满信心', 10),\n",
              " ('八面玲珑', 10),\n",
              " ('请问', 10),\n",
              " ('问过', 10),\n",
              " ('说法', 9),\n",
              " ('称赞', 9),\n",
              " ('怼', 9),\n",
              " ('回答', 9),\n",
              " ('要求', 9),\n",
              " ('期待', 9),\n",
              " ('来说', 8),\n",
              " ('见到', 8),\n",
              " ('了解', 8),\n",
              " ('获悉', 8),\n",
              " ('据介绍', 8),\n",
              " ('供图', 8),\n",
              " ('丁光宏', 8),\n",
              " ('中国机电产品进出口商会', 8),\n",
              " ('罗超毅', 8),\n",
              " ('测算', 8),\n",
              " ('知情', 8),\n",
              " ('官方', 8),\n",
              " ('北京大学医学部', 8),\n",
              " ('董', 8),\n",
              " ('给出', 8),\n",
              " ('当然', 8),\n",
              " ('谈到', 7),\n",
              " ('并不知道', 7),\n",
              " ('范伟国', 7),\n",
              " ('上称', 7),\n",
              " ('努钦称', 7),\n",
              " ('一峰', 7),\n",
              " ('所指', 7),\n",
              " ('清楚', 7),\n",
              " ('的话', 7),\n",
              " ('毫不客气', 7),\n",
              " ('重申', 7),\n",
              " ('基本准则', 7),\n",
              " ('责无旁贷', 7),\n",
              " ('集中体现', 7),\n",
              " ('直言不讳', 7),\n",
              " ('同德', 7),\n",
              " ('极为重要', 7),\n",
              " ('声言', 7),\n",
              " ('看准', 7),\n",
              " ('非常重视', 7),\n",
              " ('自认', 7),\n",
              " ('利齿', 7),\n",
              " ('批评', 7),\n",
              " ('眼中', 6),\n",
              " ('潘革平', 6),\n",
              " ('看到', 6),\n",
              " ('留意到', 6),\n",
              " ('勇对', 6),\n",
              " ('写信给', 6),\n",
              " ('郭', 6),\n",
              " ('抛出', 6),\n",
              " ('坚信', 6),\n",
              " ('谈论', 6),\n",
              " ('感谢', 6),\n",
              " ('提醒', 6),\n",
              " ('应', 6),\n",
              " ('无国籍', 6),\n",
              " ('猜测', 6),\n",
              " ('质疑', 6),\n",
              " ('事实上', 6),\n",
              " ('因斯', 5),\n",
              " ('一贯', 5),\n",
              " ('高度重视', 5),\n",
              " ('提出', 5),\n",
              " ('明确提出', 5),\n",
              " ('坚定性', 5),\n",
              " ('高度评价', 5),\n",
              " ('所作', 5),\n",
              " ('谈及', 5),\n",
              " ('期望', 5),\n",
              " ('理解', 5),\n",
              " ('但是', 5),\n",
              " ('但', 5),\n",
              " ('深感', 5),\n",
              " ('里亚布', 4),\n",
              " ('简短', 4),\n",
              " ('伊原', 4),\n",
              " ('武说', 4),\n",
              " ('农艺师', 4),\n",
              " ('王明', 4),\n",
              " ('刘', 4),\n",
              " ('祁', 4),\n",
              " ('北京天坛医院', 4),\n",
              " ('西万', 4),\n",
              " ('徐国', 4),\n",
              " ('曹', 4),\n",
              " ('鹏飞', 4),\n",
              " ('通通', 4),\n",
              " ('国利', 4),\n",
              " ('托说', 4),\n",
              " ('张晓明', 4),\n",
              " ('政务司', 4),\n",
              " ('军事科学院', 4),\n",
              " ('转达', 4),\n",
              " ('国际电信联盟', 4),\n",
              " ('国务院发展研究中心', 4),\n",
              " ('锦', 4),\n",
              " ('迈德', 4),\n",
              " ('贾高建', 4),\n",
              " ('联合国人口基金', 4),\n",
              " ('反问', 4),\n",
              " ('他称', 4),\n",
              " ('希望', 4),\n",
              " ('将来', 4),\n",
              " ('指望', 4),\n",
              " ('让', 4),\n",
              " ('肯定', 4),\n",
              " ('想法', 4),\n",
              " ('能为', 4),\n",
              " ('应该', 4),\n",
              " ('或许', 4),\n",
              " ('愿意', 4),\n",
              " ('想', 4),\n",
              " ('意见建议', 4),\n",
              " ('吴恒', 4),\n",
              " ('补充', 4),\n",
              " ('评价', 4),\n",
              " ('必要', 4),\n",
              " ('咨询', 4),\n",
              " ('慎重', 4),\n",
              " ('此外', 4),\n",
              " ('采纳', 4),\n",
              " ('感谢您', 4),\n",
              " ('抨击', 4),\n",
              " ('关注', 4),\n",
              " ('令', 4),\n",
              " ('暗示', 4),\n",
              " ('热议', 4),\n",
              " ('访俄', 4),\n",
              " ('近来', 4),\n",
              " ('担忧', 4),\n",
              " ('招致', 4),\n",
              " ('判断', 4),\n",
              " ('结论', 4),\n",
              " ('感慨', 4),\n",
              " ('感叹', 4),\n",
              " ('口中', 4),\n",
              " ('提问', 3),\n",
              " ('谈谈', 3),\n",
              " ('吗', 3),\n",
              " ('呢', 3),\n",
              " ('发问', 3),\n",
              " ('共见', 3),\n",
              " ('为什么', 3),\n",
              " ('每经', 3),\n",
              " ('作答', 3),\n",
              " ('不久前', 3),\n",
              " ('导报', 3),\n",
              " ('意中', 3),\n",
              " ('严蕾', 3),\n",
              " ('大使', 3),\n",
              " ('国台办', 3),\n",
              " ('记者团', 3),\n",
              " ('库泰萨', 3),\n",
              " ('日媒', 3),\n",
              " ('发布新闻', 3),\n",
              " ('同一天', 3),\n",
              " ('置评', 3),\n",
              " ('未获', 3),\n",
              " ('FOMC', 3),\n",
              " ('中央日报', 3),\n",
              " ('澄清', 3),\n",
              " ('揭秘', 3),\n",
              " ('哈里斯', 3),\n",
              " ('致歉', 3),\n",
              " ('整版', 3),\n",
              " ('做法', 3),\n",
              " ('表述', 3),\n",
              " ('来讲', 3),\n",
              " ('本身', 3),\n",
              " ('来看', 3),\n",
              " ('其实', 3),\n",
              " ('考量', 3),\n",
              " ('所以', 3),\n",
              " ('选择', 3),\n",
              " ('要说', 3),\n",
              " ('平淡无奇', 3),\n",
              " ('眼里', 3),\n",
              " ('心里', 3),\n",
              " ('感触', 3),\n",
              " ('开玩笑', 3),\n",
              " ('聊起', 3),\n",
              " ('敦促', 2),\n",
              " ('主张', 2),\n",
              " ('反对', 2),\n",
              " ('对朝', 2),\n",
              " ('极力', 2),\n",
              " ('停摆', 2),\n",
              " ('施压', 2),\n",
              " ('商讨', 2),\n",
              " ('指责', 2),\n",
              " ('采取措施', 2),\n",
              " ('彭斯说', 2),\n",
              " ('声援', 2),\n",
              " ('日美', 2),\n",
              " ('愿', 2),\n",
              " ('谴责', 2),\n",
              " ('指向', 2),\n",
              " ('具体内容', 2),\n",
              " ('错误', 2),\n",
              " ('知晓', 2),\n",
              " ('佐证', 2),\n",
              " ('至于', 2),\n",
              " ('属实', 2),\n",
              " ('印证', 2),\n",
              " ('预料', 2),\n",
              " ('估计', 2),\n",
              " ('预测', 2),\n",
              " ('释放', 2),\n",
              " ('潜在', 2),\n",
              " ('实际上', 2),\n",
              " ('短浅', 2),\n",
              " ('因此', 2),\n",
              " ('另一方面', 2),\n",
              " ('毕竟', 2),\n",
              " ('意料之中', 2),\n",
              " ('打得', 2),\n",
              " ('难掩', 2),\n",
              " ('出乎', 2),\n",
              " ('感到', 2),\n",
              " ('比不上', 2),\n",
              " ('调侃', 2),\n",
              " ('颇感', 2),\n",
              " ('祝愿', 2),\n",
              " ('谈起', 2),\n",
              " ('倍感', 2),\n",
              " ('说起', 2),\n",
              " ('感激', 2),\n",
              " ('回忆起', 2),\n",
              " ('由衷', 2),\n",
              " ('回忆', 2),\n",
              " ('一席话', 2),\n",
              " ('不已', 2),\n",
              " ('无比', 2),\n",
              " ('黄进', 2),\n",
              " ('志峰', 2),\n",
              " ('精算师', 2),\n",
              " ('邵', 2),\n",
              " ('吴国', 2),\n",
              " ('深有感触', 2),\n",
              " ('福海', 2),\n",
              " ('特别感谢', 2),\n",
              " ('易会', 2),\n",
              " ('先生', 2),\n",
              " ('许臻', 2),\n",
              " ('桂平', 2),\n",
              " ('嘱咐', 2),\n",
              " ('佩服', 2),\n",
              " ('做客', 1),\n",
              " ('奇说', 1),\n",
              " ('走马上任', 1),\n",
              " ('皮尔', 1),\n",
              " ('布隆', 1),\n",
              " ('高一', 1),\n",
              " ('塞巴斯蒂安', 1),\n",
              " ('丽夏', 1),\n",
              " ('库说', 1),\n",
              " ('公开批评', 1),\n",
              " ('穆哈', 1),\n",
              " ('文化部长', 1),\n",
              " ('盛赞', 1),\n",
              " ('迈克', 1),\n",
              " ('薰', 1),\n",
              " ('观点', 1),\n",
              " ('措辞', 1),\n",
              " ('言论', 1),\n",
              " ('赞同', 1),\n",
              " ('表态', 1),\n",
              " ('举动', 1),\n",
              " ('立场', 1),\n",
              " ('态度', 1),\n",
              " ('台湾当局', 1),\n",
              " ('疑虑', 1),\n",
              " ('评论', 1),\n",
              " ('论调', 1),\n",
              " ('用词', 1),\n",
              " ('争论', 1),\n",
              " ('当中', 1),\n",
              " ('无论', 1),\n",
              " ('还是', 1),\n",
              " ('以往', 1),\n",
              " ('角度看', 1),\n",
              " ('不仅仅', 1),\n",
              " ('倒爷', 1),\n",
              " ('展望未来', 1),\n",
              " ('非常感谢', 1),\n",
              " ('西进', 1),\n",
              " ('光明', 1),\n",
              " ('畅想', 1),\n",
              " ('腾飞', 1),\n",
              " ('毋庸置疑', 1),\n",
              " ('乐见', 1),\n",
              " ('千载难逢', 1),\n",
              " ('充满希望', 1),\n",
              " ('前景', 1),\n",
              " ('市场前景', 1),\n",
              " ('发展前景', 1),\n",
              " ('蓬勃发展', 1),\n",
              " ('依赖于', 1),\n",
              " ('联想', 1),\n",
              " ('助益', 1),\n",
              " ('低估', 1),\n",
              " ('受益', 1),\n",
              " ('乐观', 1),\n",
              " ('得益于', 1),\n",
              " ('体奥', 1),\n",
              " ('显而易见', 1),\n",
              " ('朱林军', 1),\n",
              " ('航空业', 1),\n",
              " ('吸引力', 1),\n",
              " ('非常明显', 1),\n",
              " ('常说', 1),\n",
              " ('奥米', 1),\n",
              " ('钟爱', 1),\n",
              " ('信不信', 1),\n",
              " ('爱上', 1),\n",
              " ('惊叹', 1),\n",
              " ('心中', 1),\n",
              " ('自豪', 1),\n",
              " ('少有', 1),\n",
              " ('高佑思', 1),\n",
              " ('献给', 1),\n",
              " ('那位', 1),\n",
              " ('留给', 1),\n",
              " ('正如', 1),\n",
              " ('李义东', 1),\n",
              " ('宝贵机会', 1),\n",
              " ('借此机会', 1),\n",
              " ('赞赏', 1),\n",
              " ('值得称赞', 1),\n",
              " ('回顾', 1),\n",
              " ('言', 1),\n",
              " ('夸赞', 1),\n",
              " ('最令', 1),\n",
              " ('百年纪念', 1),\n",
              " ('聊到', 1),\n",
              " ('尼说', 1),\n",
              " ('太棒了', 1),\n",
              " ('金伯亮', 1),\n",
              " ('人才济济', 1),\n",
              " ('庆幸', 1),\n",
              " ('看过', 1),\n",
              " ('后悔', 1),\n",
              " ('谈过', 1),\n",
              " ('豪说', 1),\n",
              " ('老友', 1),\n",
              " ('本来', 1),\n",
              " ('感觉', 1),\n",
              " ('了不起', 1),\n",
              " ('从没', 1),\n",
              " ('想不到', 1),\n",
              " ('挺', 1),\n",
              " ('没什么', 1),\n",
              " ('可是', 1),\n",
              " ('谈不上', 1),\n",
              " ('实在', 1),\n",
              " ('真是', 1),\n",
              " ('是不是', 1),\n",
              " ('嘛', 1),\n",
              " ('明白', 1),\n",
              " ('也许', 1),\n",
              " ('咱们', 1),\n",
              " ('一脸', 1),\n",
              " ('骂', 1),\n",
              " ('说出', 1),\n",
              " ('流泪', 1),\n",
              " ('忍不住', 1),\n",
              " ('说完', 1),\n",
              " ('想起', 1),\n",
              " ('叮嘱', 1),\n",
              " ('记得', 1),\n",
              " ('夸奖', 1),\n",
              " ('喊', 1),\n",
              " ('王晔摄', 1),\n",
              " ('刘坤摄', 1),\n",
              " ('潘旭摄', 1),\n",
              " ('刘莉莉', 1),\n",
              " ('卫摄', 1),\n",
              " ('张远', 1),\n",
              " ('马平摄', 1),\n",
              " ('王雷摄', 1),\n",
              " ('侯俊摄', 1),\n",
              " ('葛晨', 1),\n",
              " ('徐海静', 1),\n",
              " ('程敏摄', 1),\n",
              " ('李仁虎', 1),\n",
              " ('翟健岚摄', 1),\n",
              " ('陈飞摄', 1),\n",
              " ('朱祥摄', 1),\n",
              " ('敏摄', 1),\n",
              " ('沙达', 1),\n",
              " ('姜克红摄', 1),\n",
              " ('找到', 1),\n",
              " ('听到', 1),\n",
              " ('看见', 1),\n",
              " ('目睹', 1),\n",
              " ('鲜见', 1),\n",
              " ('想到', 1),\n",
              " ('传到', 1),\n",
              " ('听说', 1),\n",
              " ('捕捉到', 1),\n",
              " ('所在位置', 1),\n",
              " ('拍下', 1),\n",
              " ('卖到', 1),\n",
              " ('去过', 1),\n",
              " ('买到', 1),\n",
              " ('沟通了解', 1),\n",
              " ('遇到', 1),\n",
              " ('打开', 1),\n",
              " ('无从', 1),\n",
              " ('听闻', 1),\n",
              " ('误以为', 1),\n",
              " ('却说', 1),\n",
              " ('所称', 1),\n",
              " ('断定', 1),\n",
              " ('从未见过', 1),\n",
              " ('得知', 1),\n",
              " ('竟是', 1),\n",
              " ('当有', 1),\n",
              " ('失联案', 1),\n",
              " ('不知情', 1),\n",
              " ('供认', 1),\n",
              " ('获称', 1),\n",
              " ('戴眼镜', 1),\n",
              " ('来过', 1),\n",
              " ('自杀身亡', 1),\n",
              " ('翻看', 1),\n",
              " ('惊呆', 1),\n",
              " ('法制日报', 1),\n",
              " ('摄影记者', 1),\n",
              " ('地问', 1),\n",
              " ('南方周末', 1),\n",
              " ('创文办', 1),\n",
              " ('打趣', 1),\n",
              " ('钱报', 1),\n",
              " ('太过分', 1),\n",
              " ('王骁', 1),\n",
              " ('痛斥', 1),\n",
              " ('夏奕', 1)]"
            ]
          },
          "metadata": {
            "tags": []
          },
          "execution_count": 22
        }
      ]
    },
    {
      "cell_type": "code",
      "metadata": {
        "id": "69V3o2zCw97R",
        "colab_type": "code",
        "colab": {
          "base_uri": "https://localhost:8080/",
          "height": 34
        },
        "outputId": "3ac05ec2-a15c-4891-ccb5-54b071bf74a2"
      },
      "source": [
        "len(news_word2vec.wv.vocab)"
      ],
      "execution_count": 23,
      "outputs": [
        {
          "output_type": "execute_result",
          "data": {
            "text/plain": [
              "97926"
            ]
          },
          "metadata": {
            "tags": []
          },
          "execution_count": 23
        }
      ]
    },
    {
      "cell_type": "markdown",
      "metadata": {
        "id": "N3GhFMjdy9_p",
        "colab_type": "text"
      },
      "source": [
        "## TFIDF （keywords）\n",
        "#### TF：Term Frequency（一个词在文本中出现的频率，出现的次数越多则该词越重要）\n",
        "#### IDF：Inver Document Frequency （有N个文本，如果一个词在越多的文本中出现，则越不重要，例如：’的‘，’是‘）\n",
        "\n",
        "#### 一个词的重要程度：TF * IDF"
      ]
    },
    {
      "cell_type": "code",
      "metadata": {
        "id": "EoeXmW_ByBR4",
        "colab_type": "code",
        "colab": {}
      },
      "source": [
        "def document_frequency(word):\n",
        "    return sum(1 for n in news_content if word in n)"
      ],
      "execution_count": 0,
      "outputs": []
    },
    {
      "cell_type": "code",
      "metadata": {
        "id": "QpfFVYIZ0GEA",
        "colab_type": "code",
        "colab": {
          "base_uri": "https://localhost:8080/",
          "height": 34
        },
        "outputId": "2ca64bd9-afbb-4b1c-dd98-7cf37f4b959f"
      },
      "source": [
        "document_frequency('的')"
      ],
      "execution_count": 25,
      "outputs": [
        {
          "output_type": "execute_result",
          "data": {
            "text/plain": [
              "70342"
            ]
          },
          "metadata": {
            "tags": []
          },
          "execution_count": 25
        }
      ]
    },
    {
      "cell_type": "code",
      "metadata": {
        "id": "HDOCzITK0KYV",
        "colab_type": "code",
        "colab": {
          "base_uri": "https://localhost:8080/",
          "height": 34
        },
        "outputId": "34e97028-6191-48c0-9afc-21cf5ab33258"
      },
      "source": [
        "document_frequency('新能源')\n",
        "# ‘新能源’ 比 ‘的’ 重要"
      ],
      "execution_count": 26,
      "outputs": [
        {
          "output_type": "execute_result",
          "data": {
            "text/plain": [
              "484"
            ]
          },
          "metadata": {
            "tags": []
          },
          "execution_count": 26
        }
      ]
    },
    {
      "cell_type": "code",
      "metadata": {
        "id": "MqO45n700Phg",
        "colab_type": "code",
        "colab": {}
      },
      "source": [
        "import math"
      ],
      "execution_count": 0,
      "outputs": []
    },
    {
      "cell_type": "code",
      "metadata": {
        "id": "DVCYKt7e0duf",
        "colab_type": "code",
        "colab": {}
      },
      "source": [
        "# 使得 DF 单调递增\n",
        "\n",
        "def idf(word):\n",
        "    '''\n",
        "    we get the inversed document frequency\n",
        "    '''\n",
        "    return math.log10(len(news_content)/document_frequency(word))"
      ],
      "execution_count": 0,
      "outputs": []
    },
    {
      "cell_type": "code",
      "metadata": {
        "id": "9IJE-mws0wHr",
        "colab_type": "code",
        "colab": {
          "base_uri": "https://localhost:8080/",
          "height": 34
        },
        "outputId": "d198198c-015a-4489-c307-a356a060dfc2"
      },
      "source": [
        "idf('的')"
      ],
      "execution_count": 29,
      "outputs": [
        {
          "output_type": "execute_result",
          "data": {
            "text/plain": [
              "0.10514661155144739"
            ]
          },
          "metadata": {
            "tags": []
          },
          "execution_count": 29
        }
      ]
    },
    {
      "cell_type": "code",
      "metadata": {
        "id": "FHQxcA4Z0zIA",
        "colab_type": "code",
        "colab": {
          "base_uri": "https://localhost:8080/",
          "height": 34
        },
        "outputId": "5d520718-377f-40c1-83b8-1f931bf4fecb"
      },
      "source": [
        "idf('新能源')"
      ],
      "execution_count": 30,
      "outputs": [
        {
          "output_type": "execute_result",
          "data": {
            "text/plain": [
              "2.267515962148061"
            ]
          },
          "metadata": {
            "tags": []
          },
          "execution_count": 30
        }
      ]
    },
    {
      "cell_type": "code",
      "metadata": {
        "id": "JyvRjDY603H7",
        "colab_type": "code",
        "colab": {
          "base_uri": "https://localhost:8080/",
          "height": 34
        },
        "outputId": "f482a056-4ed5-4329-a276-f096eeea9d2e"
      },
      "source": [
        "idf('的') < idf('新能源')\n",
        "# ‘新能源’ 比 ‘的’ 重要"
      ],
      "execution_count": 31,
      "outputs": [
        {
          "output_type": "execute_result",
          "data": {
            "text/plain": [
              "True"
            ]
          },
          "metadata": {
            "tags": []
          },
          "execution_count": 31
        }
      ]
    },
    {
      "cell_type": "code",
      "metadata": {
        "id": "XUXKWZHo07Hs",
        "colab_type": "code",
        "colab": {}
      },
      "source": [
        "# 定义 Term Frequency\n",
        "def tf(word, document):\n",
        "    '''\n",
        "    get the tern frequency of a @word in a @document.\n",
        "    '''\n",
        "    words = document.split()\n",
        "    return sum(1 for w in words if w == word)"
      ],
      "execution_count": 0,
      "outputs": []
    },
    {
      "cell_type": "code",
      "metadata": {
        "id": "xTWzBWr81og7",
        "colab_type": "code",
        "colab": {
          "base_uri": "https://localhost:8080/",
          "height": 89
        },
        "outputId": "0bcec6cc-c7b4-4160-f9a5-93731d349ca1"
      },
      "source": [
        "news_content[20]"
      ],
      "execution_count": 33,
      "outputs": [
        {
          "output_type": "execute_result",
          "data": {
            "text/plain": [
              "'原 标题   叙利亚 被   袭机   事件 惹怒 俄罗斯   警告 将 瞄准 美 战机   海外 网 6 月 19 日电   当地 时间 6 月 19 日   俄罗斯国防部 对 美国 军方 击落 叙利亚 飞机 一事 作出 反击   宣布 停止 执行 俄美 两国 签署 的   在 叙 飞行 安全 备忘录   并称 以后 美国 领导 的 国际 联军 所有 的 战机   都 是 俄罗斯 军方 监控 与 瞄准 的 目标   叙利亚 局势 进一步 复杂化   据 纽约时报 消息   由于 美国 军方 今日 击落 了 一架 叙利亚 军机   俄罗斯国防部 发布 消息   自 6 月 19 日起 暂停 执行 俄美间 在 叙利亚 领空   防止 空中 事件 和 保障 行动 期间 飞行 安全   的 相互 谅解 备忘录   要求 美方 指挥部 对此 事件 进行 彻查   结果 与 俄方 共享   公告 称   俄空军 在 叙利亚 领空 执行 任务 的 地区 里   幼发拉底河 西岸 发现 的 任何 飞行物   包括 美国 领导 的 国际 联军 的 飞机 和 无人机   都 将 是 俄罗斯 军方 地面 和 空中 防空 武器 监控 与 瞄准 的 目标   据 叙利亚 军方 声明   当地 时间 6 月 19 日   一架 政府 军机 正 前往 拉卡   Raqqa   市   准备 对 盘踞 于 此 的 IS 武装 分子 进行 打击   却 突然 遭到 美军 袭击   飞行员 至今 失踪   声明 称   这次 袭击 发生 的 时机   是 在 叙利亚 政府 及其 盟国 的 军队 在 与 IS 恐怖分子 的 战斗 中 获得 优势 的 情况 下 发生 的   本来 这些 恐怖分子 已经 在 叙利亚 的 沙漠 中 节节败退   此次   袭机   事件   惹怒   了 俄罗斯   俄罗斯 参议院 国防委员会 副 主席 弗朗茨   克莱 琴 谢夫   Frants   Klintsevich   称 美军 的 行动 是   挑衅 行为   实际上 是 对 叙利亚 的   军事 侵略   该 部门 认为   美军   故意 不 履行 双方 2015 年 签署 的   安全 备忘录   中 规定 的 义务   因此 宣布 暂停 与 美军 在 该 框架 下 的 合作   据 报道   该 协议 一直 是 美 俄 两国 军队 协调 在 该 地区 的 军事 活动 的 关键   俄罗斯   美国   叙利亚   土耳其 等 国家 在 叙利亚 的 诉求 经常 是 相冲突 的   该 协议 就 在 其中 起到 调和 作用   在 特朗普 四月 下令 袭击 叙利亚 空军 之后   俄方 表示 将 暂停 协议   不过 几个 星期 之后 又 重启   这次 时隔 两月 后 再 被 中断   俄罗斯 外长 拉夫罗夫 在 回应 记者 时 也 表示   涉及 到 叙利亚 地面 所 发生 的 事情   毫无疑问   我们 认为 有 必要 尊重 叙利亚 的 主权 和 领土完整   这是 联合国 2254 号 决议 和 其他 文件 规定 的   因此   任何 地面 行动   包括 实施 军事行动 的 参与方   需 得到 大马士革 的 许可   编译   海外 网   杨佳'"
            ]
          },
          "metadata": {
            "tags": []
          },
          "execution_count": 33
        }
      ]
    },
    {
      "cell_type": "code",
      "metadata": {
        "id": "TcZSGWZC1ibb",
        "colab_type": "code",
        "colab": {
          "base_uri": "https://localhost:8080/",
          "height": 34
        },
        "outputId": "4efd279a-fe41-4dca-b4c2-6ec8cbb669c6"
      },
      "source": [
        "tf('俄罗斯', news_content[20])\n",
        "# '俄罗斯' 在这个本文中很重要，出现了7次"
      ],
      "execution_count": 34,
      "outputs": [
        {
          "output_type": "execute_result",
          "data": {
            "text/plain": [
              "7"
            ]
          },
          "metadata": {
            "tags": []
          },
          "execution_count": 34
        }
      ]
    },
    {
      "cell_type": "code",
      "metadata": {
        "id": "24RMxXcB1w-d",
        "colab_type": "code",
        "colab": {}
      },
      "source": [
        "# 一个词的重要程度：TF * IDF\n",
        "def get_keywords(document):\n",
        "    words = set(document.split())\n",
        "    tfidf = [\n",
        "        (word, tf(word,document) * idf(word)) for word in words\n",
        "    ]\n",
        "    tfidf = sorted(tfidf, key = lambda X : X[1], reverse = True)\n",
        "    return tfidf"
      ],
      "execution_count": 0,
      "outputs": []
    },
    {
      "cell_type": "code",
      "metadata": {
        "id": "c6WAPGDh3Amq",
        "colab_type": "code",
        "colab": {
          "base_uri": "https://localhost:8080/",
          "height": 4131
        },
        "outputId": "48cf0339-ef85-4bf9-8653-41909e43e2f4"
      },
      "source": [
        "# 关键字按重要程度排序\n",
        "get_keywords(news_content[20])"
      ],
      "execution_count": 36,
      "outputs": [
        {
          "output_type": "execute_result",
          "data": {
            "text/plain": [
              "[('叙利亚', 28.329791466015845),\n",
              " ('军方', 10.881934963315523),\n",
              " ('俄罗斯', 8.814135250471294),\n",
              " ('袭机', 8.700602664929022),\n",
              " ('美军', 8.53126955300242),\n",
              " ('惹怒', 7.746360155489698),\n",
              " ('瞄准', 7.395668844945861),\n",
              " ('备忘录', 7.221162621979949),\n",
              " ('暂停', 6.566799990688608),\n",
              " ('领空', 6.392972936239964),\n",
              " ('俄罗斯国防部', 6.252573042183294),\n",
              " ('联军', 6.227024466110437),\n",
              " ('军机', 6.202205950146797),\n",
              " ('击落', 6.19005765472241),\n",
              " ('地面', 6.038526213521566),\n",
              " ('IS', 5.98663986294276),\n",
              " ('事件', 5.812346967601025),\n",
              " ('恐怖分子', 5.126390478855883),\n",
              " ('袭击', 5.1212864530050375),\n",
              " ('俄方', 4.91363397249205),\n",
              " ('战机', 4.8624464801768745),\n",
              " ('美国', 4.82034990942493),\n",
              " ('协议', 4.714822658965721),\n",
              " ('执行', 4.5947421127317245),\n",
              " ('该', 4.56652152879515),\n",
              " ('Klintsevich', 4.475240069072811),\n",
              " ('Raqqa', 4.475240069072811),\n",
              " ('Frants', 4.475240069072811),\n",
              " ('一架', 4.456170908383369),\n",
              " ('军队', 4.363018624300659),\n",
              " ('监控', 4.2910065885473125),\n",
              " ('行动', 4.2278612662768245),\n",
              " ('杨佳', 4.17421007340883),\n",
              " ('相冲突', 4.17421007340883),\n",
              " ('2254', 4.17421007340883),\n",
              " ('弗朗茨', 4.17421007340883),\n",
              " ('19', 4.020102591374934),\n",
              " ('俄美间', 3.9981188143531488),\n",
              " ('空中', 3.916088342245674),\n",
              " ('飞行', 3.859865905213974),\n",
              " ('俄空军', 3.776270064736792),\n",
              " ('谢夫', 3.748241341136549),\n",
              " ('飞机', 3.7053613653664472),\n",
              " ('调和', 3.6970888186891675),\n",
              " ('复杂化', 3.6970888186891675),\n",
              " ('节节败退', 3.6513313281284923),\n",
              " ('飞行物', 3.6301420290585544),\n",
              " ('国防委员会', 3.5906334877748805),\n",
              " ('军事', 3.583785585346872),\n",
              " ('幼发拉底河', 3.554421315120436),\n",
              " ('发生', 3.547401863940914),\n",
              " ('安全', 3.4925788579539176),\n",
              " ('签署', 3.4718629858324452),\n",
              " ('两国', 3.4608514479289365),\n",
              " ('海外', 3.4132039356503934),\n",
              " ('两月', 3.3503013324645115),\n",
              " ('盘踞', 3.280263465856756),\n",
              " ('的', 3.259544958094869),\n",
              " ('这次', 3.254101904162825),\n",
              " ('声明', 3.2350112683503642),\n",
              " ('参与方', 3.196486468119982),\n",
              " ('任何', 3.0923238002583218),\n",
              " ('领土完整', 3.0773000604007734),\n",
              " ('彻查', 3.071547731511682),\n",
              " ('规定', 2.980525885314636),\n",
              " ('因此', 2.9361229688913757),\n",
              " ('称', 2.9112206379675003),\n",
              " ('毫无疑问', 2.903143301122292),\n",
              " ('并称', 2.887903334565555),\n",
              " ('领导', 2.8655916458239292),\n",
              " ('拉夫罗夫', 2.8554513107844173),\n",
              " ('俄美', 2.8519907786749106),\n",
              " ('是', 2.8486000482895015),\n",
              " ('目标', 2.8160903640900927),\n",
              " ('防空', 2.812482237391237),\n",
              " ('之后', 2.805735221154921),\n",
              " ('侵略', 2.8000729794094172),\n",
              " ('宣布', 2.7678498187511766),\n",
              " ('挑衅', 2.7648406029560104),\n",
              " ('谅解', 2.762029625622182),\n",
              " ('消息', 2.7525008593432676),\n",
              " ('拉卡', 2.7348773795785672),\n",
              " ('克莱', 2.716832876884925),\n",
              " ('下令', 2.716832876884925),\n",
              " ('西岸', 2.687543500782937),\n",
              " ('纽约时报', 2.6828483795745575),\n",
              " ('盟国', 2.6601052524359976),\n",
              " ('大马士革', 2.6406074627367193),\n",
              " ('编译', 2.6384941034233202),\n",
              " ('反击', 2.617907572641543),\n",
              " ('重启', 2.607969050107363),\n",
              " ('飞行员', 2.5721500820808676),\n",
              " ('四月', 2.5649714974537443),\n",
              " ('中断', 2.557909642966257),\n",
              " ('诉求', 2.5407416178292435),\n",
              " ('军事行动', 2.5307573969226427),\n",
              " ('失踪', 2.5193920329180677),\n",
              " ('参议院', 2.4914634810359257),\n",
              " ('故意', 2.486978472344055),\n",
              " ('时隔', 2.4796048744752612),\n",
              " ('与', 2.4537137991922884),\n",
              " ('指挥部', 2.4431588014613705),\n",
              " ('本来', 2.4364874800807943),\n",
              " ('星期', 2.413285224999697),\n",
              " ('时机', 2.403358061766686),\n",
              " ('一事', 2.352478251718786),\n",
              " ('沙漠', 2.3513884281057256),\n",
              " ('决议', 2.3438352902152797),\n",
              " ('主权', 2.280263465856756),\n",
              " ('当地', 2.2763606855045735),\n",
              " ('空军', 2.26661958519021),\n",
              " ('外长', 2.2473533644591375),\n",
              " ('美方', 2.2430913628166427),\n",
              " ('认为', 2.2372812666956805),\n",
              " ('包括', 2.234991487784871),\n",
              " ('琴', 2.2018529289411273),\n",
              " ('起到', 2.1407863179218802),\n",
              " ('警告', 2.1354574844168135),\n",
              " ('无人机', 2.1023280661027046),\n",
              " ('战斗', 2.1011029750733985),\n",
              " ('实际上', 2.0902299444794363),\n",
              " ('遭到', 2.0825431158131456),\n",
              " ('停止', 2.0417369189032724),\n",
              " ('义务', 2.0369614885802036),\n",
              " ('地区', 2.0353218441540974),\n",
              " ('武器', 2.0301550463534572),\n",
              " ('时间', 2.023490482910132),\n",
              " ('防止', 2.022431763707886),\n",
              " ('据', 2.0148709508633758),\n",
              " ('局势', 2.0128420711738553),\n",
              " ('许可', 2.0118448388599064),\n",
              " ('突然', 2.0118448388599064),\n",
              " ('框架', 1.9937974405705061),\n",
              " ('履行', 1.9904658501246233),\n",
              " ('政府', 1.9854952254428593),\n",
              " ('尊重', 1.9838783752385385),\n",
              " ('必要', 1.9221665384357223),\n",
              " ('回应', 1.9089990457713442),\n",
              " ('和', 1.9054175364514394),\n",
              " ('事情', 1.9027557111975004),\n",
              " ('文件', 1.8977482692355858),\n",
              " ('以后', 1.8958375997133734),\n",
              " ('武装', 1.8793765791645434),\n",
              " ('公告', 1.8606943661967892),\n",
              " ('土耳其', 1.8530260461065158),\n",
              " ('相互', 1.8482157732384654),\n",
              " ('分子', 1.8327755488306898),\n",
              " ('几个', 1.831129868642852),\n",
              " ('日起', 1.8175469534720134),\n",
              " ('叙', 1.8071649176782918),\n",
              " ('经常', 1.8009914735450132),\n",
              " ('及其', 1.7716621224964388),\n",
              " ('今日', 1.7537042368380509),\n",
              " ('至今', 1.7466157828498114),\n",
              " ('协调', 1.736459510588442),\n",
              " ('前往', 1.729125050689476),\n",
              " ('表示', 1.726821179148875),\n",
              " ('特朗普', 1.7191113142513734),\n",
              " ('联合国', 1.6946827489232892),\n",
              " ('共享', 1.6927674449065249),\n",
              " ('对此', 1.6745229907904262),\n",
              " ('打击', 1.6643357884041108),\n",
              " ('涉及', 1.6175056341751821),\n",
              " ('被', 1.6134598170042915),\n",
              " ('作出', 1.6034726007210356),\n",
              " ('将', 1.545878560092938),\n",
              " ('网', 1.5421791044660242),\n",
              " ('6', 1.5245205166874425),\n",
              " ('任务', 1.521802554269716),\n",
              " ('标题', 1.5214803773395824),\n",
              " ('2015', 1.5174732029251579),\n",
              " ('双方', 1.5038095845908956),\n",
              " ('对', 1.4845736916575052),\n",
              " ('行为', 1.4557083845415557),\n",
              " ('进行', 1.4527608784257635),\n",
              " ('结果', 1.4518504132661365),\n",
              " ('准备', 1.4508912516920613),\n",
              " ('保障', 1.4508912516920613),\n",
              " ('不过', 1.4431588014613708),\n",
              " ('国际', 1.4423953645747496),\n",
              " ('优势', 1.4233161530267047),\n",
              " ('作用', 1.4090384231455615),\n",
              " ('主席', 1.406683174000448),\n",
              " ('得到', 1.3959382024211884),\n",
              " ('此次', 1.380652491983786),\n",
              " ('所有', 1.3771734788648127),\n",
              " ('关键', 1.3662242985616806),\n",
              " ('一直', 1.3658865452210769),\n",
              " ('都', 1.3631787027312763),\n",
              " ('却', 1.359296892133756),\n",
              " ('期间', 1.343514501466062),\n",
              " ('美', 1.3138963565456305),\n",
              " ('由于', 1.312078694095793),\n",
              " ('其他', 1.2557428645602486),\n",
              " ('实施', 1.2470108609067616),\n",
              " ('发现', 1.2407227855601246),\n",
              " ('进一步', 1.229398514849984),\n",
              " ('俄', 1.2007743187101634),\n",
              " ('要求', 1.1977836677477431),\n",
              " ('部门', 1.1881851914021428),\n",
              " ('这些', 1.1750795321214589),\n",
              " ('又', 1.1611620772935982),\n",
              " ('报道', 1.1491091123620165),\n",
              " ('情况', 1.136518033129207),\n",
              " ('副', 1.128365732636506),\n",
              " ('号', 1.1255740849761815),\n",
              " ('获得', 1.1108767144570804),\n",
              " ('下', 1.1034740042614133),\n",
              " ('发布', 1.07938969305403),\n",
              " ('已经', 1.0650253933933065),\n",
              " ('我们', 1.0544045137855218),\n",
              " ('其中', 1.0514482560548046),\n",
              " ('合作', 1.0438226916205142),\n",
              " ('再', 1.0040461831031258),\n",
              " ('这是', 0.9835516098796154),\n",
              " ('活动', 0.9610466256158627),\n",
              " ('需', 0.9542328166642072),\n",
              " ('了', 0.9176671364033866),\n",
              " ('原', 0.8745938334104167),\n",
              " ('国家', 0.7959030385520173),\n",
              " ('所', 0.7723215128652974),\n",
              " ('就', 0.7375704417161694),\n",
              " ('此', 0.7165552191903702),\n",
              " ('正', 0.6973060202350319),\n",
              " ('日电', 0.6879921887408572),\n",
              " ('也', 0.6785963652876947),\n",
              " ('在', 0.6597142250616869),\n",
              " ('里', 0.6039006879729503),\n",
              " ('自', 0.55393517748699),\n",
              " ('等', 0.5441043941837564),\n",
              " ('到', 0.5374380896146497),\n",
              " ('市', 0.5320094416645152),\n",
              " ('后', 0.5276919882265982),\n",
              " ('中', 0.5156135775503204),\n",
              " ('不', 0.5034695796412538),\n",
              " ('于', 0.4763126521918638),\n",
              " ('有', 0.44307813505580745),\n",
              " ('时', 0.4428765345685335),\n",
              " ('记者', 0.30906660129308033),\n",
              " ('月', 0.1394862754398906),\n",
              " ('年', 0.06309324538635713),\n",
              " ('日', 0.05085505597918966)]"
            ]
          },
          "metadata": {
            "tags": []
          },
          "execution_count": 36
        }
      ]
    },
    {
      "cell_type": "markdown",
      "metadata": {
        "id": "Q9nSpb8A41pG",
        "colab_type": "text"
      },
      "source": [
        "## Word Cloud"
      ]
    },
    {
      "cell_type": "code",
      "metadata": {
        "id": "B2yxi1Zm3pMA",
        "colab_type": "code",
        "colab": {}
      },
      "source": [
        "import wordcloud\n",
        "import os"
      ],
      "execution_count": 0,
      "outputs": []
    },
    {
      "cell_type": "code",
      "metadata": {
        "id": "LKZMnLxF49zZ",
        "colab_type": "code",
        "colab": {}
      },
      "source": [
        "wc = wordcloud.WordCloud(font_path = './SourceHanSerif-ExtraLight.ttc')"
      ],
      "execution_count": 0,
      "outputs": []
    },
    {
      "cell_type": "code",
      "metadata": {
        "id": "gvv1OxQzCe3b",
        "colab_type": "code",
        "colab": {
          "base_uri": "https://localhost:8080/",
          "height": 34
        },
        "outputId": "cbbe6983-7d43-4ea7-bf19-daf63d46f017"
      },
      "source": [
        "os.path.isfile('./SourceHanSerif-ExtraLight.ttc')"
      ],
      "execution_count": 39,
      "outputs": [
        {
          "output_type": "execute_result",
          "data": {
            "text/plain": [
              "True"
            ]
          },
          "metadata": {
            "tags": []
          },
          "execution_count": 39
        }
      ]
    },
    {
      "cell_type": "code",
      "metadata": {
        "id": "AzWpuYqJ50fi",
        "colab_type": "code",
        "colab": {}
      },
      "source": [
        "import matplotlib.pyplot as plt"
      ],
      "execution_count": 0,
      "outputs": []
    },
    {
      "cell_type": "code",
      "metadata": {
        "id": "9QZe__JX56fw",
        "colab_type": "code",
        "colab": {}
      },
      "source": [
        "%matplotlib inline"
      ],
      "execution_count": 0,
      "outputs": []
    },
    {
      "cell_type": "code",
      "metadata": {
        "id": "b0pjvKfB59dk",
        "colab_type": "code",
        "colab": {}
      },
      "source": [
        "Russia_news_keywords = get_keywords(news_content[20])"
      ],
      "execution_count": 0,
      "outputs": []
    },
    {
      "cell_type": "code",
      "metadata": {
        "id": "-UV9JMiH6SZK",
        "colab_type": "code",
        "colab": {}
      },
      "source": [
        "Russia_news_keywords_dict = {w: score for w, score in Russia_news_keywords}"
      ],
      "execution_count": 0,
      "outputs": []
    },
    {
      "cell_type": "code",
      "metadata": {
        "id": "gY_TCLqB6lWH",
        "colab_type": "code",
        "colab": {
          "base_uri": "https://localhost:8080/",
          "height": 236
        },
        "outputId": "b731860d-190a-4307-efa6-151756827737"
      },
      "source": [
        "plt.imshow(wc.generate_from_frequencies(Russia_news_keywords_dict))"
      ],
      "execution_count": 44,
      "outputs": [
        {
          "output_type": "execute_result",
          "data": {
            "text/plain": [
              "<matplotlib.image.AxesImage at 0x7fe128b524e0>"
            ]
          },
          "metadata": {
            "tags": []
          },
          "execution_count": 44
        },
        {
          "output_type": "display_data",
          "data": {
            "image/png": "[encoded data removed]",
            "text/plain": [
              "<Figure size 432x288 with 1 Axes>"
            ]
          },
          "metadata": {
            "tags": []
          }
        }
      ]
    },
    {
      "cell_type": "markdown",
      "metadata": {
        "id": "sX7nWXV_X0AU",
        "colab_type": "text"
      },
      "source": [
        "## 可以生成带背景图片形状的词云"
      ]
    },
    {
      "cell_type": "code",
      "metadata": {
        "id": "BFvJZxklNcs1",
        "colab_type": "code",
        "colab": {}
      },
      "source": [
        "social_news = get_keywords(news_content[4])"
      ],
      "execution_count": 0,
      "outputs": []
    },
    {
      "cell_type": "code",
      "metadata": {
        "id": "jL-sRS_8N6uj",
        "colab_type": "code",
        "colab": {}
      },
      "source": [
        "from PIL import Image\n",
        "import numpy as np"
      ],
      "execution_count": 0,
      "outputs": []
    },
    {
      "cell_type": "code",
      "metadata": {
        "id": "DYJ8OaomOysO",
        "colab_type": "code",
        "colab": {}
      },
      "source": [
        "xigua_mask = np.array(Image.open('./xigua.jpg'))"
      ],
      "execution_count": 0,
      "outputs": []
    },
    {
      "cell_type": "code",
      "metadata": {
        "id": "EOidhpRePD4C",
        "colab_type": "code",
        "colab": {}
      },
      "source": [
        "wordcloud_with_mask = wordcloud.WordCloud(\n",
        "    font_path = './SourceHanSerif-ExtraLight.ttc', \n",
        "    mask = xigua_mask,\n",
        ")"
      ],
      "execution_count": 0,
      "outputs": []
    },
    {
      "cell_type": "code",
      "metadata": {
        "id": "HzI4N09bPb1K",
        "colab_type": "code",
        "colab": {
          "base_uri": "https://localhost:8080/",
          "height": 286
        },
        "outputId": "f979c5c0-9830-4e0e-d165-758f3c413be0"
      },
      "source": [
        "# 不是原图图片太小\n",
        "plt.imshow(wordcloud_with_mask.generate_from_frequencies({w:s for w, s in social_news[:20]}))"
      ],
      "execution_count": 53,
      "outputs": [
        {
          "output_type": "execute_result",
          "data": {
            "text/plain": [
              "<matplotlib.image.AxesImage at 0x7fe128bfc198>"
            ]
          },
          "metadata": {
            "tags": []
          },
          "execution_count": 53
        },
        {
          "output_type": "display_data",
          "data": {
            "image/png": "[encoded data removed]",
            "text/plain": [
              "<Figure size 432x288 with 1 Axes>"
            ]
          },
          "metadata": {
            "tags": []
          }
        }
      ]
    },
    {
      "cell_type": "markdown",
      "metadata": {
        "id": "v9--V3mU02ou",
        "colab_type": "text"
      },
      "source": [
        "## TFIDF Vectorized\n",
        "#### 将两篇文章用TFIDF表示成两个向量，当有一个新的文章，我们可以通过向量的夹角判断这篇文章更接近哪一篇文章。"
      ]
    },
    {
      "cell_type": "code",
      "metadata": {
        "id": "M3APwp6xPtFZ",
        "colab_type": "code",
        "colab": {}
      },
      "source": [
        "from sklearn.feature_extraction.text import TfidfVectorizer"
      ],
      "execution_count": 0,
      "outputs": []
    },
    {
      "cell_type": "code",
      "metadata": {
        "id": "96Fju54v1mqo",
        "colab_type": "code",
        "colab": {}
      },
      "source": [
        "# 只取出现频率最高的1000个单词的TFIDF值\n",
        "vectorized = TfidfVectorizer(max_features = 10000)"
      ],
      "execution_count": 0,
      "outputs": []
    },
    {
      "cell_type": "code",
      "metadata": {
        "id": "QdSscdwB1tjA",
        "colab_type": "code",
        "colab": {}
      },
      "source": [
        "#取一万篇文章\n",
        "sample_num = 10000\n",
        "sub_samples = news_content[:sample_num]"
      ],
      "execution_count": 0,
      "outputs": []
    },
    {
      "cell_type": "code",
      "metadata": {
        "id": "RPVT3JQL2G7q",
        "colab_type": "code",
        "colab": {}
      },
      "source": [
        "X = vectorized.fit_transform(sub_samples)"
      ],
      "execution_count": 0,
      "outputs": []
    },
    {
      "cell_type": "code",
      "metadata": {
        "id": "GX7EzING2P-F",
        "colab_type": "code",
        "colab": {
          "base_uri": "https://localhost:8080/",
          "height": 34
        },
        "outputId": "e00c7159-b74c-42be-ffa4-ba419852ca61"
      },
      "source": [
        "# 10000篇文章，10000个TFIDF值\n",
        "X.shape"
      ],
      "execution_count": 114,
      "outputs": [
        {
          "output_type": "execute_result",
          "data": {
            "text/plain": [
              "(10000, 10000)"
            ]
          },
          "metadata": {
            "tags": []
          },
          "execution_count": 114
        }
      ]
    },
    {
      "cell_type": "code",
      "metadata": {
        "id": "DLf-DZVJ2X0g",
        "colab_type": "code",
        "colab": {
          "base_uri": "https://localhost:8080/",
          "height": 119
        },
        "outputId": "94d0a033-af4a-448e-a992-78d6d60b1a83"
      },
      "source": [
        "# 因为总的单词太多了，而一篇文章中很多单词是没出现过的，所以对于一篇文章来说，TF大多数为0，大多数位置为0\n",
        "# 通过 np.where() 函数可以知道那些位置有值\n",
        "np.where(X[0].toarray())"
      ],
      "execution_count": 116,
      "outputs": [
        {
          "output_type": "execute_result",
          "data": {
            "text/plain": [
              "(array([0, 0, 0, 0, 0, 0, 0, 0, 0, 0, 0, 0, 0, 0, 0, 0, 0, 0, 0, 0, 0, 0,\n",
              "        0, 0, 0, 0, 0, 0, 0, 0, 0, 0, 0, 0, 0]),\n",
              " array([  37,   56,  408, 1062, 1082, 1683, 1890, 1962, 1990, 2724, 2791,\n",
              "        2897, 4125, 4240, 4259, 4525, 4637, 4656, 4937, 5012, 5756, 5848,\n",
              "        5874, 5925, 6008, 6047, 6293, 6931, 7371, 7392, 7645, 7710, 9084,\n",
              "        9149, 9636]))"
            ]
          },
          "metadata": {
            "tags": []
          },
          "execution_count": 116
        }
      ]
    },
    {
      "cell_type": "code",
      "metadata": {
        "id": "14HTaF3P2gUj",
        "colab_type": "code",
        "colab": {
          "base_uri": "https://localhost:8080/",
          "height": 34
        },
        "outputId": "58aa71cf-d6b2-4a84-8ba6-13bc65c27629"
      },
      "source": [
        "# 比如：第37位有值\n",
        "X[0].toarray()[0][37]"
      ],
      "execution_count": 117,
      "outputs": [
        {
          "output_type": "execute_result",
          "data": {
            "text/plain": [
              "0.09800434081833037"
            ]
          },
          "metadata": {
            "tags": []
          },
          "execution_count": 117
        }
      ]
    },
    {
      "cell_type": "code",
      "metadata": {
        "id": "dbojyZlv3N1W",
        "colab_type": "code",
        "colab": {
          "base_uri": "https://localhost:8080/",
          "height": 34
        },
        "outputId": "2f6c851c-6909-4be5-a315-9fe1751b9bb8"
      },
      "source": [
        "# 比如：第98位没有值\n",
        "X[0].toarray()[0][98]"
      ],
      "execution_count": 118,
      "outputs": [
        {
          "output_type": "execute_result",
          "data": {
            "text/plain": [
              "0.0"
            ]
          },
          "metadata": {
            "tags": []
          },
          "execution_count": 118
        }
      ]
    },
    {
      "cell_type": "code",
      "metadata": {
        "id": "h5U8-CLz3U2k",
        "colab_type": "code",
        "colab": {}
      },
      "source": [
        "# 随机从10000篇文章中选择两篇文章\n",
        "import random\n",
        "document_id_1, document_id_2 = random.randint(0,10000),random.randint(0,10000)"
      ],
      "execution_count": 0,
      "outputs": []
    },
    {
      "cell_type": "code",
      "metadata": {
        "id": "r4ltNnQ23pP2",
        "colab_type": "code",
        "colab": {
          "base_uri": "https://localhost:8080/",
          "height": 34
        },
        "outputId": "ffcc1fc4-9a4b-4427-89c3-4ed696b65c1b"
      },
      "source": [
        "document_id_1"
      ],
      "execution_count": 127,
      "outputs": [
        {
          "output_type": "execute_result",
          "data": {
            "text/plain": [
              "5812"
            ]
          },
          "metadata": {
            "tags": []
          },
          "execution_count": 127
        }
      ]
    },
    {
      "cell_type": "code",
      "metadata": {
        "id": "QCqX3o8u3rLG",
        "colab_type": "code",
        "colab": {
          "base_uri": "https://localhost:8080/",
          "height": 34
        },
        "outputId": "64005ccf-25f2-474c-dd47-14b092c9e74c"
      },
      "source": [
        "document_id_2"
      ],
      "execution_count": 128,
      "outputs": [
        {
          "output_type": "execute_result",
          "data": {
            "text/plain": [
              "1883"
            ]
          },
          "metadata": {
            "tags": []
          },
          "execution_count": 128
        }
      ]
    },
    {
      "cell_type": "code",
      "metadata": {
        "id": "K1Bb793b3s6A",
        "colab_type": "code",
        "colab": {
          "base_uri": "https://localhost:8080/",
          "height": 89
        },
        "outputId": "6777b3cf-7a1f-4ed3-d86a-dd570857de57"
      },
      "source": [
        "news_content[document_id_1]"
      ],
      "execution_count": 129,
      "outputs": [
        {
          "output_type": "execute_result",
          "data": {
            "text/plain": [
              "'原 标题   央视 辟谣   国产 食盐   添加剂   堪比 砒霜   纯属 胡说八道   近日   网上 流传 一些 关于 质疑 国产 食盐 安全 的 文章   网传 文章 提到   国产 食盐 里面 有种 可怕 的 添加剂   亚铁氰化钾   在生活中   烹饪 食物 的 时候   食用盐 遇 高温 有 可能 会 使 亚铁氰化钾 分解成 氰化钾 这种 剧毒 物质   在 10 秒钟 内能 使人 丧失 意志   几分钟 内 可以 毒死 一人   网传 文章 中 还 提到   奥运会   世博会 特供 食盐 及 出口 食盐 均 不 含 亚铁氰化钾   这一 传言 在 网上 迅速 传播   很多 网友 面对 传言 真假难辨   忧心忡忡   国产 食盐 究竟 安全 吗   国产 食盐 中 真的 含有 亚铁氰化钾 吗   这种 物质 会 对 人体 产生 危害 吗   为了 查证 传言 的 真实性   我们 记者 首先 来到 了 北京 的 一家 大型 连锁 超市   在 调味品 区 的 货架 上   记者 发现   这里 一共 有 12 种 不同 种类 的 食盐   其中 国产 食盐 有 9 种   除了 竹盐 和 湖盐 这 两种 盐 里面 没有 添加   亚铁氰化钾   外   其他 7 种 食盐   包括 低钠 岩盐   深井 岩盐 和 海藻 岩盐 里 都 标明 含有 亚铁氰化钾   看来 网传 文章 提到 的   国产 食盐 含有 亚铁氰化钾 这一 说法 还是 真实 的   亚铁氰化钾 是 一种 合法 的 食品 添加剂   那么 食盐 中抗 结剂 亚铁氰化钾 真的 像 传言 说 的 那样 是 一种 慢性 毒药 吗   含有 亚铁氰化钾 的 国产 食盐 对人 体会 不会 造成 伤害 呢   为此   记者 找到 了 中华预防医学会 健康 传播 分会 常务委员 钟凯   钟凯 在 食品安全 方面 有着 多年 的 研究 和 经验   他 告诉 记者   亚铁氰化钾 是 一种 合法 的 食品 添加剂   国产 食盐 中 的 亚铁氰化钾 长期 食用 并 不会 给 人体 带来 伤害   中华预防医学会 健康 传播 分会 常务委员 钟凯   其实 最 简单 的 判别 标准   它 是 一种 合法 的 食品 添加剂   那么 在 批准 它 使用 之前 要 经过 很多很多 科学研究 和 数据 支持   包括 了 大家 关心 的   比如说 急性毒性   慢性 毒性   有没有 致畸   致癌 等等 各种各样 的 毒性   全部 都 筛查 一遍 之后   没有 问题 才 会 批准 它 使用   所以 不会 有 这种 慢性 危害   我们 在 批准 一种 添加剂 的 时候   已经 考虑 到 了 大家 想到 的 长期 大量 吃会 不会 有 问题   钟凯 介绍 说   亚铁氰化钾 是 低毒 物质   按照 中国 国家标准 的 规定   食盐 中 的 抗结 计以 亚铁 氰根计 含量 不得 超过 每公斤 10 毫克   钟凯 中华预防医学会 健康 传播 分会 常务委员   根据 世界卫生组织 和 国际 粮农组织 专家 委员会 的 评估 数据   亚铁氰化钾 要 造成 人 健康 上 负面效应   至少 每天   成年人 可能 要 摄入 1   5 毫克   那么 如果 按照 我们 国家标准 规定 这个 量 来 推算 的话   相当于 你 每天 要 吃 3 两 左右 的 食盐   而 我们 正常人 一天 吃 的 食盐 能到 20 克 的话   就 已经 非常 非常 咸了   亚铁氰化钾 在 高温 下 可以 分解 产生 氰化钾 这种 剧毒 物质 吗   钟凯 告诉 记者   氰化钾 确实 是 一种 剧毒 物质   但是 它 和 食盐 中抗 结剂 亚铁氰化钾 完全 不同   中华预防医学会 健康 传播 分会 常务委员 钟凯   亚铁氰化钾 它 听 起来 是 亚铁氰化钾   但是 它 和 氰化钾   其实 差别 非常 大   氰化钾 里面 的 氰根   它 是 可以 游离 出来 产生 毒性   在 亚铁氰化钾 里面   氰根 是 跟 铁 离子 结合   它 的 结合力 非常 强   结合 得 很 紧密   所以 它 化学性质 很 稳定   不会 释放 这种 有毒 的 氰化物   所以 它 俩 不是 一 回事   完全 不是 一 回事   氰化钾 是 剧毒 物   但是 亚铁氰化钾 它 基本上 就是 一个 低毒 或者 无毒 的 东西   食用盐 遇 高温 有 可能 会 使 亚铁氰化钾 分解成 氰化钾   这种 说法 正确 吗   中华预防医学会 健康 传播 分会 常务委员 钟凯   这种 说法 肯定 是 不靠 谱   因为 亚铁氰化钾 本身 化学性质 是 非常 稳定 的   那 如果 你 要 让 它 分解   倒 不是 说 不行   你 大概 需要 400   摄氏   度 的 温度   我们 在 家里 做饭   做菜 的 时候   到 200   摄氏   度 的 时候 就 已经 要 烧焦 了   所以 你 在 家里 是 不 可能 让 它 分解   做菜 的 时候   钟凯 做 了 一个 假设   即使 食盐 中 亚铁氰化钾 在 高温 的 状态 下   真的 分解 出 了 氰化钾   想要 达到 让 人 中毒 的 剂量 也 是 完全 不 可能 的   中华预防医学会 健康 传播 分会 常务委员 钟凯   首先 亚铁氰化钾 在 烹饪 过程 当中 是 不会 分解 出 氰化物 的   退 一万步 说   它 真的 分解 了   那 食盐 里面   它 分解 出 氰化物 的 量 要 造成 一个 成年人 中毒 的话   大概 你 需要 一次性 吃 几十公斤 的 盐   钟凯 告诉 记者   亚铁氰化钾 用作 抗结剂 不仅 在 中国 适用   在 国外 一些 国家 的 标准   食盐 中 含有 亚铁氰化钾 也 是 符合规定 和 标准 的   中华预防医学会 健康 传播 分会 常务委员 钟凯   在 国际标准 当中   亚铁 氰化钠   亚铁氰化钾   亚铁 氰化 钙 都 是 可以 用于 食盐 抗结   那么 它 还 没有 做 限量 规定   在 美国 标准 当中   亚铁 氰化钠 是 可以 用于 食盐 抗结   中华预防医学会 健康 传播 分会 常务委员 钟凯   那么 在 欧盟 的 标准 和 日本 的 标准 当中   都 是 亚铁 氰化钠   亚铁氰化钾   亚铁 氰化 钙 都 可以 用于 食盐 抗结   我国 在 盐 中 允许 添加 的 食品 添加剂 可以 作为 抗结剂 使用 的 一共 有 5 种   即 亚铁氰化钾   亚铁 氰化钠   柠檬酸 铁铵   二氧化硅 和 硅酸钙   那 为什么 我国 主要 使用 亚铁氰化钾 作为 抗结剂 呢   中华预防医学会 健康 传播 分会 常务委员 钟凯   食盐 使用 抗结剂 主要 是 防止 结块   那么 使用 哪 一种 抗结剂   实际上 主要 考虑 到 一个 是 企业 它 的 工艺   一个 是 成本 以及 它 抗结 效果   选择 了 亚铁氰化钾 或者 亚铁 氰化钠   都 是因为 它 的 价格便宜   效果 好   那么   这些 在 盐 和 代盐 制品 中 添加 的 抗结剂 究竟 是 什么 样子 呢   大部分 食盐 为什么 会 选择 亚铁氰化钾 作为 抗结剂 呢   记者 来到 了 中 盐 国本 盐业 有限公司   在 这里 我们 终于 见到 了 亚铁氰化钾 的 样品   中盐 国本 盐业 有限公司 研发 质检 部 部长 崔 志强 告诉 记者   亚铁氰化钾   俗名 黄血盐 钾   黄血盐   是 一种 浅黄色 结晶 颗粒   中盐 国本 盐业 有限公司 研发 质检 部 部长 崔 志强   亚铁氰化钾   黄色 的 黄血盐   黄色 的 一个 产品   那么 这个 添加剂 是 联合国 国际 食品 法典 委员会 允许 使用 的   也 是 咱们 国家 的 食品 添加剂 委员会 允许 使用 的 这种 食品 添加剂   为了 能够 直观 的 感受 到 亚铁氰化钾 在 原料 盐 和 成品 盐 当中 的 含量   中盐 国本 公司 的 实验员 随机 抽取 了 两个 样本   原料 盐   无 碘 精制 盐 和 成品 盐   精制 食用盐 进行 检测   原料 盐 和 成品 盐 各取 5 克 之后   实验员 又 拿 起 了 一个 塑料瓶   从 这个 里面 也 取 了 5 克 白色 的 样本   这 里面 装 的 是 什么 呢   中盐 国本 盐业 有限公司 研发 质检 部 化验员 张 玲玲   这个 是 实验室 的 分析 纯 氯化钠   它 是 用来 做 这个 试验 空白   试验 对比   三个 样本 取样 之后   实验员 在 试管 里 加入 了 蒸馏水   震荡 直至 完全 溶解   紧接着   实验员 又 拿出 一个 棕色 的 瓶子   中盐 国本 盐业 有限公司 研发 质检 部 化验员 张 玲玲   这 里面 装 的 是 硫酸亚铁 溶液   然后 硫酸亚铁 和 盐 里面 的 亚铁氰化钾 反应   生成 普鲁士 蓝   实验员 在 试管 里 加入 了 4 毫升 硫酸亚铁 溶液   又 加入 了 50 毫升 蒸馏水 定容   十分钟 静置 之后   三个 试管 里面 的 溶液   颜色 发生 了 一些 改变   中盐 国本 盐业 有限公司 研发 质检 部 化验员 张 玲玲   然后 很 明显   2 号 颜色 最深   3 号 跟 1 号 比 的话 也 是 颜色 要 深 一些   就是 它 不同 浓度 呈现 出来 颜色 也 是 不 一样   蓝色 程度 也 是 不 一样   接下来   实验员 要 把 三个 试管 里 的 溶液 分装 到 比色皿 里面   通过 分光 温度计 得出 数值   对 2 号 和 3 号 试管 里 亚铁氰化钾 的 具体 含量 进行 测定   中盐 国本 盐业 有限公司 研发 质检 部 化验员 张 玲玲   这是 刚才 所测 的 原料 无 碘 精制 盐 分析 报告   可以 看 一下   亚铁氰化钾   以 亚铁 氰根计 是 8   06 毫克 每千克   属于 合格 范围   这是 刚才 所 检测 的 3 号   成品 精制 食用盐 的 分析 报告   这是 这个 检测 结果 亚铁氰化钾   以 亚铁 氰根计 含量 是 4   36 毫克 每千克   记者 了解 到   盐业 公司 在 保证 原料 盐 的 各项 指标 合格 安全 之后   才 会 根据 生产 的 需要   进行 大量 的 流水线 生产   原料 盐 在 经过 再次 清洁 之后   会 进入 投料 车间   我们 市场 见到 的 加碘盐   低 钠盐 等 各种 品种 的 盐   就 需要 在 这个 环节 进行 加料 再 加工   添加 了 各种 配料 的 原料 盐   再 被 送 进 这个 大 搅拌罐 里   混合 均匀 之后 会 传送 到 灌装 车间   中盐 国本 盐业 有限公司 生产 主管 张 万峰   这是 全部 自动化 的   而且 大伙儿 可以 看到 整个 流程 全部 是 密封 的   在 灌装 车间 里   分别 有 立式 和 袋装 两种 食盐 的 包装   从 封袋 到 包装   也 全部 是 自动化 完成   配料 添加 符合 国家标准   生产 全部 密封 环境   自动化 的 搅拌   灌装   分装 和 包装   使得 进入 我们 千家万户 的 食用盐   有效 地 保证 了 食用 的 安全性   网传 文章 中 提到   奥运会   世博会   亚运会   大运会 拒绝 转基因 食品   奥运会   世博会   亚运会 以 防止 恐怖主义 的 级别 保证 食盐 安全   以防 短期 来华 的 外国 友人 误食 亚铁氰化钾   这种 说法 可信 吗   中国 盐业 总公司 的 盐 生产量 现在 不仅 在 亚洲 是 第一位   同时 也 是 世界 前十名   也 是 我们 中国 最大 的 盐业 生产 企业 和 销售 企业   中国 盐业 总公司 盐品 营销中心 副 主任 崔静 告诉 记者   特供 盐 的 概念 是 根本 不 存在 的   在 国家 一些 大型 活动 上 使用 的 盐都 是 市面上 随处可见 的 含有 亚铁氰化钾 的 普通 食盐   中国 盐业 总公司 盐品 营销中心 副 主任 崔静   我们 中盐 北京 公司 还有 中盐 上海 公司   是 我们 两个 位于 重要 直辖市 的 两个 企业   常年 保证 国家 一些 大型 活动   然后 还有 中央 国家机关 的 一些 食盐 的 保障 供应 任务   比方说 这个 2008 年 的 奥运会   还有 上海 的 世博会   包括 我们 最近 关注 的 这个 一带 一路 的 峰会   都 是 我们 这 两个 企业 进行 供应   我们 特意 求证 了 一下 这个 事情   根本 不 存在 特供 这个 概念   其实 我们 供应 的 产品 也 都 是 普通 市面上   我们 销售 的 一些 产品   另外 呢   我们 还 特意 求证 了 浙江省 盐业 集团公司   因为 前不久 举世瞩目 的 G20 峰会 是 在 杭州 举行   浙江省 盐业 集团 作为 食盐 的   供应   单位   现在 也 是 明确提出 来 对方 并 没有 要求   对 亚铁氰化钾 有 特别 要求   提   供 也 是 普通 市面上 这些 产品   网传 文章 提到 我国 出口 的 食盐 都 不 含有 亚铁氰化钾   这种 说法 是 真实 的 吗   记者 了解 到   在 中 盐 金坛 盐化 有限责任 公司 的 食盐 大约 有 95   供应 国外市场   5   供应 上海 市场   其中 有 26 个 国家 的 出口 盐都 添加 有 亚铁氰化钾   中盐 金坛 盐化 有限责任 公司 品质 部副 部长 谢兴胜   我们 这个 产品 就是 供应 到 国内 和 供应 到 国外 是 同一个 质量   同一个 标准   同一个 生产线 出来 的   中间商 把 我们 的 产品   25 公斤 一袋 包装   成品   分装 以后 再 卖 到 美国 和 欧洲   欧洲地区 去   这些 国家 对 这个 亚铁氰化钾 都 从来 没有 提出 过 异议   谢兴胜 告诉 记者   在 出口 的 26 个 国家 当中   唯独 不 包含 日本   也就是说 出口 到 日本 的 盐都 是 不 添加 亚铁氰化钾 的   这是 为什么 呢   中盐 金坛 盐化 有限责任 公司 品质 部副 部长 谢兴胜   日本 例外   主要 是 由于 日本   因为 是 岛国   就是   日本   老百姓 从古到今 都 是 用 海盐   用 海盐 颗粒 比较 大   流动性 比较 好   没有 必要 加 亚铁氰化钾 做抗 结剂   老百姓 只是 一个 用 盐 的 习惯   不 加 亚铁氰化钾   所以 日本 的话 法律 上 没有 禁止   但是 老百姓 一般 不 认可 加 亚铁氰化钾   所以 造成 了 有些 媒体 或者 有些 老百姓 认为   日本 为什么 不 加 亚铁氰化钾   就是 由于 亚铁氰化钾 有 风险 的 这个 造成 误会   网传 文章 提到   上个世纪 90 年代   美国 有 一个 标准 中 提到 食盐 中 可以 加入 13   mg   kg 以下 的 亚铁 氰化物   但是 前提条件 是   限于 食品 制造 或 加工 必须 时 使用   国际 食品 法典 委员会 及 日本   澳大利亚 和 新西兰   欧盟 都 允许 亚铁氰化钾 作为 食品 添加剂 使用   然而   据 目前 了解 到 的 信息   这些 国家 是 不用 的   真的 是 这样 吗   记者 在 北京 的 一家 大型 连锁 超市 里 看到   这里 售卖 的 进口 食盐 有 3 种   这 3 种 食盐 均 为 海盐   除 一款 澳洲 海盐 标明 没有 添加 抗结剂 外   另外 两种 进口 盐 并 没有 明确 标明 食盐 成分 里 是否 含有 亚铁氰化钾   不过   记者 发现   这 其中 的 一种 进口 海盐 里 含有 一种 名为   亚铁 氰化钠   的 添加剂   而 这种 添加剂 与 亚铁氰化钾 作用 一样   都 是 可以 当做 食品 的 抗结剂 来 使用   随后   记者 又 来到 了 位于 北京 朝阳区 的 一家 进口 超市   在 这里   记者 看到 调味品 货架 上 有 很多 进口 食盐   来自 意大利   法国   美国   澳大利亚 和 日本 5 个 国家   一共 6 个 品牌 11 个 品种   这 其中 有 一部分 进口 食盐 配料 成分 里 并 没有 明显 标注 含有 抗结剂   但是   记者 也 发现 有 来自 4 个 国家 的 5 款 盐都 添加 了 一种 叫做 亚铁 氰化钠 的 抗结剂   他们 分别 是 产于 意大利 的 阳光 细粒 海盐   产于 荷兰 的 莫 盾牌 无 碘盐   产于 法国 的 鲸鱼 牌 粗 海盐 180g 和 产于 法国 鲸鱼 牌 美国 细 海盐 750g 以及 产于 澳大利亚 的 亚 赛克 萨 烹饪 海盐   那么 是不是 在 国外 销售 的 洋品牌 食盐 就 不 含 亚铁 氰化物 抗结剂 呢   网传 文章 提到   国内 出售 的 莫顿 牌盐 添加剂 里 赫然 写 着 亚铁 氰化钠   而 国外 亚马逊 上 出售 的 莫顿 牌 无 碘盐   人家 抗 凝结剂 使用 的 是 硅酸钙   真实情况 是 这样 吗   记者 在 亚马逊 美国 官 网上 真的 找到 了 网传 文章 中 提到 的 抗结剂 为 硅酸钙 的 莫顿 牌 海盐   不过   我们 也 发现 了 同 品牌 的 另 一款 盒装 粗盐   成分 中 明确 标明 含有 亚铁 氰化钠   然而 这 款 添加 了 亚铁 氰化物 的 盐 反而 卖得 更好   竟然 成为 亚马逊 的 畅销 盐   而 在 另 一个 国外 购物 网站 上   我们 还 发现 了 一款 产 自 瑞士 的 名为 Jurasel 牌 的 食盐   它 的 成分表 中 明确 标明 含有 亚铁氰化钾   这 也 是 国产 食盐 中 最常 添加 的 抗结剂   为了 进一步 求证 国外 食盐 是否 含有 亚铁 氰化物 这一抗 结剂   我们   消费 主张   栏目组 向 海外 网友 寻求 了 帮助   随后 陆续 收到 了 来自 美国   英国 和 法国 网友 发来 的 所在地 超市 的 视频   在 美国 网友 提供 的 视频 中   美国 超市 里 售卖 的 莫 盾牌 的 一款 海盐 标明 含有 亚铁 氰化钠   而 在 英国 格拉斯哥 市 的 一家 名为 Waitrose 的 超市   这里 售卖 的 食盐   除了 亚 赛克 萨 的 一款 食盐 没有 标明 抗结剂   Waitrose 的 普通 袋装 盐   普通 瓶装 盐 和 精品 水晶 海盐 以及 一款 Losalt 牌 食盐 的 成分表 中 都 明确 标明 含有 亚铁 氰化钠   此外   法国巴黎 网友 也 在 当地 超市 中 发现 一款 名为 ceselos 的 食用盐   成分 中标 有 抗凝剂 为 E535   而 E535 就是 欧盟 标准 中 允许 使用 的 亚铁 氰化钠   事实证明   无论是 在 国内 销售 的 进口 食盐 还是 国外 超市 以及 外国 购物 网站 销售 的 洋品牌 食盐   大都 含有 亚铁氰化钾   亚铁 氰化钠 这样 的 抗结剂   而 记者 在 北京 的 进口 超市 里 也 发现 了 很多 国产 的 食盐 在 售卖   几位 外国 的 消费者   他们 都 不 相信 最近 网上 疯传 的 中国 食盐 所 含 亚铁氰化钾 有毒 的 传言   他们 一直 在 买 中国 产 的 食盐   他们 认为 中国 食盐 很 安全   国家 盐 产品质量 监督 检验 中心   对 我国 所有 食盐 进行 检测 和 研究   也 参与 制定 食用盐 的 国家标准   国家 盐 产品质量 监督 检验 中心 副 主任 赵毅   从事 食用盐 的 研究 有 二十年   他 对 近期 出现 的 一些 传言 也 予以 了 驳斥   赵毅 国家 盐 产品质量 监督 检验 中心 副 主任   像 帖子 里面 说   咱们 国内 抗结剂 添加 的 种类   就 说明   网友   完全 不 了解 咱们 国家标准 规定 的 哪些 种类   咱们 国家 一些 相关 规定   第二 说 这个 亚铁氰化钾 和 碘酸钾 会 发生 剧烈 反应   这些 都 是 缺乏 一些 基本 化学 常识'"
            ]
          },
          "metadata": {
            "tags": []
          },
          "execution_count": 129
        }
      ]
    },
    {
      "cell_type": "code",
      "metadata": {
        "id": "FpZz7oRb3zaB",
        "colab_type": "code",
        "colab": {
          "base_uri": "https://localhost:8080/",
          "height": 89
        },
        "outputId": "76e725a6-11fb-4729-811c-62b5387fef2d"
      },
      "source": [
        "news_content[document_id_2]"
      ],
      "execution_count": 130,
      "outputs": [
        {
          "output_type": "execute_result",
          "data": {
            "text/plain": [
              "'在 仓库 仓单 的 基础 上   黄大豆 2 号 引入 了 厂库 仓单 制度   同时 大幅 优化 期转现 交割   调整 滚动 交割   为 买卖双方 客户 参与 交割 提供 便利   大商所 相关 负责人 表示   引入 厂库 交割 制度   能够 提供 数量 充足 的 厂库 仓单   确保 交割 安全   同时 通过 优化 期转现 和 滚动 交割 制度   增加 通过 交割 买入 进口 大豆 的 便利性   引入 厂库 交割 制度   大商所 将 已 进入 大豆 压榨 工厂 的 进口 大豆 纳入 可 交割 范围   能够 增加 可 供 交割 量   确保 交割 安全   由于 相关 管理 规定 不 允许 进入 大豆 加工厂 的 大豆 外流   且 进口 大豆 只能 用于 压榨   大商所 通过 制度 安排   允许 买方 客户 接到 厂库 仓单 后   委托 厂库 将 大豆 加工 成 豆粕 和 豆油   而 厂库 应当 接受 货主 委托   按照 78   5   的 豆粕 得率   18   5   的 豆油 得率   提供 符合 交易所 规定 的 期货 交割 质量标准 的 豆粕 和 豆油   货主 委托 厂库 加工 的   应当 在 提货 前向 厂库 支付 加工 费用   包括 大豆 委托 加工费 和 豆粕 包装费   该 负责人 讲解 了 厂库 交割 的 具体操作 方式   卖方 注册 信用 仓单 时   须 按照 交易所 规定 缴纳 100   的 现金 保证金 或 120   的 银行 保函   仓单 注销 后   买方 提货 前 需向 交割 厂库 支付 交易所 规定 的 委托 加工 费用   暂定为 160 元   吨   交易所 将 根据 市场 情况 变化 适时 调整 委托 加工费   在 出库 流程 上   他 说   厂库 出库 时   货主 应当 在 标准 仓单 注销 日后   不 含 注销 日   的 4 个 自然 日内   含 当日   到 厂库 提取 豆粕 和 豆油   厂库 应当 在 标准 仓单 注销 日后   不 含 注销 日   的 4 个 自然 日内   含 当日   开始 发货   货主 提取 豆粕   豆油 时   厂库 应当 将 其 视同 期货 交割 商品   优先 办理 出库   出库 时   厂库 应当 在 货主 的 监督 下 进行 抽样   经 双方 确认 后 将 样品 封存   并 将 样品 保留 至 发货 日后 的 30 个 自然 日   作为 发生 质量 争议 时 的 处理 依据'"
            ]
          },
          "metadata": {
            "tags": []
          },
          "execution_count": 130
        }
      ]
    },
    {
      "cell_type": "code",
      "metadata": {
        "id": "2jk132yl32XX",
        "colab_type": "code",
        "colab": {}
      },
      "source": [
        "# 讲两个文章用TFIDF向量化\n",
        "vector_of_d1 = X[document_id_1].toarray()[0]\n",
        "vector_of_d2 = X[document_id_2].toarray()[0]"
      ],
      "execution_count": 0,
      "outputs": []
    },
    {
      "cell_type": "code",
      "metadata": {
        "id": "4gVwk1734Rce",
        "colab_type": "code",
        "colab": {
          "base_uri": "https://localhost:8080/",
          "height": 816
        },
        "outputId": "41ceb151-b344-45ca-fef7-619a2ed76f1e"
      },
      "source": [
        "# 这些位置是有值的\n",
        "np.where(vector_of_d1)"
      ],
      "execution_count": 132,
      "outputs": [
        {
          "output_type": "execute_result",
          "data": {
            "text/plain": [
              "(array([   8,   12,   25,   37,   47,   96,   97,  106,  131,  134,  153,\n",
              "         160,  178,  231,  238,  335,  338,  345,  346,  357,  389,  398,\n",
              "         405,  433,  439,  441,  453,  456,  471,  477,  483,  486,  531,\n",
              "         604,  670,  673,  693,  711,  727,  735,  746,  755,  774,  790,\n",
              "         824,  832,  860,  878,  905,  908,  933,  951,  965,  967,  969,\n",
              "        1014, 1015, 1021, 1027, 1044, 1056, 1062, 1074, 1087, 1089, 1123,\n",
              "        1126, 1142, 1143, 1163, 1164, 1171, 1219, 1220, 1221, 1222, 1261,\n",
              "        1265, 1266, 1272, 1296, 1307, 1348, 1365, 1374, 1377, 1387, 1404,\n",
              "        1410, 1411, 1433, 1440, 1495, 1500, 1509, 1522, 1523, 1549, 1575,\n",
              "        1582, 1588, 1589, 1593, 1599, 1667, 1674, 1683, 1743, 1759, 1771,\n",
              "        1787, 1890, 1909, 1928, 1962, 1967, 1970, 1986, 1988, 1993, 1996,\n",
              "        2031, 2125, 2126, 2150, 2153, 2163, 2169, 2192, 2194, 2212, 2223,\n",
              "        2260, 2320, 2321, 2334, 2346, 2351, 2379, 2414, 2419, 2483, 2486,\n",
              "        2488, 2492, 2496, 2613, 2672, 2675, 2710, 2733, 2765, 2770, 2802,\n",
              "        2803, 2805, 2881, 2887, 2892, 2897, 2899, 2907, 2964, 2968, 2981,\n",
              "        2982, 2996, 3005, 3016, 3048, 3049, 3066, 3070, 3104, 3106, 3108,\n",
              "        3110, 3118, 3130, 3211, 3236, 3243, 3251, 3253, 3257, 3258, 3268,\n",
              "        3284, 3286, 3408, 3409, 3511, 3555, 3599, 3613, 3629, 3645, 3660,\n",
              "        3661, 3662, 3712, 3764, 3802, 3818, 3832, 3845, 3893, 3895, 3913,\n",
              "        3916, 3978, 3981, 3982, 4033, 4065, 4068, 4078, 4149, 4199, 4221,\n",
              "        4263, 4267, 4277, 4285, 4304, 4325, 4341, 4347, 4355, 4359, 4364,\n",
              "        4396, 4561, 4615, 4620, 4624, 4680, 4694, 4727, 4728, 4730, 4780,\n",
              "        4807, 4858, 4861, 4874, 4875, 4884, 4900, 4907, 4915, 4921, 4925,\n",
              "        4928, 4937, 4939, 4947, 4990, 4992, 4996, 5075, 5083, 5130, 5153,\n",
              "        5195, 5218, 5246, 5255, 5314, 5354, 5356, 5357, 5397, 5432, 5444,\n",
              "        5468, 5528, 5559, 5568, 5598, 5648, 5666, 5704, 5727, 5756, 5787,\n",
              "        5791, 5792, 5804, 5806, 5807, 5826, 5871, 5899, 5911, 5924, 5939,\n",
              "        5947, 5950, 5958, 5959, 5984, 6031, 6104, 6109, 6115, 6151, 6158,\n",
              "        6162, 6165, 6170, 6182, 6183, 6184, 6194, 6195, 6221, 6224, 6237,\n",
              "        6265, 6267, 6286, 6293, 6332, 6343, 6351, 6357, 6364, 6365, 6405,\n",
              "        6406, 6407, 6434, 6472, 6504, 6509, 6547, 6554, 6558, 6563, 6576,\n",
              "        6592, 6604, 6619, 6622, 6670, 6672, 6673, 6683, 6701, 6767, 6768,\n",
              "        6828, 6833, 6834, 6888, 6892, 6899, 6921, 6959, 6970, 6977, 7025,\n",
              "        7032, 7036, 7048, 7061, 7064, 7069, 7074, 7176, 7192, 7198, 7207,\n",
              "        7226, 7241, 7242, 7244, 7250, 7251, 7262, 7287, 7292, 7303, 7304,\n",
              "        7307, 7352, 7371, 7373, 7395, 7438, 7462, 7466, 7515, 7525, 7531,\n",
              "        7539, 7589, 7597, 7603, 7623, 7646, 7652, 7666, 7711, 7731, 7735,\n",
              "        7764, 7813, 7845, 7847, 7850, 7856, 7925, 7931, 7932, 7934, 7941,\n",
              "        7971, 8015, 8023, 8028, 8056, 8097, 8109, 8136, 8168, 8243, 8260,\n",
              "        8277, 8330, 8447, 8458, 8474, 8490, 8530, 8531, 8551, 8596, 8618,\n",
              "        8622, 8656, 8657, 8748, 8749, 8750, 8764, 8843, 8853, 8860, 8951,\n",
              "        8966, 9007, 9018, 9027, 9042, 9074, 9075, 9084, 9085, 9089, 9090,\n",
              "        9093, 9111, 9113, 9119, 9127, 9129, 9131, 9137, 9149, 9170, 9212,\n",
              "        9227, 9261, 9269, 9307, 9312, 9335, 9338, 9364, 9367, 9391, 9431,\n",
              "        9456, 9478, 9504, 9524, 9530, 9558, 9582, 9598, 9611, 9614, 9641,\n",
              "        9642, 9663, 9666, 9680, 9689, 9772, 9778, 9794, 9803, 9804, 9809,\n",
              "        9810, 9811, 9812, 9826, 9934, 9981]),)"
            ]
          },
          "metadata": {
            "tags": []
          },
          "execution_count": 132
        }
      ]
    },
    {
      "cell_type": "code",
      "metadata": {
        "id": "qVcJAaUv4UNo",
        "colab_type": "code",
        "colab": {}
      },
      "source": [
        "# 随机再取一个文章\n",
        "random_choose = random.randint(0,10000)"
      ],
      "execution_count": 0,
      "outputs": []
    },
    {
      "cell_type": "code",
      "metadata": {
        "id": "858uUKnc4n-V",
        "colab_type": "code",
        "colab": {
          "base_uri": "https://localhost:8080/",
          "height": 34
        },
        "outputId": "4a71404c-c604-47cf-f95e-61042996ab24"
      },
      "source": [
        "random_choose"
      ],
      "execution_count": 134,
      "outputs": [
        {
          "output_type": "execute_result",
          "data": {
            "text/plain": [
              "3168"
            ]
          },
          "metadata": {
            "tags": []
          },
          "execution_count": 134
        }
      ]
    },
    {
      "cell_type": "code",
      "metadata": {
        "id": "rymUzucb4pwb",
        "colab_type": "code",
        "colab": {
          "base_uri": "https://localhost:8080/",
          "height": 89
        },
        "outputId": "5bec087f-a351-4abe-9e8d-521546f24e66"
      },
      "source": [
        "news_content[random_choose]"
      ],
      "execution_count": 135,
      "outputs": [
        {
          "output_type": "execute_result",
          "data": {
            "text/plain": [
              "'参考消息 网 6 月 16 日 报道   韩媒称   中国 国家 质量 监督 检验 检疫 总局 12 日 发布 针对 203 家 境外 生产 企业   211 家 境外 出口商   217 家 进口商 的 进口 食品 化妆品 安全 风险 预警 通告   韩国 14 家 厂商 和 10 家 出口商 上榜   据 韩联社 6 月 16 日 报道   上述 企业 产品 过去 三年 曾 被 拒绝 入境   并 达到 2014 年 公告   进口 食品 不良 记录 管理 实施细则   所 规定 批次   相关 产品 再次 进口 报检 时   应 按照 控制措施 的 要求   提交 相应 检测 报告 或 合格 证明 材料   被 拉 黑 企业 满足   解除 风险 预警 条件   后   申请 解除 预警 方可 恢复正常 报检   报道 称   继 4 月 中方 对 乐天 等 韩国 食品 及 化妆品 未予 准入 后   又拉响 韩企 风险 预警   引发 对   限韩 反萨   力度 加大 的 担忧   韩国 驻华使馆 相关 人士 就此 表示   小微 企业 产品 出口 时 或 未 准备充分   此次 风险 预警 与   萨德   无关   资料 图片   威海 的 一家 韩国 乐天 百货   新华社 记者   郭绪雷   摄   点击 图片 进入 下 一页'"
            ]
          },
          "metadata": {
            "tags": []
          },
          "execution_count": 135
        }
      ]
    },
    {
      "cell_type": "code",
      "metadata": {
        "id": "gBcSfkgi4yaQ",
        "colab_type": "code",
        "colab": {}
      },
      "source": [
        "# 比较第三篇文章和之前两篇文章之间的余弦距离\n",
        "from scipy.spatial.distance import cosine"
      ],
      "execution_count": 0,
      "outputs": []
    },
    {
      "cell_type": "code",
      "metadata": {
        "id": "ADtQbWF84-mm",
        "colab_type": "code",
        "colab": {}
      },
      "source": [
        "def distance(v1, v2): return cosine(v1, v2)"
      ],
      "execution_count": 0,
      "outputs": []
    },
    {
      "cell_type": "code",
      "metadata": {
        "id": "GlZeeblW5DXv",
        "colab_type": "code",
        "colab": {
          "base_uri": "https://localhost:8080/",
          "height": 34
        },
        "outputId": "8c477c69-8f45-4fc6-b2cd-518ffd7ba658"
      },
      "source": [
        "# 与 document1 距离更近，两篇文章更接近\n",
        "# 但是由于数据量不够，文章太短，两者差距不大\n",
        "distance(X[random_choose].toarray()[0], vector_of_d1)"
      ],
      "execution_count": 138,
      "outputs": [
        {
          "output_type": "execute_result",
          "data": {
            "text/plain": [
              "0.9426933581684707"
            ]
          },
          "metadata": {
            "tags": []
          },
          "execution_count": 138
        }
      ]
    },
    {
      "cell_type": "code",
      "metadata": {
        "id": "5FilMNIT5YUP",
        "colab_type": "code",
        "colab": {
          "base_uri": "https://localhost:8080/",
          "height": 34
        },
        "outputId": "9c90b59a-8fe5-42f0-8398-c09492a1e9b0"
      },
      "source": [
        "distance(X[random_choose].toarray()[0], vector_of_d2)"
      ],
      "execution_count": 139,
      "outputs": [
        {
          "output_type": "execute_result",
          "data": {
            "text/plain": [
              "0.9602508914277632"
            ]
          },
          "metadata": {
            "tags": []
          },
          "execution_count": 139
        }
      ]
    },
    {
      "cell_type": "code",
      "metadata": {
        "id": "bXpK_Kk45b6H",
        "colab_type": "code",
        "colab": {}
      },
      "source": [
        ""
      ],
      "execution_count": 0,
      "outputs": []
    }
  ]
}