{
  "nbformat": 4,
  "nbformat_minor": 0,
  "metadata": {
    "colab": {
      "name": "assignment_about_beijing_subway.ipynb",
      "version": "0.3.2",
      "provenance": [],
      "collapsed_sections": [],
      "include_colab_link": true
    },
    "kernelspec": {
      "name": "python3",
      "display_name": "Python 3"
    }
  },
  "cells": [
    {
      "cell_type": "markdown",
      "metadata": {
        "id": "view-in-github",
        "colab_type": "text"
      },
      "source": [
        "<a href=\"https://colab.research.google.com/github/xiaorui777/NLP/blob/master/assignment_about_beijing_subway.ipynb\" target=\"_parent\"><img src=\"https://colab.research.google.com/assets/colab-badge.svg\" alt=\"Open In Colab\"/></a>"
      ]
    },
    {
      "cell_type": "markdown",
      "metadata": {
        "id": "O7c0OBgKqNSS",
        "colab_type": "text"
      },
      "source": [
        "# Assignments for Week-03"
      ]
    },
    {
      "cell_type": "markdown",
      "metadata": {
        "id": "9QKDTQmGqOEn",
        "colab_type": "text"
      },
      "source": [
        "## 1. Re-code the titanic machine learning\n",
        "\n",
        "Ans：https://github.com/xiaorui777/NLP/tree/master/NLP-titanic"
      ]
    },
    {
      "cell_type": "markdown",
      "metadata": {
        "id": "4UcxAcqVqOHN",
        "colab_type": "text"
      },
      "source": [
        "### 1. Random Choose Method to get optimal k and b\n",
        "Ans：见versoin1.py\n",
        "\n",
        "### 2.Supervised Direction to get optimal k and b\n",
        "Ans：见version2.py\n",
        "\n",
        "### 3.Gradient Descent to get optimal k and b\n",
        "Ans：见version3.py"
      ]
    },
    {
      "cell_type": "markdown",
      "metadata": {
        "id": "a4BBt0gNqOJ5",
        "colab_type": "text"
      },
      "source": [
        "## 2. Answer following questions:"
      ]
    },
    {
      "cell_type": "markdown",
      "metadata": {
        "id": "FIheZeVnqOMg",
        "colab_type": "text"
      },
      "source": [
        "### 1. Why we need machine learning methods instead of creating a complicated formula?\n",
        "Ans:  \n",
        "- 因为现实世界的问题太过于复杂，人们有时候很难去找到其中的规律并通过一个公式抽象出来。\n",
        "\n",
        "- 而且对于抽象一个复杂的公式，人们很难去找到最好的最适合的参数，所以我们需要机器学习，让机器自己去拟合那些复杂的参数。"
      ]
    },
    {
      "cell_type": "markdown",
      "metadata": {
        "id": "iMhb2U3rqOPe",
        "colab_type": "text"
      },
      "source": [
        "### 2. Wha't's the disadvantages of the 1st Random Choosen methods in our course?\n",
        "Ans:\n",
        "\n",
        "版本1\n",
        "- 随机生成 k，b ，将最小值保留下来\n",
        "  缺点：速度较慢\n",
        "- 结果：loop = 3983（共10000次）\n",
        "       loss = 61.144827"
      ]
    },
    {
      "cell_type": "markdown",
      "metadata": {
        "id": "Z938YIw7qOVA",
        "colab_type": "text"
      },
      "source": [
        "### 3. Is the 2nd method supervised direction better than 1st one? What's the disadvantages of the 2nd supversied directin method?\n",
        "Ans:\n",
        "\n",
        "版本2\n",
        "- 给 k，b 一个变化方向，假设下一步模型效果更好了，那么就让k，b继续沿着该方向变化，否则则沿相反方向变化\n",
        "- 比版本1优化：提供了一个变化方向，提高了效率\n",
        "- 缺点：如果一开始的方向不是最好的方向，很容易陷入局部最小值\n",
        "- 结果：loop = 9368（共10000次）—— 很快达到 Version1 的收敛\n",
        "       loss = 61.144827\n",
        "\n",
        "       loop = 108\n",
        "       loss = 46.729902"
      ]
    },
    {
      "cell_type": "markdown",
      "metadata": {
        "id": "1uME8SSOqOYH",
        "colab_type": "text"
      },
      "source": [
        "### 4. Why do we use Derivative / Gredient to fit a target function?\n",
        "Ans: \n",
        "- 我们的目标是使 loss 最小，通过 梯度下降/导数 我们可以根据 loss 的变化不断找到一组最好的k，b的值。"
      ]
    },
    {
      "cell_type": "markdown",
      "metadata": {
        "id": "SfPg1gGdrUKn",
        "colab_type": "text"
      },
      "source": [
        "### 5. In the words 'Gredient Descent', what's the Gredient and what's the Descent?\n",
        "Ans:\n",
        "- 梯度即函数在某一点最大的方向导数，函数沿梯度方向函数有最大的变化率。\n",
        "- 直观地看，在x轴上某一点处，如果f’(x)>0，说明f(x)的函数值在x点沿x轴正方向是趋于增加的；如果f’(x)<0，说明f(x)的函数值在x点沿x轴正方向是趋于减少的。\n",
        "- 下降即我们要找最小值，所以是往负方向找，直到找到最小值。"
      ]
    },
    {
      "cell_type": "markdown",
      "metadata": {
        "id": "LZchAklFrUND",
        "colab_type": "text"
      },
      "source": [
        "### 6. What's the advantages of the 3rd gradient descent method compared to the previous methods?\n",
        "Ans:\n",
        "\n",
        "版本3\n",
        "- 梯度下降，使k，b沿着导数的反方向下降，直到loss为最小值\n",
        "- 根据 loss 对 k，b 进行修改，可以找到全局最优点，效率也较高\n",
        "- 结果： loop = 1\n",
        "        loss = 63.9425615 (参数更多的时候这个版本更好用)"
      ]
    },
    {
      "cell_type": "markdown",
      "metadata": {
        "id": "kf-PHpYurURt",
        "colab_type": "text"
      },
      "source": [
        "### 7. Using the simple words to describe: What's the machine leanring.\n",
        "Ans:\n",
        "\n",
        "- 机器学习是一种数据分析技术，让计算机执行人和动物与生俱来的活动：从经验中学习。\n",
        "- 机器学习算法使用计算方法直接从数据中“学习”信息，而不依赖于预定方程模型。\n",
        "- 当可用于学习的样本数量增加时，这些算法可自适应提高性能。"
      ]
    },
    {
      "cell_type": "markdown",
      "metadata": {
        "id": "3AfCpT66rUPp",
        "colab_type": "text"
      },
      "source": [
        "## 3. Finish the search problem\n"
      ]
    },
    {
      "cell_type": "markdown",
      "metadata": {
        "id": "_9Mf5w8HqObB",
        "colab_type": "text"
      },
      "source": [
        "  Please using the search policy to implement an agent. This agent receives two input, one is @param start station and the other is @param destination. Your agent should give the optimal route based on Beijing Subway system."
      ]
    },
    {
      "cell_type": "markdown",
      "metadata": {
        "id": "bicJHaahrnmE",
        "colab_type": "text"
      },
      "source": [
        "### Dataflow:"
      ]
    },
    {
      "cell_type": "markdown",
      "metadata": {
        "id": "UL1-OoW0rno4",
        "colab_type": "text"
      },
      "source": [
        "**1. Get data from web page.**\n",
        "- a. Get web page source from: https://baike.baidu.com/item/%E5%8C%97%E4%BA%AC%E5%9C%B0%E9%93%81/408485\n",
        "\n",
        "- b. You may need @package requests page to get the response via url\n",
        "\n",
        "- c. You may need save the page source to file system.\n",
        "\n",
        "- d. The target of this step is get station information of all the subway lines;\n",
        "\n",
        "- e. You may need install @package beautiful soup to get the url information, or just use > Regular Expression to get the url. Our recommendation is that using the Regular Expression and BeautiflSoup both.\n",
        "\n",
        "- f. You may need BFS to get all the related page url from one url. Question: Why do we use BFS to traverse web page (or someone said, build a web spider)? Can DFS do this job? which is better?"
      ]
    },
    {
      "cell_type": "code",
      "metadata": {
        "id": "SchnZd_HKoeD",
        "colab_type": "code",
        "colab": {}
      },
      "source": [
        "import re\n",
        "import requests\n",
        "from bs4 import BeautifulSoup"
      ],
      "execution_count": 0,
      "outputs": []
    },
    {
      "cell_type": "code",
      "metadata": {
        "id": "rNNxdo84KohQ",
        "colab_type": "code",
        "colab": {}
      },
      "source": [
        "# 法一：beautifulsoup\n",
        "import sys\n",
        "from urllib.request import urlopen\n",
        "\n",
        "html = urlopen('https://baike.baidu.com/item/%E5%8C%97%E4%BA%AC%E5%9C%B0%E9%93%81/408485')\n",
        "soup = BeautifulSoup(html.read())"
      ],
      "execution_count": 0,
      "outputs": []
    },
    {
      "cell_type": "code",
      "metadata": {
        "id": "sm5dOWM0_bnd",
        "colab_type": "code",
        "colab": {
          "base_uri": "https://localhost:8080/",
          "height": 1380
        },
        "outputId": "d609487b-8bb0-4de8-fae4-07651f9a3a55"
      },
      "source": [
        "soup.find_all('a',target=\"_blank\",text=re.compile(r'北京地铁\\w+线'))"
      ],
      "execution_count": 3,
      "outputs": [
        {
          "output_type": "execute_result",
          "data": {
            "text/plain": [
              "[<a href=\"/item/%E5%8C%97%E4%BA%AC%E5%9C%B0%E9%93%811%E5%8F%B7%E7%BA%BF\" target=\"_blank\">北京地铁1号线</a>,\n",
              " <a href=\"/item/%E5%8C%97%E4%BA%AC%E5%9C%B0%E9%93%811%E5%8F%B7%E7%BA%BF\" target=\"_blank\">北京地铁1号线</a>,\n",
              " <a href=\"/item/%E5%8C%97%E4%BA%AC%E5%9C%B0%E9%93%8113%E5%8F%B7%E7%BA%BF\" target=\"_blank\">北京地铁13号线</a>,\n",
              " <a href=\"/item/%E5%8C%97%E4%BA%AC%E5%9C%B0%E9%93%8113%E5%8F%B7%E7%BA%BF\" target=\"_blank\">北京地铁13号线</a>,\n",
              " <a href=\"/item/%E5%8C%97%E4%BA%AC%E5%9C%B0%E9%93%81%E5%85%AB%E9%80%9A%E7%BA%BF\" target=\"_blank\">北京地铁八通线</a>,\n",
              " <a href=\"/item/%E5%8C%97%E4%BA%AC%E5%9C%B0%E9%93%815%E5%8F%B7%E7%BA%BF\" target=\"_blank\">北京地铁5号线</a>,\n",
              " <a href=\"/item/%E5%8C%97%E4%BA%AC%E5%9C%B0%E9%93%818%E5%8F%B7%E7%BA%BF\" target=\"_blank\">北京地铁8号线</a>,\n",
              " <a href=\"/item/%E5%8C%97%E4%BA%AC%E5%9C%B0%E9%93%8110%E5%8F%B7%E7%BA%BF\" target=\"_blank\">北京地铁10号线</a>,\n",
              " <a href=\"/item/%E5%8C%97%E4%BA%AC%E5%9C%B0%E9%93%81%E6%9C%BA%E5%9C%BA%E7%BA%BF\" target=\"_blank\">北京地铁机场线</a>,\n",
              " <a href=\"/item/%E5%8C%97%E4%BA%AC%E5%9C%B0%E9%93%814%E5%8F%B7%E7%BA%BF\" target=\"_blank\">北京地铁4号线</a>,\n",
              " <a href=\"/item/%E5%8C%97%E4%BA%AC%E5%9C%B0%E9%93%8115%E5%8F%B7%E7%BA%BF\" target=\"_blank\">北京地铁15号线</a>,\n",
              " <a href=\"/item/%E5%8C%97%E4%BA%AC%E5%9C%B0%E9%93%81%E6%98%8C%E5%B9%B3%E7%BA%BF\" target=\"_blank\">北京地铁昌平线</a>,\n",
              " <a href=\"/item/%E5%8C%97%E4%BA%AC%E5%9C%B0%E9%93%81%E5%A4%A7%E5%85%B4%E7%BA%BF\" target=\"_blank\">北京地铁大兴线</a>,\n",
              " <a href=\"/item/%E5%8C%97%E4%BA%AC%E5%9C%B0%E9%93%81%E6%88%BF%E5%B1%B1%E7%BA%BF\" target=\"_blank\">北京地铁房山线</a>,\n",
              " <a href=\"/item/%E5%8C%97%E4%BA%AC%E5%9C%B0%E9%93%81%E4%BA%A6%E5%BA%84%E7%BA%BF\" target=\"_blank\">北京地铁亦庄线</a>,\n",
              " <a href=\"/item/%E5%8C%97%E4%BA%AC%E5%9C%B0%E9%93%818%E5%8F%B7%E7%BA%BF\" target=\"_blank\">北京地铁8号线</a>,\n",
              " <a href=\"/item/%E5%8C%97%E4%BA%AC%E5%9C%B0%E9%93%819%E5%8F%B7%E7%BA%BF\" target=\"_blank\">北京地铁9号线</a>,\n",
              " <a href=\"/item/%E5%8C%97%E4%BA%AC%E5%9C%B0%E9%93%8115%E5%8F%B7%E7%BA%BF\" target=\"_blank\">北京地铁15号线</a>,\n",
              " <a href=\"/item/%E5%8C%97%E4%BA%AC%E5%9C%B0%E9%93%81%E6%88%BF%E5%B1%B1%E7%BA%BF\" target=\"_blank\">北京地铁房山线</a>,\n",
              " <a href=\"/item/%E5%8C%97%E4%BA%AC%E5%9C%B0%E9%93%816%E5%8F%B7%E7%BA%BF\" target=\"_blank\">北京地铁6号线</a>,\n",
              " <a href=\"/item/%E5%8C%97%E4%BA%AC%E5%9C%B0%E9%93%818%E5%8F%B7%E7%BA%BF\" target=\"_blank\">北京地铁8号线</a>,\n",
              " <a href=\"/item/%E5%8C%97%E4%BA%AC%E5%9C%B0%E9%93%819%E5%8F%B7%E7%BA%BF\" target=\"_blank\">北京地铁9号线</a>,\n",
              " <a href=\"/item/%E5%8C%97%E4%BA%AC%E5%9C%B0%E9%93%8110%E5%8F%B7%E7%BA%BF\" target=\"_blank\">北京地铁10号线</a>,\n",
              " <a href=\"/item/%E5%8C%97%E4%BA%AC%E5%9C%B0%E9%93%8110%E5%8F%B7%E7%BA%BF\" target=\"_blank\">北京地铁10号线</a>,\n",
              " <a href=\"/item/%E5%8C%97%E4%BA%AC%E5%9C%B0%E9%93%8114%E5%8F%B7%E7%BA%BF\" target=\"_blank\">北京地铁14号线</a>,\n",
              " <a href=\"/item/%E5%8C%97%E4%BA%AC%E5%9C%B0%E9%93%818%E5%8F%B7%E7%BA%BF\" target=\"_blank\">北京地铁8号线</a>,\n",
              " <a href=\"/item/%E5%8C%97%E4%BA%AC%E5%9C%B0%E9%93%816%E5%8F%B7%E7%BA%BF\" target=\"_blank\">北京地铁6号线</a>,\n",
              " <a href=\"/item/%E5%8C%97%E4%BA%AC%E5%9C%B0%E9%93%817%E5%8F%B7%E7%BA%BF\" target=\"_blank\">北京地铁7号线</a>,\n",
              " <a href=\"/item/%E5%8C%97%E4%BA%AC%E5%9C%B0%E9%93%8114%E5%8F%B7%E7%BA%BF\" target=\"_blank\">北京地铁14号线</a>,\n",
              " <a href=\"/item/%E5%8C%97%E4%BA%AC%E5%9C%B0%E9%93%8115%E5%8F%B7%E7%BA%BF\" target=\"_blank\">北京地铁15号线</a>,\n",
              " <a href=\"/item/%E5%8C%97%E4%BA%AC%E5%9C%B0%E9%93%8114%E5%8F%B7%E7%BA%BF\" target=\"_blank\">北京地铁14号线</a>,\n",
              " <a href=\"/item/%E5%8C%97%E4%BA%AC%E5%9C%B0%E9%93%81%E6%98%8C%E5%B9%B3%E7%BA%BF\" target=\"_blank\">北京地铁昌平线</a>,\n",
              " <a href=\"/item/%E5%8C%97%E4%BA%AC%E5%9C%B0%E9%93%8116%E5%8F%B7%E7%BA%BF\" target=\"_blank\">北京地铁16号线</a>,\n",
              " <a href=\"/item/%E5%8C%97%E4%BA%AC%E5%9C%B0%E9%93%81%E8%A5%BF%E9%83%8A%E7%BA%BF\" target=\"_blank\">北京地铁西郊线</a>,\n",
              " <a href=\"/item/%E5%8C%97%E4%BA%AC%E5%9C%B0%E9%93%81S1%E7%BA%BF\" target=\"_blank\">北京地铁S1线</a>,\n",
              " <a href=\"/item/%E5%8C%97%E4%BA%AC%E5%9C%B0%E9%93%81%E7%87%95%E6%88%BF%E7%BA%BF\" target=\"_blank\">北京地铁燕房线</a>,\n",
              " <a href=\"/item/%E5%8C%97%E4%BA%AC%E5%9C%B0%E9%93%81%E6%88%BF%E5%B1%B1%E7%BA%BF\" target=\"_blank\">北京地铁房山线</a>,\n",
              " <a data-lemmaid=\"10680588\" href=\"/item/%E5%8C%97%E4%BA%AC%E5%9C%B0%E9%93%816%E5%8F%B7%E7%BA%BF/10680588\" target=\"_blank\">北京地铁6号线</a>,\n",
              " <a data-lemmaid=\"897830\" href=\"/item/%E5%8C%97%E4%BA%AC%E5%9C%B0%E9%93%818%E5%8F%B7%E7%BA%BF/897830\" target=\"_blank\">北京地铁8号线</a>,\n",
              " <a data-lemmaid=\"1464622\" href=\"/item/%E5%8C%97%E4%BA%AC%E5%9C%B0%E9%93%81%E4%BA%A6%E5%BA%84%E7%BA%BF/1464622\" target=\"_blank\">北京地铁亦庄线</a>,\n",
              " <a href=\"/item/%E5%8C%97%E4%BA%AC%E5%9C%B0%E9%93%811%E5%8F%B7%E7%BA%BF\" target=\"_blank\">北京地铁1号线</a>,\n",
              " <a href=\"/item/%E5%8C%97%E4%BA%AC%E5%9C%B0%E9%93%812%E5%8F%B7%E7%BA%BF\" target=\"_blank\">北京地铁2号线</a>,\n",
              " <a href=\"/item/%E5%8C%97%E4%BA%AC%E5%9C%B0%E9%93%814%E5%8F%B7%E7%BA%BF\" target=\"_blank\">北京地铁4号线</a>,\n",
              " <a href=\"/item/%E5%8C%97%E4%BA%AC%E5%9C%B0%E9%93%815%E5%8F%B7%E7%BA%BF\" target=\"_blank\">北京地铁5号线</a>,\n",
              " <a href=\"/item/%E5%8C%97%E4%BA%AC%E5%9C%B0%E9%93%816%E5%8F%B7%E7%BA%BF\" target=\"_blank\">北京地铁6号线</a>,\n",
              " <a href=\"/item/%E5%8C%97%E4%BA%AC%E5%9C%B0%E9%93%817%E5%8F%B7%E7%BA%BF\" target=\"_blank\">北京地铁7号线</a>,\n",
              " <a data-lemmaid=\"897830\" href=\"/item/%E5%8C%97%E4%BA%AC%E5%9C%B0%E9%93%818%E5%8F%B7%E7%BA%BF/897830\" target=\"_blank\">北京地铁8号线</a>,\n",
              " <a data-lemmaid=\"897830\" href=\"/item/%E5%8C%97%E4%BA%AC%E5%9C%B0%E9%93%818%E5%8F%B7%E7%BA%BF/897830\" target=\"_blank\">北京地铁8号线</a>,\n",
              " <a href=\"/item/%E5%8C%97%E4%BA%AC%E5%9C%B0%E9%93%819%E5%8F%B7%E7%BA%BF\" target=\"_blank\">北京地铁9号线</a>,\n",
              " <a href=\"/item/%E5%8C%97%E4%BA%AC%E5%9C%B0%E9%93%8110%E5%8F%B7%E7%BA%BF\" target=\"_blank\">北京地铁10号线</a>,\n",
              " <a href=\"/item/%E5%8C%97%E4%BA%AC%E5%9C%B0%E9%93%8113%E5%8F%B7%E7%BA%BF\" target=\"_blank\">北京地铁13号线</a>,\n",
              " <a href=\"/item/%E5%8C%97%E4%BA%AC%E5%9C%B0%E9%93%8114%E5%8F%B7%E7%BA%BF\" target=\"_blank\">北京地铁14号线</a>,\n",
              " <a href=\"/item/%E5%8C%97%E4%BA%AC%E5%9C%B0%E9%93%8114%E5%8F%B7%E7%BA%BF\" target=\"_blank\">北京地铁14号线</a>,\n",
              " <a href=\"/item/%E5%8C%97%E4%BA%AC%E5%9C%B0%E9%93%8115%E5%8F%B7%E7%BA%BF\" target=\"_blank\">北京地铁15号线</a>,\n",
              " <a href=\"/item/%E5%8C%97%E4%BA%AC%E5%9C%B0%E9%93%8116%E5%8F%B7%E7%BA%BF\" target=\"_blank\">北京地铁16号线</a>,\n",
              " <a href=\"/item/%E5%8C%97%E4%BA%AC%E5%9C%B0%E9%93%81%E5%85%AB%E9%80%9A%E7%BA%BF\" target=\"_blank\">北京地铁八通线</a>,\n",
              " <a href=\"/item/%E5%8C%97%E4%BA%AC%E5%9C%B0%E9%93%81%E6%98%8C%E5%B9%B3%E7%BA%BF\" target=\"_blank\">北京地铁昌平线</a>,\n",
              " <a href=\"/item/%E5%8C%97%E4%BA%AC%E5%9C%B0%E9%93%81%E4%BA%A6%E5%BA%84%E7%BA%BF\" target=\"_blank\">北京地铁亦庄线</a>,\n",
              " <a href=\"/item/%E5%8C%97%E4%BA%AC%E5%9C%B0%E9%93%81%E6%88%BF%E5%B1%B1%E7%BA%BF\" target=\"_blank\">北京地铁房山线</a>,\n",
              " <a href=\"/item/%E5%8C%97%E4%BA%AC%E5%9C%B0%E9%93%81S1%E7%BA%BF\" target=\"_blank\">北京地铁S1线</a>,\n",
              " <a href=\"/item/%E5%8C%97%E4%BA%AC%E5%9C%B0%E9%93%81%E7%87%95%E6%88%BF%E7%BA%BF\" target=\"_blank\">北京地铁燕房线</a>,\n",
              " <a href=\"/item/%E5%8C%97%E4%BA%AC%E5%9C%B0%E9%93%811%E5%8F%B7%E7%BA%BF\" target=\"_blank\">北京地铁1号线</a>,\n",
              " <a href=\"/item/%E5%8C%97%E4%BA%AC%E5%9C%B0%E9%93%812%E5%8F%B7%E7%BA%BF\" target=\"_blank\">北京地铁2号线</a>,\n",
              " <a href=\"/item/%E5%8C%97%E4%BA%AC%E5%9C%B0%E9%93%814%E5%8F%B7%E7%BA%BF\" target=\"_blank\">北京地铁4号线</a>,\n",
              " <a href=\"/item/%E5%8C%97%E4%BA%AC%E5%9C%B0%E9%93%815%E5%8F%B7%E7%BA%BF\" target=\"_blank\">北京地铁5号线</a>,\n",
              " <a href=\"/item/%E5%8C%97%E4%BA%AC%E5%9C%B0%E9%93%816%E5%8F%B7%E7%BA%BF\" target=\"_blank\">北京地铁6号线</a>,\n",
              " <a href=\"/item/%E5%8C%97%E4%BA%AC%E5%9C%B0%E9%93%817%E5%8F%B7%E7%BA%BF\" target=\"_blank\">北京地铁7号线</a>,\n",
              " <a href=\"/item/%E5%8C%97%E4%BA%AC%E5%9C%B0%E9%93%818%E5%8F%B7%E7%BA%BF\" target=\"_blank\">北京地铁8号线</a>,\n",
              " <a href=\"/item/%E5%8C%97%E4%BA%AC%E5%9C%B0%E9%93%819%E5%8F%B7%E7%BA%BF\" target=\"_blank\">北京地铁9号线</a>,\n",
              " <a href=\"/item/%E5%8C%97%E4%BA%AC%E5%9C%B0%E9%93%8110%E5%8F%B7%E7%BA%BF\" target=\"_blank\">北京地铁10号线</a>,\n",
              " <a href=\"/item/%E5%8C%97%E4%BA%AC%E5%9C%B0%E9%93%8113%E5%8F%B7%E7%BA%BF\" target=\"_blank\">北京地铁13号线</a>,\n",
              " <a href=\"/item/%E5%8C%97%E4%BA%AC%E5%9C%B0%E9%93%8114%E5%8F%B7%E7%BA%BF\" target=\"_blank\">北京地铁14号线</a>,\n",
              " <a href=\"/item/%E5%8C%97%E4%BA%AC%E5%9C%B0%E9%93%8115%E5%8F%B7%E7%BA%BF\" target=\"_blank\">北京地铁15号线</a>,\n",
              " <a href=\"/item/%E5%8C%97%E4%BA%AC%E5%9C%B0%E9%93%8116%E5%8F%B7%E7%BA%BF\" target=\"_blank\">北京地铁16号线</a>,\n",
              " <a href=\"/item/%E5%8C%97%E4%BA%AC%E5%9C%B0%E9%93%81%E6%98%8C%E5%B9%B3%E7%BA%BF\" target=\"_blank\">北京地铁昌平线</a>,\n",
              " <a href=\"/item/%E5%8C%97%E4%BA%AC%E5%9C%B0%E9%93%81%E6%88%BF%E5%B1%B1%E7%BA%BF\" target=\"_blank\">北京地铁房山线</a>,\n",
              " <a href=\"/item/%E5%8C%97%E4%BA%AC%E5%9C%B0%E9%93%81%E4%BA%A6%E5%BA%84%E7%BA%BF\" target=\"_blank\">北京地铁亦庄线</a>,\n",
              " <a href=\"/item/%E5%8C%97%E4%BA%AC%E5%9C%B0%E9%93%81%E7%87%95%E6%88%BF%E7%BA%BF\" target=\"_blank\">北京地铁燕房线</a>,\n",
              " <a href=\"/item/%E5%8C%97%E4%BA%AC%E5%9C%B0%E9%93%81%E6%9C%BA%E5%9C%BA%E7%BA%BF\" target=\"_blank\">北京地铁机场线</a>]"
            ]
          },
          "metadata": {
            "tags": []
          },
          "execution_count": 3
        }
      ]
    },
    {
      "cell_type": "code",
      "metadata": {
        "id": "D6JkwmocKomr",
        "colab_type": "code",
        "colab": {}
      },
      "source": [
        "# 法二：正则式\n",
        "import urllib\n",
        "root_url = 'https://baike.baidu.com/item/%E5%8C%97%E4%BA%AC%E5%9C%B0%E9%93%81/408485'\n",
        "\n",
        "#获取完整超链接\n",
        "def getUrl(url):\n",
        "    response = urllib.request.urlopen(url)\n",
        "    content = response.read().decode('utf-8')\n",
        "    reg = re.compile(r\"href=\\\"/item/.*?\\\">北京地铁\\w+线\")\n",
        "    urls = re.findall(reg, content)\n",
        "    for u in urls:\n",
        "        print(u)"
      ],
      "execution_count": 0,
      "outputs": []
    },
    {
      "cell_type": "code",
      "metadata": {
        "id": "pzAlSF3_Kopu",
        "colab_type": "code",
        "outputId": "9217a67a-ca9e-414c-d352-c4d7ce3ee599",
        "colab": {
          "base_uri": "https://localhost:8080/",
          "height": 1360
        }
      },
      "source": [
        "all_url = getUrl(root_url)"
      ],
      "execution_count": 5,
      "outputs": [
        {
          "output_type": "stream",
          "text": [
            "href=\"/item/%E5%8C%97%E4%BA%AC%E5%9C%B0%E9%93%811%E5%8F%B7%E7%BA%BF\">北京地铁1号线\n",
            "href=\"/item/%E5%8C%97%E4%BA%AC%E5%9C%B0%E9%93%811%E5%8F%B7%E7%BA%BF\">北京地铁1号线\n",
            "href=\"/item/%E5%8C%97%E4%BA%AC%E5%9C%B0%E9%93%8113%E5%8F%B7%E7%BA%BF\">北京地铁13号线\n",
            "href=\"/item/%E5%8C%97%E4%BA%AC%E5%9C%B0%E9%93%8113%E5%8F%B7%E7%BA%BF\">北京地铁13号线\n",
            "href=\"/item/%E5%8C%97%E4%BA%AC%E5%9C%B0%E9%93%81%E5%85%AB%E9%80%9A%E7%BA%BF\">北京地铁八通线\n",
            "href=\"/item/%E5%8C%97%E4%BA%AC%E5%9C%B0%E9%93%815%E5%8F%B7%E7%BA%BF\">北京地铁5号线\n",
            "href=\"/item/%E5%8C%97%E4%BA%AC%E5%9C%B0%E9%93%818%E5%8F%B7%E7%BA%BF\">北京地铁8号线\n",
            "href=\"/item/%E5%8C%97%E4%BA%AC%E5%9C%B0%E9%93%8110%E5%8F%B7%E7%BA%BF\">北京地铁10号线\n",
            "href=\"/item/%E5%8C%97%E4%BA%AC%E5%9C%B0%E9%93%81%E6%9C%BA%E5%9C%BA%E7%BA%BF\">北京地铁机场线\n",
            "href=\"/item/%E5%8C%97%E4%BA%AC%E5%9C%B0%E9%93%814%E5%8F%B7%E7%BA%BF\">北京地铁4号线\n",
            "href=\"/item/%E5%8C%97%E4%BA%AC%E5%9C%B0%E9%93%8115%E5%8F%B7%E7%BA%BF\">北京地铁15号线\n",
            "href=\"/item/%E5%8C%97%E4%BA%AC%E5%9C%B0%E9%93%81%E6%98%8C%E5%B9%B3%E7%BA%BF\">北京地铁昌平线\n",
            "href=\"/item/%E5%8C%97%E4%BA%AC%E5%9C%B0%E9%93%81%E5%A4%A7%E5%85%B4%E7%BA%BF\">北京地铁大兴线\n",
            "href=\"/item/%E5%8C%97%E4%BA%AC%E5%9C%B0%E9%93%81%E6%88%BF%E5%B1%B1%E7%BA%BF\">北京地铁房山线\n",
            "href=\"/item/%E5%8C%97%E4%BA%AC%E5%9C%B0%E9%93%81%E4%BA%A6%E5%BA%84%E7%BA%BF\">北京地铁亦庄线\n",
            "href=\"/item/%E5%8C%97%E4%BA%AC%E5%9C%B0%E9%93%818%E5%8F%B7%E7%BA%BF\">北京地铁8号线\n",
            "href=\"/item/%E5%8C%97%E4%BA%AC%E5%9C%B0%E9%93%819%E5%8F%B7%E7%BA%BF\">北京地铁9号线\n",
            "href=\"/item/%E5%8C%97%E4%BA%AC%E5%9C%B0%E9%93%8115%E5%8F%B7%E7%BA%BF\">北京地铁15号线\n",
            "href=\"/item/%E5%8C%97%E4%BA%AC%E5%9C%B0%E9%93%81%E6%88%BF%E5%B1%B1%E7%BA%BF\">北京地铁房山线\n",
            "href=\"/item/%E5%8C%97%E4%BA%AC%E5%9C%B0%E9%93%816%E5%8F%B7%E7%BA%BF\">北京地铁6号线\n",
            "href=\"/item/%E5%8C%97%E4%BA%AC%E5%9C%B0%E9%93%818%E5%8F%B7%E7%BA%BF\">北京地铁8号线\n",
            "href=\"/item/%E5%8C%97%E4%BA%AC%E5%9C%B0%E9%93%819%E5%8F%B7%E7%BA%BF\">北京地铁9号线\n",
            "href=\"/item/%E5%8C%97%E4%BA%AC%E5%9C%B0%E9%93%8110%E5%8F%B7%E7%BA%BF\">北京地铁10号线\n",
            "href=\"/item/%E5%8C%97%E4%BA%AC%E5%9C%B0%E9%93%8110%E5%8F%B7%E7%BA%BF\">北京地铁10号线\n",
            "href=\"/item/%E5%8C%97%E4%BA%AC%E5%9C%B0%E9%93%8114%E5%8F%B7%E7%BA%BF\">北京地铁14号线\n",
            "href=\"/item/%E5%8C%97%E4%BA%AC%E5%9C%B0%E9%93%818%E5%8F%B7%E7%BA%BF\">北京地铁8号线\n",
            "href=\"/item/%E5%8C%97%E4%BA%AC%E5%9C%B0%E9%93%816%E5%8F%B7%E7%BA%BF\">北京地铁6号线\n",
            "href=\"/item/%E5%8C%97%E4%BA%AC%E5%9C%B0%E9%93%817%E5%8F%B7%E7%BA%BF\">北京地铁7号线\n",
            "href=\"/item/%E5%8C%97%E4%BA%AC%E5%9C%B0%E9%93%8114%E5%8F%B7%E7%BA%BF\">北京地铁14号线\n",
            "href=\"/item/%E5%8C%97%E4%BA%AC%E5%9C%B0%E9%93%8115%E5%8F%B7%E7%BA%BF\">北京地铁15号线\n",
            "href=\"/item/%E5%8C%97%E4%BA%AC%E5%9C%B0%E9%93%8114%E5%8F%B7%E7%BA%BF\">北京地铁14号线\n",
            "href=\"/item/%E5%8C%97%E4%BA%AC%E5%9C%B0%E9%93%81%E6%98%8C%E5%B9%B3%E7%BA%BF\">北京地铁昌平线\n",
            "href=\"/item/%E5%8C%97%E4%BA%AC%E5%9C%B0%E9%93%8116%E5%8F%B7%E7%BA%BF\">北京地铁16号线\n",
            "href=\"/item/%E5%8C%97%E4%BA%AC%E5%9C%B0%E9%93%81%E8%A5%BF%E9%83%8A%E7%BA%BF\">北京地铁西郊线\n",
            "href=\"/item/%E5%8C%97%E4%BA%AC%E5%9C%B0%E9%93%81S1%E7%BA%BF\">北京地铁S1线\n",
            "href=\"/item/%E5%8C%97%E4%BA%AC%E5%9C%B0%E9%93%81%E7%87%95%E6%88%BF%E7%BA%BF\">北京地铁燕房线\n",
            "href=\"/item/%E5%8C%97%E4%BA%AC%E5%9C%B0%E9%93%81%E6%88%BF%E5%B1%B1%E7%BA%BF\">北京地铁房山线\n",
            "href=\"/item/%E5%8C%97%E4%BA%AC%E5%9C%B0%E9%93%816%E5%8F%B7%E7%BA%BF/10680588\" data-lemmaid=\"10680588\">北京地铁6号线\n",
            "href=\"/item/%E5%8C%97%E4%BA%AC%E5%9C%B0%E9%93%818%E5%8F%B7%E7%BA%BF/897830\" data-lemmaid=\"897830\">北京地铁8号线\n",
            "href=\"/item/%E5%8C%97%E4%BA%AC%E5%9C%B0%E9%93%81%E4%BA%A6%E5%BA%84%E7%BA%BF/1464622\" data-lemmaid=\"1464622\">北京地铁亦庄线\n",
            "href=\"/item/%E5%8C%97%E4%BA%AC%E5%9C%B0%E9%93%811%E5%8F%B7%E7%BA%BF\">北京地铁1号线\n",
            "href=\"/item/%E5%8C%97%E4%BA%AC%E5%9C%B0%E9%93%812%E5%8F%B7%E7%BA%BF\">北京地铁2号线\n",
            "href=\"/item/%E5%8C%97%E4%BA%AC%E5%9C%B0%E9%93%814%E5%8F%B7%E7%BA%BF\">北京地铁4号线\n",
            "href=\"/item/%E5%8C%97%E4%BA%AC%E5%9C%B0%E9%93%815%E5%8F%B7%E7%BA%BF\">北京地铁5号线\n",
            "href=\"/item/%E5%8C%97%E4%BA%AC%E5%9C%B0%E9%93%816%E5%8F%B7%E7%BA%BF\">北京地铁6号线\n",
            "href=\"/item/%E5%8C%97%E4%BA%AC%E5%9C%B0%E9%93%817%E5%8F%B7%E7%BA%BF\">北京地铁7号线\n",
            "href=\"/item/%E5%8C%97%E4%BA%AC%E5%9C%B0%E9%93%818%E5%8F%B7%E7%BA%BF/897830\" data-lemmaid=\"897830\">北京地铁8号线\n",
            "href=\"/item/%E5%8C%97%E4%BA%AC%E5%9C%B0%E9%93%818%E5%8F%B7%E7%BA%BF/897830\" data-lemmaid=\"897830\">北京地铁8号线\n",
            "href=\"/item/%E5%8C%97%E4%BA%AC%E5%9C%B0%E9%93%819%E5%8F%B7%E7%BA%BF\">北京地铁9号线\n",
            "href=\"/item/%E5%8C%97%E4%BA%AC%E5%9C%B0%E9%93%8110%E5%8F%B7%E7%BA%BF\">北京地铁10号线\n",
            "href=\"/item/%E5%8C%97%E4%BA%AC%E5%9C%B0%E9%93%8113%E5%8F%B7%E7%BA%BF\">北京地铁13号线\n",
            "href=\"/item/%E5%8C%97%E4%BA%AC%E5%9C%B0%E9%93%8114%E5%8F%B7%E7%BA%BF\">北京地铁14号线\n",
            "href=\"/item/%E5%8C%97%E4%BA%AC%E5%9C%B0%E9%93%8114%E5%8F%B7%E7%BA%BF\">北京地铁14号线\n",
            "href=\"/item/%E5%8C%97%E4%BA%AC%E5%9C%B0%E9%93%8115%E5%8F%B7%E7%BA%BF\">北京地铁15号线\n",
            "href=\"/item/%E5%8C%97%E4%BA%AC%E5%9C%B0%E9%93%8116%E5%8F%B7%E7%BA%BF\">北京地铁16号线\n",
            "href=\"/item/%E5%8C%97%E4%BA%AC%E5%9C%B0%E9%93%81%E5%85%AB%E9%80%9A%E7%BA%BF\">北京地铁八通线\n",
            "href=\"/item/%E5%8C%97%E4%BA%AC%E5%9C%B0%E9%93%81%E6%98%8C%E5%B9%B3%E7%BA%BF\">北京地铁昌平线\n",
            "href=\"/item/%E5%8C%97%E4%BA%AC%E5%9C%B0%E9%93%81%E4%BA%A6%E5%BA%84%E7%BA%BF\">北京地铁亦庄线\n",
            "href=\"/item/%E5%8C%97%E4%BA%AC%E5%9C%B0%E9%93%81%E6%88%BF%E5%B1%B1%E7%BA%BF\">北京地铁房山线\n",
            "href=\"/item/%E5%8C%97%E4%BA%AC%E5%9C%B0%E9%93%81S1%E7%BA%BF\">北京地铁S1线\n",
            "href=\"/item/%E5%8C%97%E4%BA%AC%E5%9C%B0%E9%93%81%E7%87%95%E6%88%BF%E7%BA%BF\">北京地铁燕房线\n",
            "href=\"/item/%E5%8C%97%E4%BA%AC%E5%9C%B0%E9%93%811%E5%8F%B7%E7%BA%BF\">北京地铁1号线\n",
            "href=\"/item/%E5%8C%97%E4%BA%AC%E5%9C%B0%E9%93%812%E5%8F%B7%E7%BA%BF\">北京地铁2号线\n",
            "href=\"/item/%E5%8C%97%E4%BA%AC%E5%9C%B0%E9%93%814%E5%8F%B7%E7%BA%BF\">北京地铁4号线\n",
            "href=\"/item/%E5%8C%97%E4%BA%AC%E5%9C%B0%E9%93%815%E5%8F%B7%E7%BA%BF\">北京地铁5号线\n",
            "href=\"/item/%E5%8C%97%E4%BA%AC%E5%9C%B0%E9%93%816%E5%8F%B7%E7%BA%BF\">北京地铁6号线\n",
            "href=\"/item/%E5%8C%97%E4%BA%AC%E5%9C%B0%E9%93%817%E5%8F%B7%E7%BA%BF\">北京地铁7号线\n",
            "href=\"/item/%E5%8C%97%E4%BA%AC%E5%9C%B0%E9%93%818%E5%8F%B7%E7%BA%BF\">北京地铁8号线\n",
            "href=\"/item/%E5%8C%97%E4%BA%AC%E5%9C%B0%E9%93%819%E5%8F%B7%E7%BA%BF\">北京地铁9号线\n",
            "href=\"/item/%E5%8C%97%E4%BA%AC%E5%9C%B0%E9%93%8110%E5%8F%B7%E7%BA%BF\">北京地铁10号线\n",
            "href=\"/item/%E5%8C%97%E4%BA%AC%E5%9C%B0%E9%93%8113%E5%8F%B7%E7%BA%BF\">北京地铁13号线\n",
            "href=\"/item/%E5%8C%97%E4%BA%AC%E5%9C%B0%E9%93%8114%E5%8F%B7%E7%BA%BF\">北京地铁14号线\n",
            "href=\"/item/%E5%8C%97%E4%BA%AC%E5%9C%B0%E9%93%8115%E5%8F%B7%E7%BA%BF\">北京地铁15号线\n",
            "href=\"/item/%E5%8C%97%E4%BA%AC%E5%9C%B0%E9%93%8116%E5%8F%B7%E7%BA%BF\">北京地铁16号线\n",
            "href=\"/item/%E5%8C%97%E4%BA%AC%E5%9C%B0%E9%93%81%E6%98%8C%E5%B9%B3%E7%BA%BF\">北京地铁昌平线\n",
            "href=\"/item/%E5%8C%97%E4%BA%AC%E5%9C%B0%E9%93%81%E6%88%BF%E5%B1%B1%E7%BA%BF\">北京地铁房山线\n",
            "href=\"/item/%E5%8C%97%E4%BA%AC%E5%9C%B0%E9%93%81%E4%BA%A6%E5%BA%84%E7%BA%BF\">北京地铁亦庄线\n",
            "href=\"/item/%E5%8C%97%E4%BA%AC%E5%9C%B0%E9%93%81%E7%87%95%E6%88%BF%E7%BA%BF\">北京地铁燕房线\n",
            "href=\"/item/%E5%8C%97%E4%BA%AC%E5%9C%B0%E9%93%81%E6%9C%BA%E5%9C%BA%E7%BA%BF\">北京地铁机场线\n"
          ],
          "name": "stdout"
        }
      ]
    },
    {
      "cell_type": "markdown",
      "metadata": {
        "id": "sqIfJxYOrnsS",
        "colab_type": "text"
      },
      "source": [
        "**2. Preprocessing data from page source.**\n",
        "\n",
        "- a. Based on the page source gotten from url. You may need some more preprocessing of the page.\n",
        "\n",
        "- b. the Regular Expression you may need to process the text information.\n",
        "\n",
        "- c. You may need @package networkx, @package matplotlib to visualize data.\n",
        "\n",
        "- d. You should build a dictionary or graph which could represent the connection information of Beijing subway routes.\n",
        "\n",
        "- e. You may need the defaultdict, set data structures to implement this procedure."
      ]
    },
    {
      "cell_type": "code",
      "metadata": {
        "id": "2YVqMyP6KEkt",
        "colab_type": "code",
        "colab": {}
      },
      "source": [
        "# 经观察 新的url的形式为 https://baike.baidu.com/item/%E5%8C%97%E4%BA%AC%E5%9C%B0%E9%93%811%E5%8F%B7%E7%BA%BF\n",
        "\n",
        "def getNewUrl(url):\n",
        "    newurls = []\n",
        "    urls = urlopen(url)\n",
        "    soup = BeautifulSoup(urls.read())\n",
        "    \n",
        "    divs = soup.find_all(class_ = 'main-content')\n",
        "    table = divs[0].find_all('table')\n",
        "\n",
        "    trs = table[2].find_all('tr')\n",
        "    for tr in trs[1:-1]:\n",
        "        a = tr.find_all('a')\n",
        "        if not a:\n",
        "            continue\n",
        "        if not a[0].attrs['href']:\n",
        "            continue\n",
        "        url = \"https://baike.baidu.com\" + str(a[0].attrs['href'])\n",
        "\n",
        "        if url not in newurls:\n",
        "            newurls.append(url)\n",
        "\n",
        "    return  newurls"
      ],
      "execution_count": 0,
      "outputs": []
    },
    {
      "cell_type": "code",
      "metadata": {
        "id": "bMvKoQO0KF_Y",
        "colab_type": "code",
        "colab": {}
      },
      "source": [
        "all_urls = getNewUrl(root_url)"
      ],
      "execution_count": 0,
      "outputs": []
    },
    {
      "cell_type": "code",
      "metadata": {
        "id": "Nai1eTaYKGEt",
        "colab_type": "code",
        "colab": {
          "base_uri": "https://localhost:8080/",
          "height": 340
        },
        "outputId": "2586fe4d-2440-4ca9-b9b6-a2b32f8bf7c4"
      },
      "source": [
        "all_urls"
      ],
      "execution_count": 8,
      "outputs": [
        {
          "output_type": "execute_result",
          "data": {
            "text/plain": [
              "['https://baike.baidu.com/item/%E5%8C%97%E4%BA%AC%E5%9C%B0%E9%93%811%E5%8F%B7%E7%BA%BF',\n",
              " 'https://baike.baidu.com/item/%E5%8C%97%E4%BA%AC%E5%9C%B0%E9%93%812%E5%8F%B7%E7%BA%BF',\n",
              " 'https://baike.baidu.com/item/%E5%8C%97%E4%BA%AC%E5%9C%B0%E9%93%814%E5%8F%B7%E7%BA%BF',\n",
              " 'https://baike.baidu.com/item/%E5%8C%97%E4%BA%AC%E5%9C%B0%E9%93%815%E5%8F%B7%E7%BA%BF',\n",
              " 'https://baike.baidu.com/item/%E5%8C%97%E4%BA%AC%E5%9C%B0%E9%93%816%E5%8F%B7%E7%BA%BF',\n",
              " 'https://baike.baidu.com/item/%E5%8C%97%E4%BA%AC%E5%9C%B0%E9%93%817%E5%8F%B7%E7%BA%BF',\n",
              " 'https://baike.baidu.com/item/%E5%8C%97%E4%BA%AC%E5%9C%B0%E9%93%818%E5%8F%B7%E7%BA%BF/897830',\n",
              " 'https://baike.baidu.com/item/%E5%8C%97%E4%BA%AC%E5%9C%B0%E9%93%819%E5%8F%B7%E7%BA%BF',\n",
              " 'https://baike.baidu.com/item/%E5%8C%97%E4%BA%AC%E5%9C%B0%E9%93%8110%E5%8F%B7%E7%BA%BF',\n",
              " 'https://baike.baidu.com/item/%E5%8C%97%E4%BA%AC%E5%9C%B0%E9%93%8113%E5%8F%B7%E7%BA%BF',\n",
              " 'https://baike.baidu.com/item/%E5%8C%97%E4%BA%AC%E5%9C%B0%E9%93%8114%E5%8F%B7%E7%BA%BF',\n",
              " 'https://baike.baidu.com/item/%E5%8C%97%E4%BA%AC%E5%9C%B0%E9%93%8115%E5%8F%B7%E7%BA%BF',\n",
              " 'https://baike.baidu.com/item/%E5%8C%97%E4%BA%AC%E5%9C%B0%E9%93%8116%E5%8F%B7%E7%BA%BF',\n",
              " 'https://baike.baidu.com/item/%E5%8C%97%E4%BA%AC%E5%9C%B0%E9%93%81%E5%85%AB%E9%80%9A%E7%BA%BF',\n",
              " 'https://baike.baidu.com/item/%E5%8C%97%E4%BA%AC%E5%9C%B0%E9%93%81%E6%98%8C%E5%B9%B3%E7%BA%BF',\n",
              " 'https://baike.baidu.com/item/%E5%8C%97%E4%BA%AC%E5%9C%B0%E9%93%81%E4%BA%A6%E5%BA%84%E7%BA%BF',\n",
              " 'https://baike.baidu.com/item/%E5%8C%97%E4%BA%AC%E5%9C%B0%E9%93%81%E6%88%BF%E5%B1%B1%E7%BA%BF',\n",
              " 'https://baike.baidu.com/item/%E5%8C%97%E4%BA%AC%E5%9C%B0%E9%93%81S1%E7%BA%BF',\n",
              " 'https://baike.baidu.com/item/%E5%8C%97%E4%BA%AC%E5%9C%B0%E9%93%81%E7%87%95%E6%88%BF%E7%BA%BF']"
            ]
          },
          "metadata": {
            "tags": []
          },
          "execution_count": 8
        }
      ]
    },
    {
      "cell_type": "code",
      "metadata": {
        "id": "WNKkG2Saci09",
        "colab_type": "code",
        "colab": {
          "base_uri": "https://localhost:8080/",
          "height": 34
        },
        "outputId": "2f90a305-51ac-4e39-e6e4-7014e6ebaf1f"
      },
      "source": [
        "len(all_urls)"
      ],
      "execution_count": 9,
      "outputs": [
        {
          "output_type": "execute_result",
          "data": {
            "text/plain": [
              "19"
            ]
          },
          "metadata": {
            "tags": []
          },
          "execution_count": 9
        }
      ]
    },
    {
      "cell_type": "code",
      "metadata": {
        "id": "UuDXcnLKKGHD",
        "colab_type": "code",
        "colab": {
          "base_uri": "https://localhost:8080/",
          "height": 34
        },
        "outputId": "d60d70d3-f762-41a2-d38b-6e8c1c112ad0"
      },
      "source": [
        "# 检查正则\n",
        "string = '北京地铁1号线车站列表'\n",
        "table_name = re.findall('北京地铁(.*?)车站列表',string)\n",
        "print(table_name)"
      ],
      "execution_count": 10,
      "outputs": [
        {
          "output_type": "stream",
          "text": [
            "['1号线']\n"
          ],
          "name": "stdout"
        }
      ]
    },
    {
      "cell_type": "code",
      "metadata": {
        "id": "BMnRw8BvHNxv",
        "colab_type": "code",
        "colab": {}
      },
      "source": [
        "from collections import defaultdict"
      ],
      "execution_count": 0,
      "outputs": []
    },
    {
      "cell_type": "code",
      "metadata": {
        "id": "sLFzjhMrHN0Z",
        "colab_type": "code",
        "colab": {}
      },
      "source": [
        "subway_station = defaultdict(list)"
      ],
      "execution_count": 0,
      "outputs": []
    },
    {
      "cell_type": "code",
      "metadata": {
        "id": "WA1Cv22po3JL",
        "colab_type": "code",
        "colab": {}
      },
      "source": [
        "def get_single_route_station(url):\n",
        "    station_url = urlopen(url)\n",
        "    soup = BeautifulSoup(station_url.read())\n",
        "    tables = soup.find_all('table')\n",
        "\n",
        "    for table in tables:\n",
        "        if not table.caption: continue\n",
        "        caption = table.caption.string\n",
        "\n",
        "        route_name = re.findall('^北京地铁(.*?)车站列表|^北京地铁(.*?)车站信息$',str(caption))\n",
        "        if route_name:\n",
        "            trs = table.find_all('tr')\n",
        "            for tr in trs[1:]:\n",
        "                tds = tr.find_all('td')\n",
        "                for td in tds[:2]:\n",
        "                    if not td.a: continue\n",
        "                    if td.a.string[-1] == '站':\n",
        "                        subway_station[route_name[0]].append(td.a.string)\n",
        "        print(subway_station[route_name[0]])"
      ],
      "execution_count": 0,
      "outputs": []
    },
    {
      "cell_type": "code",
      "metadata": {
        "id": "lKlG9Ko6JxCL",
        "colab_type": "code",
        "colab": {
          "base_uri": "https://localhost:8080/",
          "height": 54
        },
        "outputId": "d331db06-d671-43d2-b352-03b44f0338f1"
      },
      "source": [
        "# 用北京地铁一号线测试是否取出了站名\n",
        "test_url = 'https://baike.baidu.com/item/%E5%8C%97%E4%BA%AC%E5%9C%B0%E9%93%811%E5%8F%B7%E7%BA%BF'\n",
        "get_single_route_station(test_url)"
      ],
      "execution_count": 14,
      "outputs": [
        {
          "output_type": "stream",
          "text": [
            "['黑石头站', '高井站', '福寿岭站', '苹果园站', '古城站', '衙门口站', '八角游乐园站', '八宝山站', '玉泉路站', '五棵松站', '万寿路站', '公主坟站', '军事博物馆站', '木樨地站', '南礼士路站', '复兴门站', '西单站', '天安门西站', '天安门东站', '王府井站', '东单站', '建国门站', '永安里站', '国贸站', '大望路站', '四惠站', '四惠东站', '高碑店站', '传媒大学站', '双桥站', '管庄站', '八里桥站', '通州北苑站', '果园站', '九棵树站', '梨园站', '临河里站', '土桥站', '花庄站', '环球度假区站']\n"
          ],
          "name": "stdout"
        }
      ]
    },
    {
      "cell_type": "code",
      "metadata": {
        "id": "B7qEMadPPEsT",
        "colab_type": "code",
        "colab": {}
      },
      "source": [
        "subway_station_distance = defaultdict(dict)"
      ],
      "execution_count": 0,
      "outputs": []
    },
    {
      "cell_type": "code",
      "metadata": {
        "id": "Tp7A53zRPEu4",
        "colab_type": "code",
        "colab": {
          "base_uri": "https://localhost:8080/",
          "height": 34
        },
        "outputId": "73c6cea1-4d87-4514-eaa7-5e345891fd7e"
      },
      "source": [
        "subway_station_distance"
      ],
      "execution_count": 16,
      "outputs": [
        {
          "output_type": "execute_result",
          "data": {
            "text/plain": [
              "defaultdict(dict, {})"
            ]
          },
          "metadata": {
            "tags": []
          },
          "execution_count": 16
        }
      ]
    },
    {
      "cell_type": "code",
      "metadata": {
        "id": "_3AkgIZtPEnQ",
        "colab_type": "code",
        "colab": {}
      },
      "source": [
        "# 查找相邻站间距信息统计表\n",
        "def get_route_station_distance(url):\n",
        "    station_url = urlopen(url)\n",
        "    soup = BeautifulSoup(station_url.read())\n",
        "    tables = soup.find_all('table')\n",
        "    \n",
        "    for table in tables:\n",
        "        if not table.caption: continue\n",
        "        caption = table.caption.string\n",
        "\n",
        "        route_name = re.findall('(.*?)相邻站间距信息统计表$',str(caption))\n",
        "        if not route_name: continue\n",
        "        trs = table.find_all('tr')\n",
        "        temp = dict()\n",
        "        \n",
        "        for tr in trs[1:]:\n",
        "            if not tr.th.string: s = tr.th.div.string\n",
        "            else: s = tr.th.string\n",
        "            stations = s.strip().split('——')\n",
        "            distance = int(re.findall('(\\d+)',tr.td.string)[0])\n",
        "            temp[tuple(stations)] = distance\n",
        "        \n",
        "        subway_station_distance[route_name[0]] = temp\n",
        "        # print(subway_station_distance)"
      ],
      "execution_count": 0,
      "outputs": []
    },
    {
      "cell_type": "code",
      "metadata": {
        "id": "idDd-147PEp-",
        "colab_type": "code",
        "colab": {}
      },
      "source": [
        "test_url = 'https://baike.baidu.com/item/%E5%8C%97%E4%BA%AC%E5%9C%B0%E9%93%81%E5%A4%A7%E5%85%B4%E7%BA%BF/7792898'\n",
        "get_route_station_distance(test_url)"
      ],
      "execution_count": 0,
      "outputs": []
    },
    {
      "cell_type": "code",
      "metadata": {
        "id": "JVxOfvRFn4jg",
        "colab_type": "code",
        "colab": {}
      },
      "source": [
        "def get_all_stations_distance(urls):\n",
        "    for url in urls:\n",
        "        get_route_station_distance(url)\n",
        "    pass"
      ],
      "execution_count": 0,
      "outputs": []
    },
    {
      "cell_type": "code",
      "metadata": {
        "id": "SlrsiwmNPExu",
        "colab_type": "code",
        "colab": {}
      },
      "source": [
        "get_all_stations_distance(all_urls)"
      ],
      "execution_count": 0,
      "outputs": []
    },
    {
      "cell_type": "code",
      "metadata": {
        "id": "8EPGV-q5PE0c",
        "colab_type": "code",
        "colab": {}
      },
      "source": [
        "subway_keys = subway_station_distance.keys()"
      ],
      "execution_count": 0,
      "outputs": []
    },
    {
      "cell_type": "code",
      "metadata": {
        "id": "NdozFyq2rlel",
        "colab_type": "code",
        "colab": {
          "base_uri": "https://localhost:8080/",
          "height": 54
        },
        "outputId": "62f40fc2-c3cb-4fca-b76e-d40ad39437f4"
      },
      "source": [
        "subway_keys"
      ],
      "execution_count": 22,
      "outputs": [
        {
          "output_type": "execute_result",
          "data": {
            "text/plain": [
              "dict_keys(['大兴线', '2号线', '4号线', '5号线', '6号线', '7号线', '北京地铁8号线', '10号线', '14号线（西段）', '14号线（东段）', '15号线', '八通线', '昌平线', '房山线'])"
            ]
          },
          "metadata": {
            "tags": []
          },
          "execution_count": 22
        }
      ]
    },
    {
      "cell_type": "code",
      "metadata": {
        "id": "lUeADZW2PE3D",
        "colab_type": "code",
        "colab": {
          "base_uri": "https://localhost:8080/",
          "height": 4556
        },
        "outputId": "900eacb3-59d3-4abb-b343-307ce0475cd2"
      },
      "source": [
        "subway_station_distance"
      ],
      "execution_count": 23,
      "outputs": [
        {
          "output_type": "execute_result",
          "data": {
            "text/plain": [
              "defaultdict(dict,\n",
              "            {'10号线': {('三元桥', '亮马桥'): 1506,\n",
              "              ('丰台站', '泥洼'): 954,\n",
              "              ('亮马桥', '农业展览馆'): 914,\n",
              "              ('健德门', '北土城'): 1,\n",
              "              ('公主坟', '西钓鱼台'): 2386,\n",
              "              ('六里桥', '莲花桥'): 2392,\n",
              "              ('农业展览馆', '团结湖'): 853,\n",
              "              ('分钟寺', '成寿寺'): 1058,\n",
              "              ('劲松', '潘家园'): 1021,\n",
              "              ('北土城', '安贞门'): 1020,\n",
              "              ('十里河', '分钟寺'): 1804,\n",
              "              ('双井', '劲松'): 1006,\n",
              "              ('呼家楼', '金台夕照'): 734,\n",
              "              ('团结湖', '呼家楼'): 1149,\n",
              "              ('国贸', '双井'): 1759,\n",
              "              ('大红门', '角门东'): 1130,\n",
              "              ('太阳宫', '三元桥'): 1759,\n",
              "              ('安贞门', '惠新西街南口'): 982,\n",
              "              ('宋家庄', '石榴庄'): 1269,\n",
              "              ('巴沟', '苏州街'): 1110,\n",
              "              ('惠新西街南口', '芍药居'): 1712,\n",
              "              ('慈寿寺', '车道沟'): 1590,\n",
              "              ('成寿寺', '宋家庄'): 1677,\n",
              "              ('泥洼', '西局'): 749,\n",
              "              ('海淀黄庄', '知春里'): 975,\n",
              "              ('潘家园', '十里河'): 1097,\n",
              "              ('火器营', '巴沟'): 1495,\n",
              "              ('牡丹园', '健德门'): 973,\n",
              "              ('知春路', '西土城'): 1101,\n",
              "              ('知春里', '知春路'): 1058,\n",
              "              ('石榴庄', '大红门'): 1244,\n",
              "              ('纪家庙', '首经贸'): 1143,\n",
              "              ('芍药居', '太阳宫'): 1003,\n",
              "              ('苏州街', '海淀黄庄'): 950,\n",
              "              ('草桥', '纪家庙'): 1547,\n",
              "              ('莲花桥', '公主坟'): 1016,\n",
              "              ('西土城', '牡丹园'): 1330,\n",
              "              ('西局', '六里桥'): 1584,\n",
              "              ('西钓鱼台', '慈寿寺'): 1214,\n",
              "              ('角门东', '角门西'): 1254,\n",
              "              ('角门西', '草桥'): 1688,\n",
              "              ('车道沟', '长春桥'): 1205,\n",
              "              ('金台夕照', '国贸'): 835,\n",
              "              ('长春桥', '火器营'): 961,\n",
              "              ('首经贸', '丰台站'): 1717},\n",
              "             '14号线（东段）': {('东湖渠', '来广营'): 1100,\n",
              "              ('东风北桥', '将台'): 1600,\n",
              "              ('九龙山', '大望路'): 1780,\n",
              "              ('北京南站', '陶然桥'): 887,\n",
              "              ('北工大西门', '平乐园'): 1128,\n",
              "              ('十里河', '南八里庄'): 1147,\n",
              "              ('南八里庄', '北工大西门'): 1276,\n",
              "              ('大望路', '红庙'): 708,\n",
              "              ('将台', '高家园'): 1171,\n",
              "              ('平乐园', '九龙山'): 897,\n",
              "              ('方庄', '十里河'): 1618,\n",
              "              ('景泰', '蒲黄榆'): 1025,\n",
              "              ('望京', '东湖渠'): 1283,\n",
              "              ('望京南', '阜通'): 1168,\n",
              "              ('朝阳公园', '枣营'): 1221,\n",
              "              ('来广营', '善各庄'): 1364,\n",
              "              ('枣营', '东风北桥'): 2173,\n",
              "              ('永定门外', '景泰'): 1119,\n",
              "              ('红庙', '金台路'): 894,\n",
              "              ('蒲黄榆', '方庄'): 1486,\n",
              "              ('金台路', '朝阳公园'): 1085,\n",
              "              ('阜通', '望京'): 903,\n",
              "              ('陶然桥', '永定门外'): 1063,\n",
              "              ('高家园', '望京南'): 676},\n",
              "             '14号线（西段）': {('七里庄', '西局'): 845,\n",
              "              ('园博园', '大瓦窑'): 4073,\n",
              "              ('大井', '七里庄'): 1579,\n",
              "              ('大瓦窑', '郭庄子'): 1236,\n",
              "              ('张郭庄', '园博园'): 1345,\n",
              "              ('郭庄子', '大井'): 2044},\n",
              "             '15号线': {('六道口', '北沙滩'): 1337,\n",
              "              ('关庄', '望京西'): 2071,\n",
              "              ('北沙滩', '奥林匹克公园'): 1999,\n",
              "              ('南法信', '石门'): 2712,\n",
              "              ('后沙峪', '南法信'): 4576,\n",
              "              ('国展', '花梨坎'): 1615,\n",
              "              ('大屯路东', '关庄'): 1087,\n",
              "              ('奥林匹克公园', '安立路'): 1368,\n",
              "              ('孙河', '国展'): 3386,\n",
              "              ('安立路', '大屯路东'): 938,\n",
              "              ('崔各庄', '马泉营'): 2008,\n",
              "              ('望京', '望京东'): 1652,\n",
              "              ('望京东', '崔各庄'): 2295,\n",
              "              ('望京西', '望京'): 1758,\n",
              "              ('清华东路西口', '六道口'): 1144,\n",
              "              ('石门', '顺义'): 1331,\n",
              "              ('花梨坎', '后沙峪'): 3354,\n",
              "              ('顺义', '俸伯'): 2441,\n",
              "              ('马泉营', '孙河'): 3309},\n",
              "             '2号线': {('东四十条', '东直门'): 824,\n",
              "              ('东直门', '雍和宫'): 2228,\n",
              "              ('前门', '崇文门'): 1634,\n",
              "              ('北京站', '建国门'): 945,\n",
              "              ('和平门', '前门'): 1171,\n",
              "              ('复兴门', '长椿街'): 1234,\n",
              "              ('安定门', '鼓楼大街'): 1237,\n",
              "              ('宣武门', '和平门'): 851,\n",
              "              ('崇文门', '北京站'): 1023,\n",
              "              ('建国门', '朝阳门'): 1763,\n",
              "              ('朝阳门', '东四十条'): 1027,\n",
              "              ('积水潭', '西直门'): 1899,\n",
              "              ('西直门', '车公庄'): 909,\n",
              "              ('车公庄', '阜成门'): 960,\n",
              "              ('长椿街', '宣武门'): 929,\n",
              "              ('阜成门', '复兴门'): 1832,\n",
              "              ('雍和宫', '安定门'): 794,\n",
              "              ('鼓楼大街', '积水潭'): 1766},\n",
              "             '4号线': {('中关村', '海淀黄庄'): 900,\n",
              "              ('人民大学', '魏公村'): 1051,\n",
              "              ('动物园', '西直门'): 1441,\n",
              "              ('北京南站', '马家堡'): 1480,\n",
              "              ('北京大学东门', '中关村'): 887,\n",
              "              ('北宫门', '西苑'): 1251,\n",
              "              ('国家图书馆', '动物园'): 1517,\n",
              "              ('圆明园', '北京大学东门'): 1295,\n",
              "              ('安河桥北', '北宫门'): 1363,\n",
              "              ('宣武门', '菜市口'): 1152,\n",
              "              ('平安里', '西四'): 1100,\n",
              "              ('新街口', '平安里'): 1100,\n",
              "              ('海淀黄庄', '人民大学'): 1063,\n",
              "              ('灵境胡同', '西单'): 1011,\n",
              "              ('菜市口', '陶然亭'): 1200,\n",
              "              ('西单', '宣武门'): 815,\n",
              "              ('西四', '灵境胡同'): 869,\n",
              "              ('西直门', '新街口'): 1025,\n",
              "              ('西苑', '圆明园'): 1672,\n",
              "              ('角门西', '公益西桥'): 989,\n",
              "              ('陶然亭', '北京南站'): 1643,\n",
              "              ('马家堡', '角门西'): 827,\n",
              "              ('魏公村', '国家图书馆'): 1658},\n",
              "             '5号线': {('东单', '崇文门'): 821,\n",
              "              ('东四', '灯市口'): 848,\n",
              "              ('刘家窑', '宋家庄'): 1670,\n",
              "              ('北新桥', '张自忠路'): 791,\n",
              "              ('北苑路北', '大屯路东'): 3,\n",
              "              ('和平西桥', '和平里北街'): 1059,\n",
              "              ('和平里北街', '雍和宫'): 1151,\n",
              "              ('大屯路东', '惠新西街北口'): 1838,\n",
              "              ('天坛东门', '蒲黄榆'): 1,\n",
              "              ('天通苑', '天通苑南'): 965,\n",
              "              ('天通苑北', '天通苑'): 939,\n",
              "              ('天通苑南', '立水桥'): 1544,\n",
              "              ('崇文门', '磁器口'): 876,\n",
              "              ('张自忠路', '东四'): 1016,\n",
              "              ('惠新西街北口', '惠新西街南口'): 1122,\n",
              "              ('惠新西街南口', '和平西桥'): 1025,\n",
              "              ('灯市口', '东单'): 945,\n",
              "              ('磁器口', '天坛东门'): 1183,\n",
              "              ('立水桥', '立水桥南'): 1305,\n",
              "              ('立水桥南', '北苑路北'): 1286,\n",
              "              ('蒲黄榆', '刘家窑'): 905,\n",
              "              ('雍和宫', '北新桥'): 866},\n",
              "             '6号线': {('东四', '朝阳门'): 1399,\n",
              "              ('东夏园', '潞城'): 1194,\n",
              "              ('东大桥', '呼家楼'): 845,\n",
              "              ('北海北', '南锣鼓巷'): 1349,\n",
              "              ('北运河东', '郝家府'): 929,\n",
              "              ('北运河西', '北运河东'): 1599,\n",
              "              ('十里堡', '青年路'): 1282,\n",
              "              ('南锣鼓巷', '东四'): 1937,\n",
              "              ('呼家楼', '金台路'): 1450,\n",
              "              ('常营', '草房'): 1405,\n",
              "              ('平安里', '北海北'): 1321,\n",
              "              ('慈寿寺', '花园桥'): 1431,\n",
              "              ('朝阳门', '东大桥'): 1668,\n",
              "              ('海淀五路居', '慈寿寺'): 1508,\n",
              "              ('物资学院路', '通州北关'): 2557,\n",
              "              ('白石桥南', '车公庄西'): 1664,\n",
              "              ('花园桥', '白石桥南'): 1166,\n",
              "              ('草房', '物资学院路'): 2115,\n",
              "              ('褡裢坡', '黄渠'): 1238,\n",
              "              ('车公庄', '平安里'): 1443,\n",
              "              ('车公庄西', '车公庄'): 887,\n",
              "              ('通州北关', '通运门'): 1468,\n",
              "              ('通运门', '北运河西'): 1543,\n",
              "              ('郝家府', '东夏园'): 1346,\n",
              "              ('金台路', '十里堡'): 2036,\n",
              "              ('青年路', '褡裢坡'): 3999,\n",
              "              ('黄渠', '常营'): 1854},\n",
              "             '7号线': {('九龙山', '大郊亭'): 781,\n",
              "              ('化工', '南楼梓庄'): 1464,\n",
              "              ('北京西站', '湾子'): 935,\n",
              "              ('南楼梓庄', '欢乐谷景区'): 906,\n",
              "              ('双井', '九龙山'): 1311,\n",
              "              ('双合', '焦化厂'): 1021,\n",
              "              ('垡头', '双合'): 1304,\n",
              "              ('大郊亭', '百子湾'): 865,\n",
              "              ('广安门内', '菜市口'): 1374,\n",
              "              ('广渠门内', '广渠门外'): 1332,\n",
              "              ('广渠门外', '双井'): 1241,\n",
              "              ('桥湾', '磁器口'): 1016,\n",
              "              ('欢乐谷景区', '垡头'): 1679,\n",
              "              ('湾子', '达官营'): 734,\n",
              "              ('珠市口', '桥湾'): 869,\n",
              "              ('百子湾', '化工'): 903,\n",
              "              ('磁器口', '广渠门内'): 1138,\n",
              "              ('菜市口', '虎坊桥'): 885,\n",
              "              ('虎坊桥', '珠市口'): 1205,\n",
              "              ('达官营', '广安门内'): 1874},\n",
              "             '八通线': {('临河里', '土桥'): 776,\n",
              "              ('九棵树', '梨园'): 1225,\n",
              "              ('传媒大学', '双桥'): 1894,\n",
              "              ('八里桥', '通州北苑'): 1700,\n",
              "              ('双桥', '管庄'): 1912,\n",
              "              ('四惠', '四惠东'): 1715,\n",
              "              ('四惠东', '高碑店'): 1375,\n",
              "              ('果园', '九棵树'): 990,\n",
              "              ('梨园', '临河里'): 1257,\n",
              "              ('管庄', '八里桥'): 1763,\n",
              "              ('通州北苑', '果园'): 1465,\n",
              "              ('高碑店', '传媒大学'): 2002},\n",
              "             '北京地铁8号线': {('什刹海', '南锣鼓巷'): 902,\n",
              "              ('北土城', '安华桥'): 1018,\n",
              "              ('回龙观东大街', '霍营'): 1114,\n",
              "              ('奥体中心', '北土城'): 900,\n",
              "              ('奥林匹克公园', '奥体中心'): 1667,\n",
              "              ('安华桥', '安德里北街'): 1274,\n",
              "              ('安德里北街', '鼓楼大街'): 1083,\n",
              "              ('平西府', '回龙观东大街'): 2056,\n",
              "              ('朱辛庄', '育知路'): 2318,\n",
              "              ('林萃桥', '森林公园南门'): 2555,\n",
              "              ('森林公园南门', '奥林匹克公园'): 1016,\n",
              "              ('永泰庄', '林萃桥'): 2553,\n",
              "              ('育新', '西小口'): 1543,\n",
              "              ('育知路', '平西府'): 1985,\n",
              "              ('西小口', '永泰庄'): 1041,\n",
              "              ('霍营', '育新'): 1894,\n",
              "              ('鼓楼大街', '什刹海'): 1188},\n",
              "             '大兴线': {('义和庄', '生物医药基地'): 2918,\n",
              "              ('公益西桥', '新宫'): 2798,\n",
              "              ('新宫', '西红门'): 5102,\n",
              "              ('枣园', '清源路'): 1189,\n",
              "              ('清源路', '黄村西大街'): 1214,\n",
              "              ('生物医药基地', '天宫院'): 1811,\n",
              "              ('西红门', '高米店北'): 1810,\n",
              "              ('高米店北', '高米店南'): 1128,\n",
              "              ('高米店南', '枣园'): 1096,\n",
              "              ('黄村火车站', '义和庄'): 2035,\n",
              "              ('黄村西大街', '黄村火车站'): 987},\n",
              "             '房山线': {('大葆台', '稻田'): 6466,\n",
              "              ('广阳城', '良乡大学城北'): 2003,\n",
              "              ('稻田', '长阳'): 4041,\n",
              "              ('篱笆房', '广阳城'): 1474,\n",
              "              ('良乡南关', '苏庄'): 1330,\n",
              "              ('良乡大学城', '良乡大学城西'): 1738,\n",
              "              ('良乡大学城北', '良乡大学城'): 1188,\n",
              "              ('良乡大学城西', '良乡南关'): 1332,\n",
              "              ('苏庄', '阎村东'): 2300,\n",
              "              ('郭公庄', '大葆台'): 1405,\n",
              "              ('长阳', '篱笆房'): 2150},\n",
              "             '昌平线': {('北邵洼', '南邵'): 1958,\n",
              "              ('十三陵景区', '昌平'): 3508,\n",
              "              ('南邵', '沙河高教园'): 5357,\n",
              "              ('巩华城', '朱辛庄'): 3799,\n",
              "              ('昌平', '昌平东关'): 2433,\n",
              "              ('昌平东关', '北邵洼'): 1683,\n",
              "              ('昌平西山口', '十三陵景区'): 1213,\n",
              "              ('朱辛庄', '生命科学园'): 2367,\n",
              "              ('沙河', '巩华城'): 2025,\n",
              "              ('沙河高教园', '沙河'): 1964,\n",
              "              ('生命科学园', '西二旗'): 5440}})"
            ]
          },
          "metadata": {
            "tags": []
          },
          "execution_count": 23
        }
      ]
    },
    {
      "cell_type": "code",
      "metadata": {
        "id": "7pUwtTwbq1gg",
        "colab_type": "code",
        "colab": {}
      },
      "source": [
        "# 删除无效键值\n",
        "for key in list(subway_station_distance.keys()):\n",
        "        if not subway_station_distance.get(key):\n",
        "            del subway_station_distance[key]"
      ],
      "execution_count": 0,
      "outputs": []
    },
    {
      "cell_type": "code",
      "metadata": {
        "id": "_FZ7Dkfuws7K",
        "colab_type": "code",
        "colab": {
          "base_uri": "https://localhost:8080/",
          "height": 4556
        },
        "outputId": "440987e6-20ee-44fc-fe61-d65cc66c65c3"
      },
      "source": [
        "subway_station_distance"
      ],
      "execution_count": 25,
      "outputs": [
        {
          "output_type": "execute_result",
          "data": {
            "text/plain": [
              "defaultdict(dict,\n",
              "            {'10号线': {('三元桥', '亮马桥'): 1506,\n",
              "              ('丰台站', '泥洼'): 954,\n",
              "              ('亮马桥', '农业展览馆'): 914,\n",
              "              ('健德门', '北土城'): 1,\n",
              "              ('公主坟', '西钓鱼台'): 2386,\n",
              "              ('六里桥', '莲花桥'): 2392,\n",
              "              ('农业展览馆', '团结湖'): 853,\n",
              "              ('分钟寺', '成寿寺'): 1058,\n",
              "              ('劲松', '潘家园'): 1021,\n",
              "              ('北土城', '安贞门'): 1020,\n",
              "              ('十里河', '分钟寺'): 1804,\n",
              "              ('双井', '劲松'): 1006,\n",
              "              ('呼家楼', '金台夕照'): 734,\n",
              "              ('团结湖', '呼家楼'): 1149,\n",
              "              ('国贸', '双井'): 1759,\n",
              "              ('大红门', '角门东'): 1130,\n",
              "              ('太阳宫', '三元桥'): 1759,\n",
              "              ('安贞门', '惠新西街南口'): 982,\n",
              "              ('宋家庄', '石榴庄'): 1269,\n",
              "              ('巴沟', '苏州街'): 1110,\n",
              "              ('惠新西街南口', '芍药居'): 1712,\n",
              "              ('慈寿寺', '车道沟'): 1590,\n",
              "              ('成寿寺', '宋家庄'): 1677,\n",
              "              ('泥洼', '西局'): 749,\n",
              "              ('海淀黄庄', '知春里'): 975,\n",
              "              ('潘家园', '十里河'): 1097,\n",
              "              ('火器营', '巴沟'): 1495,\n",
              "              ('牡丹园', '健德门'): 973,\n",
              "              ('知春路', '西土城'): 1101,\n",
              "              ('知春里', '知春路'): 1058,\n",
              "              ('石榴庄', '大红门'): 1244,\n",
              "              ('纪家庙', '首经贸'): 1143,\n",
              "              ('芍药居', '太阳宫'): 1003,\n",
              "              ('苏州街', '海淀黄庄'): 950,\n",
              "              ('草桥', '纪家庙'): 1547,\n",
              "              ('莲花桥', '公主坟'): 1016,\n",
              "              ('西土城', '牡丹园'): 1330,\n",
              "              ('西局', '六里桥'): 1584,\n",
              "              ('西钓鱼台', '慈寿寺'): 1214,\n",
              "              ('角门东', '角门西'): 1254,\n",
              "              ('角门西', '草桥'): 1688,\n",
              "              ('车道沟', '长春桥'): 1205,\n",
              "              ('金台夕照', '国贸'): 835,\n",
              "              ('长春桥', '火器营'): 961,\n",
              "              ('首经贸', '丰台站'): 1717},\n",
              "             '14号线（东段）': {('东湖渠', '来广营'): 1100,\n",
              "              ('东风北桥', '将台'): 1600,\n",
              "              ('九龙山', '大望路'): 1780,\n",
              "              ('北京南站', '陶然桥'): 887,\n",
              "              ('北工大西门', '平乐园'): 1128,\n",
              "              ('十里河', '南八里庄'): 1147,\n",
              "              ('南八里庄', '北工大西门'): 1276,\n",
              "              ('大望路', '红庙'): 708,\n",
              "              ('将台', '高家园'): 1171,\n",
              "              ('平乐园', '九龙山'): 897,\n",
              "              ('方庄', '十里河'): 1618,\n",
              "              ('景泰', '蒲黄榆'): 1025,\n",
              "              ('望京', '东湖渠'): 1283,\n",
              "              ('望京南', '阜通'): 1168,\n",
              "              ('朝阳公园', '枣营'): 1221,\n",
              "              ('来广营', '善各庄'): 1364,\n",
              "              ('枣营', '东风北桥'): 2173,\n",
              "              ('永定门外', '景泰'): 1119,\n",
              "              ('红庙', '金台路'): 894,\n",
              "              ('蒲黄榆', '方庄'): 1486,\n",
              "              ('金台路', '朝阳公园'): 1085,\n",
              "              ('阜通', '望京'): 903,\n",
              "              ('陶然桥', '永定门外'): 1063,\n",
              "              ('高家园', '望京南'): 676},\n",
              "             '14号线（西段）': {('七里庄', '西局'): 845,\n",
              "              ('园博园', '大瓦窑'): 4073,\n",
              "              ('大井', '七里庄'): 1579,\n",
              "              ('大瓦窑', '郭庄子'): 1236,\n",
              "              ('张郭庄', '园博园'): 1345,\n",
              "              ('郭庄子', '大井'): 2044},\n",
              "             '15号线': {('六道口', '北沙滩'): 1337,\n",
              "              ('关庄', '望京西'): 2071,\n",
              "              ('北沙滩', '奥林匹克公园'): 1999,\n",
              "              ('南法信', '石门'): 2712,\n",
              "              ('后沙峪', '南法信'): 4576,\n",
              "              ('国展', '花梨坎'): 1615,\n",
              "              ('大屯路东', '关庄'): 1087,\n",
              "              ('奥林匹克公园', '安立路'): 1368,\n",
              "              ('孙河', '国展'): 3386,\n",
              "              ('安立路', '大屯路东'): 938,\n",
              "              ('崔各庄', '马泉营'): 2008,\n",
              "              ('望京', '望京东'): 1652,\n",
              "              ('望京东', '崔各庄'): 2295,\n",
              "              ('望京西', '望京'): 1758,\n",
              "              ('清华东路西口', '六道口'): 1144,\n",
              "              ('石门', '顺义'): 1331,\n",
              "              ('花梨坎', '后沙峪'): 3354,\n",
              "              ('顺义', '俸伯'): 2441,\n",
              "              ('马泉营', '孙河'): 3309},\n",
              "             '2号线': {('东四十条', '东直门'): 824,\n",
              "              ('东直门', '雍和宫'): 2228,\n",
              "              ('前门', '崇文门'): 1634,\n",
              "              ('北京站', '建国门'): 945,\n",
              "              ('和平门', '前门'): 1171,\n",
              "              ('复兴门', '长椿街'): 1234,\n",
              "              ('安定门', '鼓楼大街'): 1237,\n",
              "              ('宣武门', '和平门'): 851,\n",
              "              ('崇文门', '北京站'): 1023,\n",
              "              ('建国门', '朝阳门'): 1763,\n",
              "              ('朝阳门', '东四十条'): 1027,\n",
              "              ('积水潭', '西直门'): 1899,\n",
              "              ('西直门', '车公庄'): 909,\n",
              "              ('车公庄', '阜成门'): 960,\n",
              "              ('长椿街', '宣武门'): 929,\n",
              "              ('阜成门', '复兴门'): 1832,\n",
              "              ('雍和宫', '安定门'): 794,\n",
              "              ('鼓楼大街', '积水潭'): 1766},\n",
              "             '4号线': {('中关村', '海淀黄庄'): 900,\n",
              "              ('人民大学', '魏公村'): 1051,\n",
              "              ('动物园', '西直门'): 1441,\n",
              "              ('北京南站', '马家堡'): 1480,\n",
              "              ('北京大学东门', '中关村'): 887,\n",
              "              ('北宫门', '西苑'): 1251,\n",
              "              ('国家图书馆', '动物园'): 1517,\n",
              "              ('圆明园', '北京大学东门'): 1295,\n",
              "              ('安河桥北', '北宫门'): 1363,\n",
              "              ('宣武门', '菜市口'): 1152,\n",
              "              ('平安里', '西四'): 1100,\n",
              "              ('新街口', '平安里'): 1100,\n",
              "              ('海淀黄庄', '人民大学'): 1063,\n",
              "              ('灵境胡同', '西单'): 1011,\n",
              "              ('菜市口', '陶然亭'): 1200,\n",
              "              ('西单', '宣武门'): 815,\n",
              "              ('西四', '灵境胡同'): 869,\n",
              "              ('西直门', '新街口'): 1025,\n",
              "              ('西苑', '圆明园'): 1672,\n",
              "              ('角门西', '公益西桥'): 989,\n",
              "              ('陶然亭', '北京南站'): 1643,\n",
              "              ('马家堡', '角门西'): 827,\n",
              "              ('魏公村', '国家图书馆'): 1658},\n",
              "             '5号线': {('东单', '崇文门'): 821,\n",
              "              ('东四', '灯市口'): 848,\n",
              "              ('刘家窑', '宋家庄'): 1670,\n",
              "              ('北新桥', '张自忠路'): 791,\n",
              "              ('北苑路北', '大屯路东'): 3,\n",
              "              ('和平西桥', '和平里北街'): 1059,\n",
              "              ('和平里北街', '雍和宫'): 1151,\n",
              "              ('大屯路东', '惠新西街北口'): 1838,\n",
              "              ('天坛东门', '蒲黄榆'): 1,\n",
              "              ('天通苑', '天通苑南'): 965,\n",
              "              ('天通苑北', '天通苑'): 939,\n",
              "              ('天通苑南', '立水桥'): 1544,\n",
              "              ('崇文门', '磁器口'): 876,\n",
              "              ('张自忠路', '东四'): 1016,\n",
              "              ('惠新西街北口', '惠新西街南口'): 1122,\n",
              "              ('惠新西街南口', '和平西桥'): 1025,\n",
              "              ('灯市口', '东单'): 945,\n",
              "              ('磁器口', '天坛东门'): 1183,\n",
              "              ('立水桥', '立水桥南'): 1305,\n",
              "              ('立水桥南', '北苑路北'): 1286,\n",
              "              ('蒲黄榆', '刘家窑'): 905,\n",
              "              ('雍和宫', '北新桥'): 866},\n",
              "             '6号线': {('东四', '朝阳门'): 1399,\n",
              "              ('东夏园', '潞城'): 1194,\n",
              "              ('东大桥', '呼家楼'): 845,\n",
              "              ('北海北', '南锣鼓巷'): 1349,\n",
              "              ('北运河东', '郝家府'): 929,\n",
              "              ('北运河西', '北运河东'): 1599,\n",
              "              ('十里堡', '青年路'): 1282,\n",
              "              ('南锣鼓巷', '东四'): 1937,\n",
              "              ('呼家楼', '金台路'): 1450,\n",
              "              ('常营', '草房'): 1405,\n",
              "              ('平安里', '北海北'): 1321,\n",
              "              ('慈寿寺', '花园桥'): 1431,\n",
              "              ('朝阳门', '东大桥'): 1668,\n",
              "              ('海淀五路居', '慈寿寺'): 1508,\n",
              "              ('物资学院路', '通州北关'): 2557,\n",
              "              ('白石桥南', '车公庄西'): 1664,\n",
              "              ('花园桥', '白石桥南'): 1166,\n",
              "              ('草房', '物资学院路'): 2115,\n",
              "              ('褡裢坡', '黄渠'): 1238,\n",
              "              ('车公庄', '平安里'): 1443,\n",
              "              ('车公庄西', '车公庄'): 887,\n",
              "              ('通州北关', '通运门'): 1468,\n",
              "              ('通运门', '北运河西'): 1543,\n",
              "              ('郝家府', '东夏园'): 1346,\n",
              "              ('金台路', '十里堡'): 2036,\n",
              "              ('青年路', '褡裢坡'): 3999,\n",
              "              ('黄渠', '常营'): 1854},\n",
              "             '7号线': {('九龙山', '大郊亭'): 781,\n",
              "              ('化工', '南楼梓庄'): 1464,\n",
              "              ('北京西站', '湾子'): 935,\n",
              "              ('南楼梓庄', '欢乐谷景区'): 906,\n",
              "              ('双井', '九龙山'): 1311,\n",
              "              ('双合', '焦化厂'): 1021,\n",
              "              ('垡头', '双合'): 1304,\n",
              "              ('大郊亭', '百子湾'): 865,\n",
              "              ('广安门内', '菜市口'): 1374,\n",
              "              ('广渠门内', '广渠门外'): 1332,\n",
              "              ('广渠门外', '双井'): 1241,\n",
              "              ('桥湾', '磁器口'): 1016,\n",
              "              ('欢乐谷景区', '垡头'): 1679,\n",
              "              ('湾子', '达官营'): 734,\n",
              "              ('珠市口', '桥湾'): 869,\n",
              "              ('百子湾', '化工'): 903,\n",
              "              ('磁器口', '广渠门内'): 1138,\n",
              "              ('菜市口', '虎坊桥'): 885,\n",
              "              ('虎坊桥', '珠市口'): 1205,\n",
              "              ('达官营', '广安门内'): 1874},\n",
              "             '八通线': {('临河里', '土桥'): 776,\n",
              "              ('九棵树', '梨园'): 1225,\n",
              "              ('传媒大学', '双桥'): 1894,\n",
              "              ('八里桥', '通州北苑'): 1700,\n",
              "              ('双桥', '管庄'): 1912,\n",
              "              ('四惠', '四惠东'): 1715,\n",
              "              ('四惠东', '高碑店'): 1375,\n",
              "              ('果园', '九棵树'): 990,\n",
              "              ('梨园', '临河里'): 1257,\n",
              "              ('管庄', '八里桥'): 1763,\n",
              "              ('通州北苑', '果园'): 1465,\n",
              "              ('高碑店', '传媒大学'): 2002},\n",
              "             '北京地铁8号线': {('什刹海', '南锣鼓巷'): 902,\n",
              "              ('北土城', '安华桥'): 1018,\n",
              "              ('回龙观东大街', '霍营'): 1114,\n",
              "              ('奥体中心', '北土城'): 900,\n",
              "              ('奥林匹克公园', '奥体中心'): 1667,\n",
              "              ('安华桥', '安德里北街'): 1274,\n",
              "              ('安德里北街', '鼓楼大街'): 1083,\n",
              "              ('平西府', '回龙观东大街'): 2056,\n",
              "              ('朱辛庄', '育知路'): 2318,\n",
              "              ('林萃桥', '森林公园南门'): 2555,\n",
              "              ('森林公园南门', '奥林匹克公园'): 1016,\n",
              "              ('永泰庄', '林萃桥'): 2553,\n",
              "              ('育新', '西小口'): 1543,\n",
              "              ('育知路', '平西府'): 1985,\n",
              "              ('西小口', '永泰庄'): 1041,\n",
              "              ('霍营', '育新'): 1894,\n",
              "              ('鼓楼大街', '什刹海'): 1188},\n",
              "             '大兴线': {('义和庄', '生物医药基地'): 2918,\n",
              "              ('公益西桥', '新宫'): 2798,\n",
              "              ('新宫', '西红门'): 5102,\n",
              "              ('枣园', '清源路'): 1189,\n",
              "              ('清源路', '黄村西大街'): 1214,\n",
              "              ('生物医药基地', '天宫院'): 1811,\n",
              "              ('西红门', '高米店北'): 1810,\n",
              "              ('高米店北', '高米店南'): 1128,\n",
              "              ('高米店南', '枣园'): 1096,\n",
              "              ('黄村火车站', '义和庄'): 2035,\n",
              "              ('黄村西大街', '黄村火车站'): 987},\n",
              "             '房山线': {('大葆台', '稻田'): 6466,\n",
              "              ('广阳城', '良乡大学城北'): 2003,\n",
              "              ('稻田', '长阳'): 4041,\n",
              "              ('篱笆房', '广阳城'): 1474,\n",
              "              ('良乡南关', '苏庄'): 1330,\n",
              "              ('良乡大学城', '良乡大学城西'): 1738,\n",
              "              ('良乡大学城北', '良乡大学城'): 1188,\n",
              "              ('良乡大学城西', '良乡南关'): 1332,\n",
              "              ('苏庄', '阎村东'): 2300,\n",
              "              ('郭公庄', '大葆台'): 1405,\n",
              "              ('长阳', '篱笆房'): 2150},\n",
              "             '昌平线': {('北邵洼', '南邵'): 1958,\n",
              "              ('十三陵景区', '昌平'): 3508,\n",
              "              ('南邵', '沙河高教园'): 5357,\n",
              "              ('巩华城', '朱辛庄'): 3799,\n",
              "              ('昌平', '昌平东关'): 2433,\n",
              "              ('昌平东关', '北邵洼'): 1683,\n",
              "              ('昌平西山口', '十三陵景区'): 1213,\n",
              "              ('朱辛庄', '生命科学园'): 2367,\n",
              "              ('沙河', '巩华城'): 2025,\n",
              "              ('沙河高教园', '沙河'): 1964,\n",
              "              ('生命科学园', '西二旗'): 5440}})"
            ]
          },
          "metadata": {
            "tags": []
          },
          "execution_count": 25
        }
      ]
    },
    {
      "cell_type": "code",
      "metadata": {
        "id": "T_Za6AdgyzfZ",
        "colab_type": "code",
        "colab": {}
      },
      "source": [
        "# 把线路名取出\n",
        "route_name = subway_station_distance.keys()"
      ],
      "execution_count": 0,
      "outputs": []
    },
    {
      "cell_type": "code",
      "metadata": {
        "id": "PeoyuICGTcms",
        "colab_type": "code",
        "colab": {
          "base_uri": "https://localhost:8080/",
          "height": 54
        },
        "outputId": "c39f392a-f6a2-40bc-dd36-0bf1fedde655"
      },
      "source": [
        "route_name"
      ],
      "execution_count": 27,
      "outputs": [
        {
          "output_type": "execute_result",
          "data": {
            "text/plain": [
              "dict_keys(['大兴线', '2号线', '4号线', '5号线', '6号线', '7号线', '北京地铁8号线', '10号线', '14号线（西段）', '14号线（东段）', '15号线', '八通线', '昌平线', '房山线'])"
            ]
          },
          "metadata": {
            "tags": []
          },
          "execution_count": 27
        }
      ]
    },
    {
      "cell_type": "code",
      "metadata": {
        "id": "WwoB8fFYc1LX",
        "colab_type": "code",
        "colab": {}
      },
      "source": [
        "# 把车站名和距离取出\n",
        "station_name = []\n",
        "station_distance = []\n",
        "for key,values in subway_station_distance.items():\n",
        "    station_dic = values\n",
        "    for station,distance in station_dic.items():\n",
        "        station_name.append(station)\n",
        "        station_distance.append(distance)"
      ],
      "execution_count": 0,
      "outputs": []
    },
    {
      "cell_type": "code",
      "metadata": {
        "id": "uj4yC5gtgLud",
        "colab_type": "code",
        "colab": {
          "base_uri": "https://localhost:8080/",
          "height": 4539
        },
        "outputId": "7c6f3fd7-f469-4e19-b231-1c9b4a19b597"
      },
      "source": [
        "station_name"
      ],
      "execution_count": 29,
      "outputs": [
        {
          "output_type": "execute_result",
          "data": {
            "text/plain": [
              "[('公益西桥', '新宫'),\n",
              " ('新宫', '西红门'),\n",
              " ('西红门', '高米店北'),\n",
              " ('高米店北', '高米店南'),\n",
              " ('高米店南', '枣园'),\n",
              " ('枣园', '清源路'),\n",
              " ('清源路', '黄村西大街'),\n",
              " ('黄村西大街', '黄村火车站'),\n",
              " ('黄村火车站', '义和庄'),\n",
              " ('义和庄', '生物医药基地'),\n",
              " ('生物医药基地', '天宫院'),\n",
              " ('西直门', '车公庄'),\n",
              " ('车公庄', '阜成门'),\n",
              " ('阜成门', '复兴门'),\n",
              " ('复兴门', '长椿街'),\n",
              " ('长椿街', '宣武门'),\n",
              " ('宣武门', '和平门'),\n",
              " ('和平门', '前门'),\n",
              " ('前门', '崇文门'),\n",
              " ('崇文门', '北京站'),\n",
              " ('北京站', '建国门'),\n",
              " ('建国门', '朝阳门'),\n",
              " ('朝阳门', '东四十条'),\n",
              " ('东四十条', '东直门'),\n",
              " ('东直门', '雍和宫'),\n",
              " ('雍和宫', '安定门'),\n",
              " ('安定门', '鼓楼大街'),\n",
              " ('鼓楼大街', '积水潭'),\n",
              " ('积水潭', '西直门'),\n",
              " ('安河桥北', '北宫门'),\n",
              " ('北宫门', '西苑'),\n",
              " ('西苑', '圆明园'),\n",
              " ('圆明园', '北京大学东门'),\n",
              " ('北京大学东门', '中关村'),\n",
              " ('中关村', '海淀黄庄'),\n",
              " ('海淀黄庄', '人民大学'),\n",
              " ('人民大学', '魏公村'),\n",
              " ('魏公村', '国家图书馆'),\n",
              " ('国家图书馆', '动物园'),\n",
              " ('动物园', '西直门'),\n",
              " ('西直门', '新街口'),\n",
              " ('新街口', '平安里'),\n",
              " ('平安里', '西四'),\n",
              " ('西四', '灵境胡同'),\n",
              " ('灵境胡同', '西单'),\n",
              " ('西单', '宣武门'),\n",
              " ('宣武门', '菜市口'),\n",
              " ('菜市口', '陶然亭'),\n",
              " ('陶然亭', '北京南站'),\n",
              " ('北京南站', '马家堡'),\n",
              " ('马家堡', '角门西'),\n",
              " ('角门西', '公益西桥'),\n",
              " ('天通苑北', '天通苑'),\n",
              " ('天通苑', '天通苑南'),\n",
              " ('天通苑南', '立水桥'),\n",
              " ('立水桥', '立水桥南'),\n",
              " ('立水桥南', '北苑路北'),\n",
              " ('北苑路北', '大屯路东'),\n",
              " ('大屯路东', '惠新西街北口'),\n",
              " ('惠新西街北口', '惠新西街南口'),\n",
              " ('惠新西街南口', '和平西桥'),\n",
              " ('和平西桥', '和平里北街'),\n",
              " ('和平里北街', '雍和宫'),\n",
              " ('雍和宫', '北新桥'),\n",
              " ('北新桥', '张自忠路'),\n",
              " ('张自忠路', '东四'),\n",
              " ('东四', '灯市口'),\n",
              " ('灯市口', '东单'),\n",
              " ('东单', '崇文门'),\n",
              " ('崇文门', '磁器口'),\n",
              " ('磁器口', '天坛东门'),\n",
              " ('天坛东门', '蒲黄榆'),\n",
              " ('蒲黄榆', '刘家窑'),\n",
              " ('刘家窑', '宋家庄'),\n",
              " ('海淀五路居', '慈寿寺'),\n",
              " ('慈寿寺', '花园桥'),\n",
              " ('花园桥', '白石桥南'),\n",
              " ('白石桥南', '车公庄西'),\n",
              " ('车公庄西', '车公庄'),\n",
              " ('车公庄', '平安里'),\n",
              " ('平安里', '北海北'),\n",
              " ('北海北', '南锣鼓巷'),\n",
              " ('南锣鼓巷', '东四'),\n",
              " ('东四', '朝阳门'),\n",
              " ('朝阳门', '东大桥'),\n",
              " ('东大桥', '呼家楼'),\n",
              " ('呼家楼', '金台路'),\n",
              " ('金台路', '十里堡'),\n",
              " ('十里堡', '青年路'),\n",
              " ('青年路', '褡裢坡'),\n",
              " ('褡裢坡', '黄渠'),\n",
              " ('黄渠', '常营'),\n",
              " ('常营', '草房'),\n",
              " ('草房', '物资学院路'),\n",
              " ('物资学院路', '通州北关'),\n",
              " ('通州北关', '通运门'),\n",
              " ('通运门', '北运河西'),\n",
              " ('北运河西', '北运河东'),\n",
              " ('北运河东', '郝家府'),\n",
              " ('郝家府', '东夏园'),\n",
              " ('东夏园', '潞城'),\n",
              " ('北京西站', '湾子'),\n",
              " ('湾子', '达官营'),\n",
              " ('达官营', '广安门内'),\n",
              " ('广安门内', '菜市口'),\n",
              " ('菜市口', '虎坊桥'),\n",
              " ('虎坊桥', '珠市口'),\n",
              " ('珠市口', '桥湾'),\n",
              " ('桥湾', '磁器口'),\n",
              " ('磁器口', '广渠门内'),\n",
              " ('广渠门内', '广渠门外'),\n",
              " ('广渠门外', '双井'),\n",
              " ('双井', '九龙山'),\n",
              " ('九龙山', '大郊亭'),\n",
              " ('大郊亭', '百子湾'),\n",
              " ('百子湾', '化工'),\n",
              " ('化工', '南楼梓庄'),\n",
              " ('南楼梓庄', '欢乐谷景区'),\n",
              " ('欢乐谷景区', '垡头'),\n",
              " ('垡头', '双合'),\n",
              " ('双合', '焦化厂'),\n",
              " ('朱辛庄', '育知路'),\n",
              " ('育知路', '平西府'),\n",
              " ('平西府', '回龙观东大街'),\n",
              " ('回龙观东大街', '霍营'),\n",
              " ('霍营', '育新'),\n",
              " ('育新', '西小口'),\n",
              " ('西小口', '永泰庄'),\n",
              " ('永泰庄', '林萃桥'),\n",
              " ('林萃桥', '森林公园南门'),\n",
              " ('森林公园南门', '奥林匹克公园'),\n",
              " ('奥林匹克公园', '奥体中心'),\n",
              " ('奥体中心', '北土城'),\n",
              " ('北土城', '安华桥'),\n",
              " ('安华桥', '安德里北街'),\n",
              " ('安德里北街', '鼓楼大街'),\n",
              " ('鼓楼大街', '什刹海'),\n",
              " ('什刹海', '南锣鼓巷'),\n",
              " ('巴沟', '苏州街'),\n",
              " ('苏州街', '海淀黄庄'),\n",
              " ('海淀黄庄', '知春里'),\n",
              " ('知春里', '知春路'),\n",
              " ('知春路', '西土城'),\n",
              " ('西土城', '牡丹园'),\n",
              " ('牡丹园', '健德门'),\n",
              " ('健德门', '北土城'),\n",
              " ('北土城', '安贞门'),\n",
              " ('安贞门', '惠新西街南口'),\n",
              " ('惠新西街南口', '芍药居'),\n",
              " ('芍药居', '太阳宫'),\n",
              " ('太阳宫', '三元桥'),\n",
              " ('三元桥', '亮马桥'),\n",
              " ('亮马桥', '农业展览馆'),\n",
              " ('农业展览馆', '团结湖'),\n",
              " ('团结湖', '呼家楼'),\n",
              " ('呼家楼', '金台夕照'),\n",
              " ('金台夕照', '国贸'),\n",
              " ('国贸', '双井'),\n",
              " ('双井', '劲松'),\n",
              " ('劲松', '潘家园'),\n",
              " ('潘家园', '十里河'),\n",
              " ('十里河', '分钟寺'),\n",
              " ('分钟寺', '成寿寺'),\n",
              " ('成寿寺', '宋家庄'),\n",
              " ('宋家庄', '石榴庄'),\n",
              " ('石榴庄', '大红门'),\n",
              " ('大红门', '角门东'),\n",
              " ('角门东', '角门西'),\n",
              " ('角门西', '草桥'),\n",
              " ('草桥', '纪家庙'),\n",
              " ('纪家庙', '首经贸'),\n",
              " ('首经贸', '丰台站'),\n",
              " ('丰台站', '泥洼'),\n",
              " ('泥洼', '西局'),\n",
              " ('西局', '六里桥'),\n",
              " ('六里桥', '莲花桥'),\n",
              " ('莲花桥', '公主坟'),\n",
              " ('公主坟', '西钓鱼台'),\n",
              " ('西钓鱼台', '慈寿寺'),\n",
              " ('慈寿寺', '车道沟'),\n",
              " ('车道沟', '长春桥'),\n",
              " ('长春桥', '火器营'),\n",
              " ('火器营', '巴沟'),\n",
              " ('张郭庄', '园博园'),\n",
              " ('园博园', '大瓦窑'),\n",
              " ('大瓦窑', '郭庄子'),\n",
              " ('郭庄子', '大井'),\n",
              " ('大井', '七里庄'),\n",
              " ('七里庄', '西局'),\n",
              " ('北京南站', '陶然桥'),\n",
              " ('陶然桥', '永定门外'),\n",
              " ('永定门外', '景泰'),\n",
              " ('景泰', '蒲黄榆'),\n",
              " ('蒲黄榆', '方庄'),\n",
              " ('方庄', '十里河'),\n",
              " ('十里河', '南八里庄'),\n",
              " ('南八里庄', '北工大西门'),\n",
              " ('北工大西门', '平乐园'),\n",
              " ('平乐园', '九龙山'),\n",
              " ('九龙山', '大望路'),\n",
              " ('大望路', '红庙'),\n",
              " ('红庙', '金台路'),\n",
              " ('金台路', '朝阳公园'),\n",
              " ('朝阳公园', '枣营'),\n",
              " ('枣营', '东风北桥'),\n",
              " ('东风北桥', '将台'),\n",
              " ('将台', '高家园'),\n",
              " ('高家园', '望京南'),\n",
              " ('望京南', '阜通'),\n",
              " ('阜通', '望京'),\n",
              " ('望京', '东湖渠'),\n",
              " ('东湖渠', '来广营'),\n",
              " ('来广营', '善各庄'),\n",
              " ('清华东路西口', '六道口'),\n",
              " ('六道口', '北沙滩'),\n",
              " ('北沙滩', '奥林匹克公园'),\n",
              " ('奥林匹克公园', '安立路'),\n",
              " ('安立路', '大屯路东'),\n",
              " ('大屯路东', '关庄'),\n",
              " ('关庄', '望京西'),\n",
              " ('望京西', '望京'),\n",
              " ('望京', '望京东'),\n",
              " ('望京东', '崔各庄'),\n",
              " ('崔各庄', '马泉营'),\n",
              " ('马泉营', '孙河'),\n",
              " ('孙河', '国展'),\n",
              " ('国展', '花梨坎'),\n",
              " ('花梨坎', '后沙峪'),\n",
              " ('后沙峪', '南法信'),\n",
              " ('南法信', '石门'),\n",
              " ('石门', '顺义'),\n",
              " ('顺义', '俸伯'),\n",
              " ('四惠', '四惠东'),\n",
              " ('四惠东', '高碑店'),\n",
              " ('高碑店', '传媒大学'),\n",
              " ('传媒大学', '双桥'),\n",
              " ('双桥', '管庄'),\n",
              " ('管庄', '八里桥'),\n",
              " ('八里桥', '通州北苑'),\n",
              " ('通州北苑', '果园'),\n",
              " ('果园', '九棵树'),\n",
              " ('九棵树', '梨园'),\n",
              " ('梨园', '临河里'),\n",
              " ('临河里', '土桥'),\n",
              " ('昌平西山口', '十三陵景区'),\n",
              " ('十三陵景区', '昌平'),\n",
              " ('昌平', '昌平东关'),\n",
              " ('昌平东关', '北邵洼'),\n",
              " ('北邵洼', '南邵'),\n",
              " ('南邵', '沙河高教园'),\n",
              " ('沙河高教园', '沙河'),\n",
              " ('沙河', '巩华城'),\n",
              " ('巩华城', '朱辛庄'),\n",
              " ('朱辛庄', '生命科学园'),\n",
              " ('生命科学园', '西二旗'),\n",
              " ('郭公庄', '大葆台'),\n",
              " ('大葆台', '稻田'),\n",
              " ('稻田', '长阳'),\n",
              " ('长阳', '篱笆房'),\n",
              " ('篱笆房', '广阳城'),\n",
              " ('广阳城', '良乡大学城北'),\n",
              " ('良乡大学城北', '良乡大学城'),\n",
              " ('良乡大学城', '良乡大学城西'),\n",
              " ('良乡大学城西', '良乡南关'),\n",
              " ('良乡南关', '苏庄'),\n",
              " ('苏庄', '阎村东')]"
            ]
          },
          "metadata": {
            "tags": []
          },
          "execution_count": 29
        }
      ]
    },
    {
      "cell_type": "code",
      "metadata": {
        "id": "dYgw51TeeIdd",
        "colab_type": "code",
        "colab": {
          "base_uri": "https://localhost:8080/",
          "height": 34
        },
        "outputId": "4001cf59-f493-4d64-9fa3-d95755277e5a"
      },
      "source": [
        "type(station_name)"
      ],
      "execution_count": 30,
      "outputs": [
        {
          "output_type": "execute_result",
          "data": {
            "text/plain": [
              "list"
            ]
          },
          "metadata": {
            "tags": []
          },
          "execution_count": 30
        }
      ]
    },
    {
      "cell_type": "code",
      "metadata": {
        "id": "bJbKKPp8bF_K",
        "colab_type": "code",
        "colab": {
          "base_uri": "https://localhost:8080/",
          "height": 34
        },
        "outputId": "f6fc028f-bf90-4b71-ac8a-a79551339ede"
      },
      "source": [
        "type(station_distance)"
      ],
      "execution_count": 31,
      "outputs": [
        {
          "output_type": "execute_result",
          "data": {
            "text/plain": [
              "list"
            ]
          },
          "metadata": {
            "tags": []
          },
          "execution_count": 31
        }
      ]
    },
    {
      "cell_type": "code",
      "metadata": {
        "id": "9DV3I1Lmb6zg",
        "colab_type": "code",
        "colab": {
          "base_uri": "https://localhost:8080/",
          "height": 4539
        },
        "outputId": "8c52dc01-6ca1-4371-e917-9ea0e5a5ea81"
      },
      "source": [
        "station_distance"
      ],
      "execution_count": 32,
      "outputs": [
        {
          "output_type": "execute_result",
          "data": {
            "text/plain": [
              "[2798,\n",
              " 5102,\n",
              " 1810,\n",
              " 1128,\n",
              " 1096,\n",
              " 1189,\n",
              " 1214,\n",
              " 987,\n",
              " 2035,\n",
              " 2918,\n",
              " 1811,\n",
              " 909,\n",
              " 960,\n",
              " 1832,\n",
              " 1234,\n",
              " 929,\n",
              " 851,\n",
              " 1171,\n",
              " 1634,\n",
              " 1023,\n",
              " 945,\n",
              " 1763,\n",
              " 1027,\n",
              " 824,\n",
              " 2228,\n",
              " 794,\n",
              " 1237,\n",
              " 1766,\n",
              " 1899,\n",
              " 1363,\n",
              " 1251,\n",
              " 1672,\n",
              " 1295,\n",
              " 887,\n",
              " 900,\n",
              " 1063,\n",
              " 1051,\n",
              " 1658,\n",
              " 1517,\n",
              " 1441,\n",
              " 1025,\n",
              " 1100,\n",
              " 1100,\n",
              " 869,\n",
              " 1011,\n",
              " 815,\n",
              " 1152,\n",
              " 1200,\n",
              " 1643,\n",
              " 1480,\n",
              " 827,\n",
              " 989,\n",
              " 939,\n",
              " 965,\n",
              " 1544,\n",
              " 1305,\n",
              " 1286,\n",
              " 3,\n",
              " 1838,\n",
              " 1122,\n",
              " 1025,\n",
              " 1059,\n",
              " 1151,\n",
              " 866,\n",
              " 791,\n",
              " 1016,\n",
              " 848,\n",
              " 945,\n",
              " 821,\n",
              " 876,\n",
              " 1183,\n",
              " 1,\n",
              " 905,\n",
              " 1670,\n",
              " 1508,\n",
              " 1431,\n",
              " 1166,\n",
              " 1664,\n",
              " 887,\n",
              " 1443,\n",
              " 1321,\n",
              " 1349,\n",
              " 1937,\n",
              " 1399,\n",
              " 1668,\n",
              " 845,\n",
              " 1450,\n",
              " 2036,\n",
              " 1282,\n",
              " 3999,\n",
              " 1238,\n",
              " 1854,\n",
              " 1405,\n",
              " 2115,\n",
              " 2557,\n",
              " 1468,\n",
              " 1543,\n",
              " 1599,\n",
              " 929,\n",
              " 1346,\n",
              " 1194,\n",
              " 935,\n",
              " 734,\n",
              " 1874,\n",
              " 1374,\n",
              " 885,\n",
              " 1205,\n",
              " 869,\n",
              " 1016,\n",
              " 1138,\n",
              " 1332,\n",
              " 1241,\n",
              " 1311,\n",
              " 781,\n",
              " 865,\n",
              " 903,\n",
              " 1464,\n",
              " 906,\n",
              " 1679,\n",
              " 1304,\n",
              " 1021,\n",
              " 2318,\n",
              " 1985,\n",
              " 2056,\n",
              " 1114,\n",
              " 1894,\n",
              " 1543,\n",
              " 1041,\n",
              " 2553,\n",
              " 2555,\n",
              " 1016,\n",
              " 1667,\n",
              " 900,\n",
              " 1018,\n",
              " 1274,\n",
              " 1083,\n",
              " 1188,\n",
              " 902,\n",
              " 1110,\n",
              " 950,\n",
              " 975,\n",
              " 1058,\n",
              " 1101,\n",
              " 1330,\n",
              " 973,\n",
              " 1,\n",
              " 1020,\n",
              " 982,\n",
              " 1712,\n",
              " 1003,\n",
              " 1759,\n",
              " 1506,\n",
              " 914,\n",
              " 853,\n",
              " 1149,\n",
              " 734,\n",
              " 835,\n",
              " 1759,\n",
              " 1006,\n",
              " 1021,\n",
              " 1097,\n",
              " 1804,\n",
              " 1058,\n",
              " 1677,\n",
              " 1269,\n",
              " 1244,\n",
              " 1130,\n",
              " 1254,\n",
              " 1688,\n",
              " 1547,\n",
              " 1143,\n",
              " 1717,\n",
              " 954,\n",
              " 749,\n",
              " 1584,\n",
              " 2392,\n",
              " 1016,\n",
              " 2386,\n",
              " 1214,\n",
              " 1590,\n",
              " 1205,\n",
              " 961,\n",
              " 1495,\n",
              " 1345,\n",
              " 4073,\n",
              " 1236,\n",
              " 2044,\n",
              " 1579,\n",
              " 845,\n",
              " 887,\n",
              " 1063,\n",
              " 1119,\n",
              " 1025,\n",
              " 1486,\n",
              " 1618,\n",
              " 1147,\n",
              " 1276,\n",
              " 1128,\n",
              " 897,\n",
              " 1780,\n",
              " 708,\n",
              " 894,\n",
              " 1085,\n",
              " 1221,\n",
              " 2173,\n",
              " 1600,\n",
              " 1171,\n",
              " 676,\n",
              " 1168,\n",
              " 903,\n",
              " 1283,\n",
              " 1100,\n",
              " 1364,\n",
              " 1144,\n",
              " 1337,\n",
              " 1999,\n",
              " 1368,\n",
              " 938,\n",
              " 1087,\n",
              " 2071,\n",
              " 1758,\n",
              " 1652,\n",
              " 2295,\n",
              " 2008,\n",
              " 3309,\n",
              " 3386,\n",
              " 1615,\n",
              " 3354,\n",
              " 4576,\n",
              " 2712,\n",
              " 1331,\n",
              " 2441,\n",
              " 1715,\n",
              " 1375,\n",
              " 2002,\n",
              " 1894,\n",
              " 1912,\n",
              " 1763,\n",
              " 1700,\n",
              " 1465,\n",
              " 990,\n",
              " 1225,\n",
              " 1257,\n",
              " 776,\n",
              " 1213,\n",
              " 3508,\n",
              " 2433,\n",
              " 1683,\n",
              " 1958,\n",
              " 5357,\n",
              " 1964,\n",
              " 2025,\n",
              " 3799,\n",
              " 2367,\n",
              " 5440,\n",
              " 1405,\n",
              " 6466,\n",
              " 4041,\n",
              " 2150,\n",
              " 1474,\n",
              " 2003,\n",
              " 1188,\n",
              " 1738,\n",
              " 1332,\n",
              " 1330,\n",
              " 2300]"
            ]
          },
          "metadata": {
            "tags": []
          },
          "execution_count": 32
        }
      ]
    },
    {
      "cell_type": "code",
      "metadata": {
        "id": "SzNj4IbAqys5",
        "colab_type": "code",
        "colab": {
          "base_uri": "https://localhost:8080/",
          "height": 71
        },
        "outputId": "0458f4e7-7429-4e0f-ef28-c9e09a7c3403"
      },
      "source": [
        "# 单个站名\n",
        "single_station = []\n",
        "for route,stations in subway_station_distance.items():\n",
        "    for i,j in stations.items():\n",
        "        if i not in single_station:\n",
        "            single_station.append(i[0])\n",
        "print(single_station)\n",
        "print(len(single_station))"
      ],
      "execution_count": 33,
      "outputs": [
        {
          "output_type": "stream",
          "text": [
            "['公益西桥', '新宫', '西红门', '高米店北', '高米店南', '枣园', '清源路', '黄村西大街', '黄村火车站', '义和庄', '生物医药基地', '西直门', '车公庄', '阜成门', '复兴门', '长椿街', '宣武门', '和平门', '前门', '崇文门', '北京站', '建国门', '朝阳门', '东四十条', '东直门', '雍和宫', '安定门', '鼓楼大街', '积水潭', '安河桥北', '北宫门', '西苑', '圆明园', '北京大学东门', '中关村', '海淀黄庄', '人民大学', '魏公村', '国家图书馆', '动物园', '西直门', '新街口', '平安里', '西四', '灵境胡同', '西单', '宣武门', '菜市口', '陶然亭', '北京南站', '马家堡', '角门西', '天通苑北', '天通苑', '天通苑南', '立水桥', '立水桥南', '北苑路北', '大屯路东', '惠新西街北口', '惠新西街南口', '和平西桥', '和平里北街', '雍和宫', '北新桥', '张自忠路', '东四', '灯市口', '东单', '崇文门', '磁器口', '天坛东门', '蒲黄榆', '刘家窑', '海淀五路居', '慈寿寺', '花园桥', '白石桥南', '车公庄西', '车公庄', '平安里', '北海北', '南锣鼓巷', '东四', '朝阳门', '东大桥', '呼家楼', '金台路', '十里堡', '青年路', '褡裢坡', '黄渠', '常营', '草房', '物资学院路', '通州北关', '通运门', '北运河西', '北运河东', '郝家府', '东夏园', '北京西站', '湾子', '达官营', '广安门内', '菜市口', '虎坊桥', '珠市口', '桥湾', '磁器口', '广渠门内', '广渠门外', '双井', '九龙山', '大郊亭', '百子湾', '化工', '南楼梓庄', '欢乐谷景区', '垡头', '双合', '朱辛庄', '育知路', '平西府', '回龙观东大街', '霍营', '育新', '西小口', '永泰庄', '林萃桥', '森林公园南门', '奥林匹克公园', '奥体中心', '北土城', '安华桥', '安德里北街', '鼓楼大街', '什刹海', '巴沟', '苏州街', '海淀黄庄', '知春里', '知春路', '西土城', '牡丹园', '健德门', '北土城', '安贞门', '惠新西街南口', '芍药居', '太阳宫', '三元桥', '亮马桥', '农业展览馆', '团结湖', '呼家楼', '金台夕照', '国贸', '双井', '劲松', '潘家园', '十里河', '分钟寺', '成寿寺', '宋家庄', '石榴庄', '大红门', '角门东', '角门西', '草桥', '纪家庙', '首经贸', '丰台站', '泥洼', '西局', '六里桥', '莲花桥', '公主坟', '西钓鱼台', '慈寿寺', '车道沟', '长春桥', '火器营', '张郭庄', '园博园', '大瓦窑', '郭庄子', '大井', '七里庄', '北京南站', '陶然桥', '永定门外', '景泰', '蒲黄榆', '方庄', '十里河', '南八里庄', '北工大西门', '平乐园', '九龙山', '大望路', '红庙', '金台路', '朝阳公园', '枣营', '东风北桥', '将台', '高家园', '望京南', '阜通', '望京', '东湖渠', '来广营', '清华东路西口', '六道口', '北沙滩', '奥林匹克公园', '安立路', '大屯路东', '关庄', '望京西', '望京', '望京东', '崔各庄', '马泉营', '孙河', '国展', '花梨坎', '后沙峪', '南法信', '石门', '顺义', '四惠', '四惠东', '高碑店', '传媒大学', '双桥', '管庄', '八里桥', '通州北苑', '果园', '九棵树', '梨园', '临河里', '昌平西山口', '十三陵景区', '昌平', '昌平东关', '北邵洼', '南邵', '沙河高教园', '沙河', '巩华城', '朱辛庄', '生命科学园', '郭公庄', '大葆台', '稻田', '长阳', '篱笆房', '广阳城', '良乡大学城北', '良乡大学城', '良乡大学城西', '良乡南关', '苏庄']\n",
            "266\n"
          ],
          "name": "stdout"
        }
      ]
    },
    {
      "cell_type": "code",
      "metadata": {
        "id": "z45vrtyA8s1q",
        "colab_type": "code",
        "colab": {}
      },
      "source": [
        "geo_url = urlopen('https://blog.csdn.net/yanliang1/article/details/20897805')\n",
        "soup = BeautifulSoup(geo_url.read())\n",
        "geo = soup.find_all('div',id='content_views')"
      ],
      "execution_count": 0,
      "outputs": []
    },
    {
      "cell_type": "code",
      "metadata": {
        "id": "l-khdoJAAiF9",
        "colab_type": "code",
        "colab": {
          "base_uri": "https://localhost:8080/",
          "height": 2856
        },
        "outputId": "b9a2c36b-6926-44c2-b3f7-d6abe6a216b1"
      },
      "source": [
        "geo"
      ],
      "execution_count": 35,
      "outputs": [
        {
          "output_type": "execute_result",
          "data": {
            "text/plain": [
              "[<div class=\"htmledit_views\" id=\"content_views\">\n",
              " <p>因工作需要收集的数据，希望对大家有帮助</p>\n",
              " <p>苹果园,39.9263251384,116.1777806282</p>\n",
              " 古城,39.9072014648,116.1902475357<br/>\n",
              " 八角游乐园,39.9074319023,116.2128210068<br/>\n",
              " 八宝山,39.9072673042,116.2358236313<br/>\n",
              " 玉泉路,39.9073331435,116.2530326843<br/>\n",
              " 五棵松,39.9078269362,116.2740182877<br/>\n",
              " 万寿路,39.9074319023,116.2951755524<br/>\n",
              " 公主坟,39.9074319023,116.3097667694<br/>\n",
              " 军事博物馆,39.9074648219,116.3240146637<br/>\n",
              " 木樨地,39.9076294195,116.3374471664<br/>\n",
              " 南礼士路,39.9072014648,116.3525962830<br/>\n",
              " 复兴门,39.9071685451,116.3565444946<br/>\n",
              " 西单,39.9074319023,116.3742685318<br/>\n",
              " 天安门西,39.9074648219,116.3917350769<br/>\n",
              " 天安门东,39.9077281779,116.4016485214<br/>\n",
              " 王府井,39.9080244523,116.4115619659<br/>\n",
              " 东单,39.9081890486,116.4179134369<br/>\n",
              " 建国门,39.9085182400,116.4358091354<br/>\n",
              " 永安里,39.9083865636,116.4504861832<br/>\n",
              " 国贸,39.9091436994,116.4619016647<br/>\n",
              " 大望路,39.9085182400,116.4770936966<br/>\n",
              " 四惠,39.9087157541,116.4954614639<br/>\n",
              " 四惠东,39.9085182400,116.5153312683<br/>\n",
              " 北京站,39.9049628889,116.4272689819<br/>\n",
              " 崇文门,39.9009793597,116.4168834686<br/>\n",
              " 前门,39.8999587488,116.3979578018<br/>\n",
              " 和平门,39.9000904414,116.3841819763<br/>\n",
              " 宣武门,39.8996624396,116.3743114471<br/>\n",
              " 长椿街,39.8996295163,116.3630676270<br/>\n",
              " 阜成门,39.9233960408,116.3559865952<br/>\n",
              " 车公庄,39.9322487730,116.3558149338<br/>\n",
              " 西直门,39.9404422892,116.3554716110<br/>\n",
              " 积水潭,39.9487335236,116.3731956482<br/>\n",
              " 鼓楼大街,39.9478123250,116.3938379288<br/>\n",
              " 安定门,39.9491283193,116.4083003998<br/>\n",
              " 雍和宫,39.9492599173,116.4169692993<br/>\n",
              " 东直门,39.9411332638,116.4336633682<br/>\n",
              " 东四十条,39.9338612292,116.4340066910<br/>\n",
              " 朝阳门,39.9249428832,116.4346075058<br/>\n",
              " 安河桥北,40.0118554028,116.2699842453<br/>\n",
              " 北宫门,40.0023554989,116.2776875496<br/>\n",
              " 西苑,39.9983283241,116.2909269333<br/>\n",
              " 圆明园,39.9994954074,116.3096809387<br/>\n",
              " 北京大学东门,39.9921473816,116.3159036636<br/>\n",
              " 中关村,39.9838449697,116.3164830208<br/>\n",
              " 海淀黄庄,39.9756402091,116.3175773621<br/>\n",
              " 人民大学,39.9674015726,116.3213539124<br/>\n",
              " 魏公村,39.9578132466,116.3232851028<br/>\n",
              " 国家图书馆,39.9432061456,116.3251948357<br/>\n",
              " 动物园,39.9382047998,116.3388204575<br/>\n",
              " 新街口,39.9405080966,116.3677883148<br/>\n",
              " 平安里,39.9336637876,116.3728952408<br/>\n",
              " 西四,39.9245808594,116.3734102249<br/>\n",
              " 灵境胡同,39.9160892062,116.3737535477<br/>\n",
              " 菜市口,39.8894554507,116.3739252090<br/>\n",
              " 陶然亭,39.8785388760,116.3743543625<br/>\n",
              " 北京南站,39.8648536559,116.3792896271<br/>\n",
              " 马家堡,39.8532248377,116.3712644577<br/>\n",
              " 角门西,39.8459269952,116.3711357117<br/>\n",
              " 公益西桥,39.8370219177,116.3708353043<br/>\n",
              " 天通苑北,40.0833908853,116.4129781723<br/>\n",
              " 天通苑,40.0752145100,116.4131069183<br/>\n",
              " 天通苑南,40.0663146083,116.4129352570<br/>\n",
              " 立水桥,40.0530775487,116.4122486115<br/>\n",
              " 立水桥南,40.0418420964,116.4146518707<br/>\n",
              " 北苑路北,40.0305062112,116.4180421829<br/>\n",
              " 大屯路东,40.0038019364,116.4173340797<br/>\n",
              " 惠新西街北口,39.9875113077,116.4170658588<br/>\n",
              " 惠新西街南口,39.9769967756,116.4174628258<br/>\n",
              " 和平西桥,39.9685321828,116.4179724455,<br/>\n",
              " 和平里北街,39.9584074165,116.4185062051<br/>\n",
              " 北新桥,39.9408618103,116.4168727398<br/>\n",
              " 张自忠路,39.9336596743,116.4171463251<br/>\n",
              " 东四,39.9243700208,116.4174936712<br/>\n",
              " 灯市口,39.9172165503,116.4177873731<br/>\n",
              " 磁器口,39.8931227334,116.4187248051<br/>\n",
              " 天坛东门,39.8830639907,116.4208289981<br/>\n",
              " 蒲黄榆,39.8656647996,116.4215612411<br/>\n",
              " 刘家窑,39.8576455856,116.4221245050<br/>\n",
              " 宋家庄,39.8457869613,116.4283740520<br/>\n",
              " 海淀五路居,39.9325778488,116.2767648697<br/>\n",
              " 慈寿寺,39.9330879131,116.2951755524<br/>\n",
              " 花园桥,39.9323721766,116.3101047277<br/>\n",
              " 白石桥南,39.9330241553,116.3254737854<br/>\n",
              " 车公庄西,39.9324719277,116.3439850509<br/>\n",
              " 北海北,39.9332730162,116.3867032528<br/>\n",
              " 南锣鼓巷,39.9331372740,116.4032471180<br/>\n",
              " 东大桥,39.9228797332,116.4517012239<br/>\n",
              " 呼家楼,39.9231985690,116.4618426561<br/>\n",
              " 金台路,39.9228159658,116.4780861139<br/>\n",
              " 十里堡,39.9230689778,116.5018987656<br/>\n",
              " 青年路,39.9231615430,116.5175521374<br/>\n",
              " 褡裢坡,39.9240213643,116.5634393692<br/>\n",
              " 黄渠,39.9241694664,116.5782129765<br/>\n",
              " 常营,39.9257574298,116.5995419025<br/>\n",
              " 草房,39.9244286443,116.6154688597<br/>\n",
              " 俸伯,40.1325679642,116.6849541664<br/>\n",
              " 顺义,40.1302465359,116.6568553448<br/>\n",
              " 石门,40.1298445844,116.6413360834<br/>\n",
              " 南法信,40.1283926174,116.6094338894<br/>\n",
              " 后沙峪,40.1140845728,116.5642333031<br/>\n",
              " 花梨坎,40.0843923417,116.5576457977<br/>\n",
              " 国展,40.0701407233,116.5551674366<br/>\n",
              " 孙河,40.0451275079,116.5346109867<br/>\n",
              " 马泉营,40.0337675249,116.5038192272<br/>\n",
              " 崔各庄,40.0222084635,116.4929187298<br/>\n",
              " 望京,39.9987146144,116.4697873592<br/>\n",
              " 望京西,39.9959858785,116.4515912533<br/>\n",
              " 张郭庄,39.8583147471,116.1871576309<br/>\n",
              " 园博园,39.8612301562,116.2019205093<br/>\n",
              " 大瓦窑,39.8595830477,116.2395787239<br/>\n",
              " 郭庄子,39.8643780825,116.2531399727<br/>\n",
              " 大井,39.8652077604,116.2763088942<br/>\n",
              " 七里庄,39.8675310111,116.2942126393<br/>\n",
              " 西局,39.8664841684,116.3043808937<br/>\n",
              " 泥洼,39.8583188650,116.3043862581<br/>\n",
              " 丰台站,39.8498560655,116.3050138950<br/>\n",
              " 首经贸,39.8444483875,116.3202059269<br/>\n",
              " 纪家庙,39.8444154376,116.3332575560<br/>\n",
              " 草桥,39.8459434698,116.3511532545<br/>\n",
              " 角门西,39.8459414105,116.3711491227<br/>\n",
              " 角门东,39.8451444491,116.3849544525<br/>\n",
              " 大红门,39.8453750952,116.3988295197<br/>\n",
              " 石榴庄,39.8459022834,116.4139866829<br/>\n",
              " 成寿寺,39.8458652156,116.4474123716<br/>\n",
              " 分钟寺,39.8518740541,116.4539784193<br/>\n",
              " 十里河,39.8658089104,116.4590156078<br/>\n",
              " 潘家园,39.8754718785,116.4607697725<br/>\n",
              " 劲松,39.8844378292,116.4613223076<br/>\n",
              " 双井,39.8935590076,116.4616280794<br/>\n",
              " 金台夕照,39.9167145964,116.4618426561<br/>\n",
              " 团结湖,39.9337296015,116.4618694782<br/>\n",
              " 农业展览馆,39.9417090706,116.4621269703<br/>\n",
              " 亮马桥,39.9490830824,116.4619070292<br/>\n",
              " 三元桥,39.9613658535,116.4568376541<br/>\n",
              " 太阳宫,39.9727954429,116.4475035667<br/>\n",
              " 芍药居,39.9778107025,116.4361524582<br/>\n",
              " 安贞门,39.9769803325,116.4059722424<br/>\n",
              " 北土城,39.9766884674,116.3944441080<br/>\n",
              " 建德门,39.9767090213,116.3813495636<br/>\n",
              " 牡丹园,39.9763184957,116.3699018955<br/>\n",
              " 西土城,39.9761869497,116.3538730145<br/>\n",
              " 知春路,39.9764705954,116.3399469852<br/>\n",
              " 知春里,39.9763143849,116.3286226988<br/>\n",
              " 海淀黄庄,39.9760060736,116.3175827265<br/>\n",
              " 苏州街,39.9756340428,116.3062664866<br/>\n",
              " 巴沟,39.9741726205,116.2940597534<br/>\n",
              " 火器营,39.9660160357,116.2890118361<br/>\n",
              " 长春桥,39.9583107871,116.2943869829<br/>\n",
              " 车道沟,39.9481331009,116.2938773632<br/>\n",
              " 西钓鱼台,39.9232973050,116.2976646423<br/>\n",
              " 莲花桥,39.8976787809,116.3103997707<br/>\n",
              " 六里桥,39.8803337264,116.3027608395<br/>\n",
              " 新宫,39.8122529769,116.3655996323<br/>\n",
              " 西红门,39.7895938573,116.3287568092<br/>\n",
              " 高米店北,39.7733841750,116.3308489323<br/>\n",
              " 高米店南,39.7634223137,116.3317823410<br/>\n",
              " 枣园,39.7535909846,116.3319754601<br/>\n",
              " 清源路,39.7426693062,116.3325119019<br/>\n",
              " 黄村西大街,39.7313828531,116.3326191902<br/>\n",
              " 黄村火车站,39.7229498085,116.3325762749<br/>\n",
              " 义和庄,39.7125019650,116.3190150261<br/>\n",
              " 生物医药基地,39.6866148672,116.3222551346<br/>\n",
              " 天宫院,39.6702157844,116.3199269772\n",
              "           </div>]"
            ]
          },
          "metadata": {
            "tags": []
          },
          "execution_count": 35
        }
      ]
    },
    {
      "cell_type": "code",
      "metadata": {
        "id": "U4JLWJtGBbY4",
        "colab_type": "code",
        "colab": {
          "base_uri": "https://localhost:8080/",
          "height": 34
        },
        "outputId": "8e808c7d-cd7c-430a-8fde-021e82d38fbf"
      },
      "source": [
        "type(geo)"
      ],
      "execution_count": 36,
      "outputs": [
        {
          "output_type": "execute_result",
          "data": {
            "text/plain": [
              "bs4.element.ResultSet"
            ]
          },
          "metadata": {
            "tags": []
          },
          "execution_count": 36
        }
      ]
    },
    {
      "cell_type": "code",
      "metadata": {
        "id": "7u5fM9DfAiDj",
        "colab_type": "code",
        "colab": {}
      },
      "source": [
        "geo_text = []\n",
        "for i in geo:\n",
        "    geo_text.append(str(i))"
      ],
      "execution_count": 0,
      "outputs": []
    },
    {
      "cell_type": "code",
      "metadata": {
        "id": "DClorJYpAiBS",
        "colab_type": "code",
        "colab": {
          "base_uri": "https://localhost:8080/",
          "height": 54
        },
        "outputId": "03963b2b-1d32-4ae4-d99e-a0ce6855d0ea"
      },
      "source": [
        "geo_text"
      ],
      "execution_count": 38,
      "outputs": [
        {
          "output_type": "execute_result",
          "data": {
            "text/plain": [
              "['<div class=\"htmledit_views\" id=\"content_views\">\\n<p>因工作需要收集的数据，希望对大家有帮助</p>\\n<p>苹果园,39.9263251384,116.1777806282</p>\\n古城,39.9072014648,116.1902475357<br/>\\n八角游乐园,39.9074319023,116.2128210068<br/>\\n八宝山,39.9072673042,116.2358236313<br/>\\n玉泉路,39.9073331435,116.2530326843<br/>\\n五棵松,39.9078269362,116.2740182877<br/>\\n万寿路,39.9074319023,116.2951755524<br/>\\n公主坟,39.9074319023,116.3097667694<br/>\\n军事博物馆,39.9074648219,116.3240146637<br/>\\n木樨地,39.9076294195,116.3374471664<br/>\\n南礼士路,39.9072014648,116.3525962830<br/>\\n复兴门,39.9071685451,116.3565444946<br/>\\n西单,39.9074319023,116.3742685318<br/>\\n天安门西,39.9074648219,116.3917350769<br/>\\n天安门东,39.9077281779,116.4016485214<br/>\\n王府井,39.9080244523,116.4115619659<br/>\\n东单,39.9081890486,116.4179134369<br/>\\n建国门,39.9085182400,116.4358091354<br/>\\n永安里,39.9083865636,116.4504861832<br/>\\n国贸,39.9091436994,116.4619016647<br/>\\n大望路,39.9085182400,116.4770936966<br/>\\n四惠,39.9087157541,116.4954614639<br/>\\n四惠东,39.9085182400,116.5153312683<br/>\\n北京站,39.9049628889,116.4272689819<br/>\\n崇文门,39.9009793597,116.4168834686<br/>\\n前门,39.8999587488,116.3979578018<br/>\\n和平门,39.9000904414,116.3841819763<br/>\\n宣武门,39.8996624396,116.3743114471<br/>\\n长椿街,39.8996295163,116.3630676270<br/>\\n阜成门,39.9233960408,116.3559865952<br/>\\n车公庄,39.9322487730,116.3558149338<br/>\\n西直门,39.9404422892,116.3554716110<br/>\\n积水潭,39.9487335236,116.3731956482<br/>\\n鼓楼大街,39.9478123250,116.3938379288<br/>\\n安定门,39.9491283193,116.4083003998<br/>\\n雍和宫,39.9492599173,116.4169692993<br/>\\n东直门,39.9411332638,116.4336633682<br/>\\n东四十条,39.9338612292,116.4340066910<br/>\\n朝阳门,39.9249428832,116.4346075058<br/>\\n安河桥北,40.0118554028,116.2699842453<br/>\\n北宫门,40.0023554989,116.2776875496<br/>\\n西苑,39.9983283241,116.2909269333<br/>\\n圆明园,39.9994954074,116.3096809387<br/>\\n北京大学东门,39.9921473816,116.3159036636<br/>\\n中关村,39.9838449697,116.3164830208<br/>\\n海淀黄庄,39.9756402091,116.3175773621<br/>\\n人民大学,39.9674015726,116.3213539124<br/>\\n魏公村,39.9578132466,116.3232851028<br/>\\n国家图书馆,39.9432061456,116.3251948357<br/>\\n动物园,39.9382047998,116.3388204575<br/>\\n新街口,39.9405080966,116.3677883148<br/>\\n平安里,39.9336637876,116.3728952408<br/>\\n西四,39.9245808594,116.3734102249<br/>\\n灵境胡同,39.9160892062,116.3737535477<br/>\\n菜市口,39.8894554507,116.3739252090<br/>\\n陶然亭,39.8785388760,116.3743543625<br/>\\n北京南站,39.8648536559,116.3792896271<br/>\\n马家堡,39.8532248377,116.3712644577<br/>\\n角门西,39.8459269952,116.3711357117<br/>\\n公益西桥,39.8370219177,116.3708353043<br/>\\n天通苑北,40.0833908853,116.4129781723<br/>\\n天通苑,40.0752145100,116.4131069183<br/>\\n天通苑南,40.0663146083,116.4129352570<br/>\\n立水桥,40.0530775487,116.4122486115<br/>\\n立水桥南,40.0418420964,116.4146518707<br/>\\n北苑路北,40.0305062112,116.4180421829<br/>\\n大屯路东,40.0038019364,116.4173340797<br/>\\n惠新西街北口,39.9875113077,116.4170658588<br/>\\n惠新西街南口,39.9769967756,116.4174628258<br/>\\n和平西桥,39.9685321828,116.4179724455,<br/>\\n和平里北街,39.9584074165,116.4185062051<br/>\\n北新桥,39.9408618103,116.4168727398<br/>\\n张自忠路,39.9336596743,116.4171463251<br/>\\n东四,39.9243700208,116.4174936712<br/>\\n灯市口,39.9172165503,116.4177873731<br/>\\n磁器口,39.8931227334,116.4187248051<br/>\\n天坛东门,39.8830639907,116.4208289981<br/>\\n蒲黄榆,39.8656647996,116.4215612411<br/>\\n刘家窑,39.8576455856,116.4221245050<br/>\\n宋家庄,39.8457869613,116.4283740520<br/>\\n海淀五路居,39.9325778488,116.2767648697<br/>\\n慈寿寺,39.9330879131,116.2951755524<br/>\\n花园桥,39.9323721766,116.3101047277<br/>\\n白石桥南,39.9330241553,116.3254737854<br/>\\n车公庄西,39.9324719277,116.3439850509<br/>\\n北海北,39.9332730162,116.3867032528<br/>\\n南锣鼓巷,39.9331372740,116.4032471180<br/>\\n东大桥,39.9228797332,116.4517012239<br/>\\n呼家楼,39.9231985690,116.4618426561<br/>\\n金台路,39.9228159658,116.4780861139<br/>\\n十里堡,39.9230689778,116.5018987656<br/>\\n青年路,39.9231615430,116.5175521374<br/>\\n褡裢坡,39.9240213643,116.5634393692<br/>\\n黄渠,39.9241694664,116.5782129765<br/>\\n常营,39.9257574298,116.5995419025<br/>\\n草房,39.9244286443,116.6154688597<br/>\\n俸伯,40.1325679642,116.6849541664<br/>\\n顺义,40.1302465359,116.6568553448<br/>\\n石门,40.1298445844,116.6413360834<br/>\\n南法信,40.1283926174,116.6094338894<br/>\\n后沙峪,40.1140845728,116.5642333031<br/>\\n花梨坎,40.0843923417,116.5576457977<br/>\\n国展,40.0701407233,116.5551674366<br/>\\n孙河,40.0451275079,116.5346109867<br/>\\n马泉营,40.0337675249,116.5038192272<br/>\\n崔各庄,40.0222084635,116.4929187298<br/>\\n望京,39.9987146144,116.4697873592<br/>\\n望京西,39.9959858785,116.4515912533<br/>\\n张郭庄,39.8583147471,116.1871576309<br/>\\n园博园,39.8612301562,116.2019205093<br/>\\n大瓦窑,39.8595830477,116.2395787239<br/>\\n郭庄子,39.8643780825,116.2531399727<br/>\\n大井,39.8652077604,116.2763088942<br/>\\n七里庄,39.8675310111,116.2942126393<br/>\\n西局,39.8664841684,116.3043808937<br/>\\n泥洼,39.8583188650,116.3043862581<br/>\\n丰台站,39.8498560655,116.3050138950<br/>\\n首经贸,39.8444483875,116.3202059269<br/>\\n纪家庙,39.8444154376,116.3332575560<br/>\\n草桥,39.8459434698,116.3511532545<br/>\\n角门西,39.8459414105,116.3711491227<br/>\\n角门东,39.8451444491,116.3849544525<br/>\\n大红门,39.8453750952,116.3988295197<br/>\\n石榴庄,39.8459022834,116.4139866829<br/>\\n成寿寺,39.8458652156,116.4474123716<br/>\\n分钟寺,39.8518740541,116.4539784193<br/>\\n十里河,39.8658089104,116.4590156078<br/>\\n潘家园,39.8754718785,116.4607697725<br/>\\n劲松,39.8844378292,116.4613223076<br/>\\n双井,39.8935590076,116.4616280794<br/>\\n金台夕照,39.9167145964,116.4618426561<br/>\\n团结湖,39.9337296015,116.4618694782<br/>\\n农业展览馆,39.9417090706,116.4621269703<br/>\\n亮马桥,39.9490830824,116.4619070292<br/>\\n三元桥,39.9613658535,116.4568376541<br/>\\n太阳宫,39.9727954429,116.4475035667<br/>\\n芍药居,39.9778107025,116.4361524582<br/>\\n安贞门,39.9769803325,116.4059722424<br/>\\n北土城,39.9766884674,116.3944441080<br/>\\n建德门,39.9767090213,116.3813495636<br/>\\n牡丹园,39.9763184957,116.3699018955<br/>\\n西土城,39.9761869497,116.3538730145<br/>\\n知春路,39.9764705954,116.3399469852<br/>\\n知春里,39.9763143849,116.3286226988<br/>\\n海淀黄庄,39.9760060736,116.3175827265<br/>\\n苏州街,39.9756340428,116.3062664866<br/>\\n巴沟,39.9741726205,116.2940597534<br/>\\n火器营,39.9660160357,116.2890118361<br/>\\n长春桥,39.9583107871,116.2943869829<br/>\\n车道沟,39.9481331009,116.2938773632<br/>\\n西钓鱼台,39.9232973050,116.2976646423<br/>\\n莲花桥,39.8976787809,116.3103997707<br/>\\n六里桥,39.8803337264,116.3027608395<br/>\\n新宫,39.8122529769,116.3655996323<br/>\\n西红门,39.7895938573,116.3287568092<br/>\\n高米店北,39.7733841750,116.3308489323<br/>\\n高米店南,39.7634223137,116.3317823410<br/>\\n枣园,39.7535909846,116.3319754601<br/>\\n清源路,39.7426693062,116.3325119019<br/>\\n黄村西大街,39.7313828531,116.3326191902<br/>\\n黄村火车站,39.7229498085,116.3325762749<br/>\\n义和庄,39.7125019650,116.3190150261<br/>\\n生物医药基地,39.6866148672,116.3222551346<br/>\\n天宫院,39.6702157844,116.3199269772\\n          </div>']"
            ]
          },
          "metadata": {
            "tags": []
          },
          "execution_count": 38
        }
      ]
    },
    {
      "cell_type": "code",
      "metadata": {
        "id": "emxU73wJIYFp",
        "colab_type": "code",
        "colab": {}
      },
      "source": [
        "geo_text_str = ''.join(geo_text)"
      ],
      "execution_count": 0,
      "outputs": []
    },
    {
      "cell_type": "code",
      "metadata": {
        "id": "9GsaW-MaEnZM",
        "colab_type": "code",
        "colab": {}
      },
      "source": [
        "station_geo = re.findall(r'\\w+,\\d+\\.\\d+,\\d+\\.\\d+',geo_text_str)"
      ],
      "execution_count": 0,
      "outputs": []
    },
    {
      "cell_type": "code",
      "metadata": {
        "id": "nWvQcSlZGal2",
        "colab_type": "code",
        "colab": {
          "base_uri": "https://localhost:8080/",
          "height": 2805
        },
        "outputId": "bf8a4285-93ca-423d-ef7c-9c45604142ba"
      },
      "source": [
        "station_geo"
      ],
      "execution_count": 41,
      "outputs": [
        {
          "output_type": "execute_result",
          "data": {
            "text/plain": [
              "['苹果园,39.9263251384,116.1777806282',\n",
              " '古城,39.9072014648,116.1902475357',\n",
              " '八角游乐园,39.9074319023,116.2128210068',\n",
              " '八宝山,39.9072673042,116.2358236313',\n",
              " '玉泉路,39.9073331435,116.2530326843',\n",
              " '五棵松,39.9078269362,116.2740182877',\n",
              " '万寿路,39.9074319023,116.2951755524',\n",
              " '公主坟,39.9074319023,116.3097667694',\n",
              " '军事博物馆,39.9074648219,116.3240146637',\n",
              " '木樨地,39.9076294195,116.3374471664',\n",
              " '南礼士路,39.9072014648,116.3525962830',\n",
              " '复兴门,39.9071685451,116.3565444946',\n",
              " '西单,39.9074319023,116.3742685318',\n",
              " '天安门西,39.9074648219,116.3917350769',\n",
              " '天安门东,39.9077281779,116.4016485214',\n",
              " '王府井,39.9080244523,116.4115619659',\n",
              " '东单,39.9081890486,116.4179134369',\n",
              " '建国门,39.9085182400,116.4358091354',\n",
              " '永安里,39.9083865636,116.4504861832',\n",
              " '国贸,39.9091436994,116.4619016647',\n",
              " '大望路,39.9085182400,116.4770936966',\n",
              " '四惠,39.9087157541,116.4954614639',\n",
              " '四惠东,39.9085182400,116.5153312683',\n",
              " '北京站,39.9049628889,116.4272689819',\n",
              " '崇文门,39.9009793597,116.4168834686',\n",
              " '前门,39.8999587488,116.3979578018',\n",
              " '和平门,39.9000904414,116.3841819763',\n",
              " '宣武门,39.8996624396,116.3743114471',\n",
              " '长椿街,39.8996295163,116.3630676270',\n",
              " '阜成门,39.9233960408,116.3559865952',\n",
              " '车公庄,39.9322487730,116.3558149338',\n",
              " '西直门,39.9404422892,116.3554716110',\n",
              " '积水潭,39.9487335236,116.3731956482',\n",
              " '鼓楼大街,39.9478123250,116.3938379288',\n",
              " '安定门,39.9491283193,116.4083003998',\n",
              " '雍和宫,39.9492599173,116.4169692993',\n",
              " '东直门,39.9411332638,116.4336633682',\n",
              " '东四十条,39.9338612292,116.4340066910',\n",
              " '朝阳门,39.9249428832,116.4346075058',\n",
              " '安河桥北,40.0118554028,116.2699842453',\n",
              " '北宫门,40.0023554989,116.2776875496',\n",
              " '西苑,39.9983283241,116.2909269333',\n",
              " '圆明园,39.9994954074,116.3096809387',\n",
              " '北京大学东门,39.9921473816,116.3159036636',\n",
              " '中关村,39.9838449697,116.3164830208',\n",
              " '海淀黄庄,39.9756402091,116.3175773621',\n",
              " '人民大学,39.9674015726,116.3213539124',\n",
              " '魏公村,39.9578132466,116.3232851028',\n",
              " '国家图书馆,39.9432061456,116.3251948357',\n",
              " '动物园,39.9382047998,116.3388204575',\n",
              " '新街口,39.9405080966,116.3677883148',\n",
              " '平安里,39.9336637876,116.3728952408',\n",
              " '西四,39.9245808594,116.3734102249',\n",
              " '灵境胡同,39.9160892062,116.3737535477',\n",
              " '菜市口,39.8894554507,116.3739252090',\n",
              " '陶然亭,39.8785388760,116.3743543625',\n",
              " '北京南站,39.8648536559,116.3792896271',\n",
              " '马家堡,39.8532248377,116.3712644577',\n",
              " '角门西,39.8459269952,116.3711357117',\n",
              " '公益西桥,39.8370219177,116.3708353043',\n",
              " '天通苑北,40.0833908853,116.4129781723',\n",
              " '天通苑,40.0752145100,116.4131069183',\n",
              " '天通苑南,40.0663146083,116.4129352570',\n",
              " '立水桥,40.0530775487,116.4122486115',\n",
              " '立水桥南,40.0418420964,116.4146518707',\n",
              " '北苑路北,40.0305062112,116.4180421829',\n",
              " '大屯路东,40.0038019364,116.4173340797',\n",
              " '惠新西街北口,39.9875113077,116.4170658588',\n",
              " '惠新西街南口,39.9769967756,116.4174628258',\n",
              " '和平西桥,39.9685321828,116.4179724455',\n",
              " '和平里北街,39.9584074165,116.4185062051',\n",
              " '北新桥,39.9408618103,116.4168727398',\n",
              " '张自忠路,39.9336596743,116.4171463251',\n",
              " '东四,39.9243700208,116.4174936712',\n",
              " '灯市口,39.9172165503,116.4177873731',\n",
              " '磁器口,39.8931227334,116.4187248051',\n",
              " '天坛东门,39.8830639907,116.4208289981',\n",
              " '蒲黄榆,39.8656647996,116.4215612411',\n",
              " '刘家窑,39.8576455856,116.4221245050',\n",
              " '宋家庄,39.8457869613,116.4283740520',\n",
              " '海淀五路居,39.9325778488,116.2767648697',\n",
              " '慈寿寺,39.9330879131,116.2951755524',\n",
              " '花园桥,39.9323721766,116.3101047277',\n",
              " '白石桥南,39.9330241553,116.3254737854',\n",
              " '车公庄西,39.9324719277,116.3439850509',\n",
              " '北海北,39.9332730162,116.3867032528',\n",
              " '南锣鼓巷,39.9331372740,116.4032471180',\n",
              " '东大桥,39.9228797332,116.4517012239',\n",
              " '呼家楼,39.9231985690,116.4618426561',\n",
              " '金台路,39.9228159658,116.4780861139',\n",
              " '十里堡,39.9230689778,116.5018987656',\n",
              " '青年路,39.9231615430,116.5175521374',\n",
              " '褡裢坡,39.9240213643,116.5634393692',\n",
              " '黄渠,39.9241694664,116.5782129765',\n",
              " '常营,39.9257574298,116.5995419025',\n",
              " '草房,39.9244286443,116.6154688597',\n",
              " '俸伯,40.1325679642,116.6849541664',\n",
              " '顺义,40.1302465359,116.6568553448',\n",
              " '石门,40.1298445844,116.6413360834',\n",
              " '南法信,40.1283926174,116.6094338894',\n",
              " '后沙峪,40.1140845728,116.5642333031',\n",
              " '花梨坎,40.0843923417,116.5576457977',\n",
              " '国展,40.0701407233,116.5551674366',\n",
              " '孙河,40.0451275079,116.5346109867',\n",
              " '马泉营,40.0337675249,116.5038192272',\n",
              " '崔各庄,40.0222084635,116.4929187298',\n",
              " '望京,39.9987146144,116.4697873592',\n",
              " '望京西,39.9959858785,116.4515912533',\n",
              " '张郭庄,39.8583147471,116.1871576309',\n",
              " '园博园,39.8612301562,116.2019205093',\n",
              " '大瓦窑,39.8595830477,116.2395787239',\n",
              " '郭庄子,39.8643780825,116.2531399727',\n",
              " '大井,39.8652077604,116.2763088942',\n",
              " '七里庄,39.8675310111,116.2942126393',\n",
              " '西局,39.8664841684,116.3043808937',\n",
              " '泥洼,39.8583188650,116.3043862581',\n",
              " '丰台站,39.8498560655,116.3050138950',\n",
              " '首经贸,39.8444483875,116.3202059269',\n",
              " '纪家庙,39.8444154376,116.3332575560',\n",
              " '草桥,39.8459434698,116.3511532545',\n",
              " '角门西,39.8459414105,116.3711491227',\n",
              " '角门东,39.8451444491,116.3849544525',\n",
              " '大红门,39.8453750952,116.3988295197',\n",
              " '石榴庄,39.8459022834,116.4139866829',\n",
              " '成寿寺,39.8458652156,116.4474123716',\n",
              " '分钟寺,39.8518740541,116.4539784193',\n",
              " '十里河,39.8658089104,116.4590156078',\n",
              " '潘家园,39.8754718785,116.4607697725',\n",
              " '劲松,39.8844378292,116.4613223076',\n",
              " '双井,39.8935590076,116.4616280794',\n",
              " '金台夕照,39.9167145964,116.4618426561',\n",
              " '团结湖,39.9337296015,116.4618694782',\n",
              " '农业展览馆,39.9417090706,116.4621269703',\n",
              " '亮马桥,39.9490830824,116.4619070292',\n",
              " '三元桥,39.9613658535,116.4568376541',\n",
              " '太阳宫,39.9727954429,116.4475035667',\n",
              " '芍药居,39.9778107025,116.4361524582',\n",
              " '安贞门,39.9769803325,116.4059722424',\n",
              " '北土城,39.9766884674,116.3944441080',\n",
              " '建德门,39.9767090213,116.3813495636',\n",
              " '牡丹园,39.9763184957,116.3699018955',\n",
              " '西土城,39.9761869497,116.3538730145',\n",
              " '知春路,39.9764705954,116.3399469852',\n",
              " '知春里,39.9763143849,116.3286226988',\n",
              " '海淀黄庄,39.9760060736,116.3175827265',\n",
              " '苏州街,39.9756340428,116.3062664866',\n",
              " '巴沟,39.9741726205,116.2940597534',\n",
              " '火器营,39.9660160357,116.2890118361',\n",
              " '长春桥,39.9583107871,116.2943869829',\n",
              " '车道沟,39.9481331009,116.2938773632',\n",
              " '西钓鱼台,39.9232973050,116.2976646423',\n",
              " '莲花桥,39.8976787809,116.3103997707',\n",
              " '六里桥,39.8803337264,116.3027608395',\n",
              " '新宫,39.8122529769,116.3655996323',\n",
              " '西红门,39.7895938573,116.3287568092',\n",
              " '高米店北,39.7733841750,116.3308489323',\n",
              " '高米店南,39.7634223137,116.3317823410',\n",
              " '枣园,39.7535909846,116.3319754601',\n",
              " '清源路,39.7426693062,116.3325119019',\n",
              " '黄村西大街,39.7313828531,116.3326191902',\n",
              " '黄村火车站,39.7229498085,116.3325762749',\n",
              " '义和庄,39.7125019650,116.3190150261',\n",
              " '生物医药基地,39.6866148672,116.3222551346',\n",
              " '天宫院,39.6702157844,116.3199269772']"
            ]
          },
          "metadata": {
            "tags": []
          },
          "execution_count": 41
        }
      ]
    },
    {
      "cell_type": "code",
      "metadata": {
        "id": "9d65r5KtJJ5q",
        "colab_type": "code",
        "colab": {}
      },
      "source": [
        "name = []\n",
        "geo_list = []\n",
        "for i in station_geo:\n",
        "    k = i.split(',')\n",
        "    name.append(k[0])\n",
        "    geo1 = float(k[1])\n",
        "    geo2 = float(k[2])\n",
        "    geo_list.append([geo1,geo2])"
      ],
      "execution_count": 0,
      "outputs": []
    },
    {
      "cell_type": "code",
      "metadata": {
        "id": "TTYNeFT1EnWi",
        "colab_type": "code",
        "colab": {}
      },
      "source": [
        "geo_dic = dict(zip(name, geo_list))"
      ],
      "execution_count": 0,
      "outputs": []
    },
    {
      "cell_type": "code",
      "metadata": {
        "id": "pX9sN4KyRIO0",
        "colab_type": "code",
        "colab": {
          "base_uri": "https://localhost:8080/",
          "height": 2771
        },
        "outputId": "271f137a-7442-4e8c-e1f2-a4b6fc5cd2fc"
      },
      "source": [
        "geo_dic"
      ],
      "execution_count": 44,
      "outputs": [
        {
          "output_type": "execute_result",
          "data": {
            "text/plain": [
              "{'七里庄': [39.8675310111, 116.2942126393],\n",
              " '万寿路': [39.9074319023, 116.2951755524],\n",
              " '三元桥': [39.9613658535, 116.4568376541],\n",
              " '东单': [39.9081890486, 116.4179134369],\n",
              " '东四': [39.9243700208, 116.4174936712],\n",
              " '东四十条': [39.9338612292, 116.434006691],\n",
              " '东大桥': [39.9228797332, 116.4517012239],\n",
              " '东直门': [39.9411332638, 116.4336633682],\n",
              " '中关村': [39.9838449697, 116.3164830208],\n",
              " '丰台站': [39.8498560655, 116.305013895],\n",
              " '义和庄': [39.712501965, 116.3190150261],\n",
              " '五棵松': [39.9078269362, 116.2740182877],\n",
              " '亮马桥': [39.9490830824, 116.4619070292],\n",
              " '人民大学': [39.9674015726, 116.3213539124],\n",
              " '俸伯': [40.1325679642, 116.6849541664],\n",
              " '八宝山': [39.9072673042, 116.2358236313],\n",
              " '八角游乐园': [39.9074319023, 116.2128210068],\n",
              " '公主坟': [39.9074319023, 116.3097667694],\n",
              " '公益西桥': [39.8370219177, 116.3708353043],\n",
              " '六里桥': [39.8803337264, 116.3027608395],\n",
              " '军事博物馆': [39.9074648219, 116.3240146637],\n",
              " '农业展览馆': [39.9417090706, 116.4621269703],\n",
              " '分钟寺': [39.8518740541, 116.4539784193],\n",
              " '刘家窑': [39.8576455856, 116.422124505],\n",
              " '前门': [39.8999587488, 116.3979578018],\n",
              " '动物园': [39.9382047998, 116.3388204575],\n",
              " '劲松': [39.8844378292, 116.4613223076],\n",
              " '北京南站': [39.8648536559, 116.3792896271],\n",
              " '北京大学东门': [39.9921473816, 116.3159036636],\n",
              " '北京站': [39.9049628889, 116.4272689819],\n",
              " '北土城': [39.9766884674, 116.394444108],\n",
              " '北宫门': [40.0023554989, 116.2776875496],\n",
              " '北新桥': [39.9408618103, 116.4168727398],\n",
              " '北海北': [39.9332730162, 116.3867032528],\n",
              " '北苑路北': [40.0305062112, 116.4180421829],\n",
              " '十里堡': [39.9230689778, 116.5018987656],\n",
              " '十里河': [39.8658089104, 116.4590156078],\n",
              " '南法信': [40.1283926174, 116.6094338894],\n",
              " '南礼士路': [39.9072014648, 116.352596283],\n",
              " '南锣鼓巷': [39.933137274, 116.403247118],\n",
              " '双井': [39.8935590076, 116.4616280794],\n",
              " '古城': [39.9072014648, 116.1902475357],\n",
              " '后沙峪': [40.1140845728, 116.5642333031],\n",
              " '呼家楼': [39.923198569, 116.4618426561],\n",
              " '和平西桥': [39.9685321828, 116.4179724455],\n",
              " '和平里北街': [39.9584074165, 116.4185062051],\n",
              " '和平门': [39.9000904414, 116.3841819763],\n",
              " '四惠': [39.9087157541, 116.4954614639],\n",
              " '四惠东': [39.90851824, 116.5153312683],\n",
              " '团结湖': [39.9337296015, 116.4618694782],\n",
              " '园博园': [39.8612301562, 116.2019205093],\n",
              " '国家图书馆': [39.9432061456, 116.3251948357],\n",
              " '国展': [40.0701407233, 116.5551674366],\n",
              " '国贸': [39.9091436994, 116.4619016647],\n",
              " '圆明园': [39.9994954074, 116.3096809387],\n",
              " '复兴门': [39.9071685451, 116.3565444946],\n",
              " '大井': [39.8652077604, 116.2763088942],\n",
              " '大屯路东': [40.0038019364, 116.4173340797],\n",
              " '大望路': [39.90851824, 116.4770936966],\n",
              " '大瓦窑': [39.8595830477, 116.2395787239],\n",
              " '大红门': [39.8453750952, 116.3988295197],\n",
              " '天坛东门': [39.8830639907, 116.4208289981],\n",
              " '天安门东': [39.9077281779, 116.4016485214],\n",
              " '天安门西': [39.9074648219, 116.3917350769],\n",
              " '天宫院': [39.6702157844, 116.3199269772],\n",
              " '天通苑': [40.07521451, 116.4131069183],\n",
              " '天通苑北': [40.0833908853, 116.4129781723],\n",
              " '天通苑南': [40.0663146083, 116.412935257],\n",
              " '太阳宫': [39.9727954429, 116.4475035667],\n",
              " '孙河': [40.0451275079, 116.5346109867],\n",
              " '安定门': [39.9491283193, 116.4083003998],\n",
              " '安河桥北': [40.0118554028, 116.2699842453],\n",
              " '安贞门': [39.9769803325, 116.4059722424],\n",
              " '宋家庄': [39.8457869613, 116.428374052],\n",
              " '宣武门': [39.8996624396, 116.3743114471],\n",
              " '崇文门': [39.9009793597, 116.4168834686],\n",
              " '崔各庄': [40.0222084635, 116.4929187298],\n",
              " '巴沟': [39.9741726205, 116.2940597534],\n",
              " '常营': [39.9257574298, 116.5995419025],\n",
              " '平安里': [39.9336637876, 116.3728952408],\n",
              " '建国门': [39.90851824, 116.4358091354],\n",
              " '建德门': [39.9767090213, 116.3813495636],\n",
              " '张自忠路': [39.9336596743, 116.4171463251],\n",
              " '张郭庄': [39.8583147471, 116.1871576309],\n",
              " '惠新西街北口': [39.9875113077, 116.4170658588],\n",
              " '惠新西街南口': [39.9769967756, 116.4174628258],\n",
              " '慈寿寺': [39.9330879131, 116.2951755524],\n",
              " '成寿寺': [39.8458652156, 116.4474123716],\n",
              " '新宫': [39.8122529769, 116.3655996323],\n",
              " '新街口': [39.9405080966, 116.3677883148],\n",
              " '望京': [39.9987146144, 116.4697873592],\n",
              " '望京西': [39.9959858785, 116.4515912533],\n",
              " '朝阳门': [39.9249428832, 116.4346075058],\n",
              " '木樨地': [39.9076294195, 116.3374471664],\n",
              " '枣园': [39.7535909846, 116.3319754601],\n",
              " '永安里': [39.9083865636, 116.4504861832],\n",
              " '泥洼': [39.858318865, 116.3043862581],\n",
              " '海淀五路居': [39.9325778488, 116.2767648697],\n",
              " '海淀黄庄': [39.9760060736, 116.3175827265],\n",
              " '清源路': [39.7426693062, 116.3325119019],\n",
              " '潘家园': [39.8754718785, 116.4607697725],\n",
              " '火器营': [39.9660160357, 116.2890118361],\n",
              " '灯市口': [39.9172165503, 116.4177873731],\n",
              " '灵境胡同': [39.9160892062, 116.3737535477],\n",
              " '牡丹园': [39.9763184957, 116.3699018955],\n",
              " '玉泉路': [39.9073331435, 116.2530326843],\n",
              " '王府井': [39.9080244523, 116.4115619659],\n",
              " '生物医药基地': [39.6866148672, 116.3222551346],\n",
              " '白石桥南': [39.9330241553, 116.3254737854],\n",
              " '知春路': [39.9764705954, 116.3399469852],\n",
              " '知春里': [39.9763143849, 116.3286226988],\n",
              " '石榴庄': [39.8459022834, 116.4139866829],\n",
              " '石门': [40.1298445844, 116.6413360834],\n",
              " '磁器口': [39.8931227334, 116.4187248051],\n",
              " '积水潭': [39.9487335236, 116.3731956482],\n",
              " '立水桥': [40.0530775487, 116.4122486115],\n",
              " '立水桥南': [40.0418420964, 116.4146518707],\n",
              " '纪家庙': [39.8444154376, 116.333257556],\n",
              " '芍药居': [39.9778107025, 116.4361524582],\n",
              " '花园桥': [39.9323721766, 116.3101047277],\n",
              " '花梨坎': [40.0843923417, 116.5576457977],\n",
              " '苏州街': [39.9756340428, 116.3062664866],\n",
              " '苹果园': [39.9263251384, 116.1777806282],\n",
              " '草房': [39.9244286443, 116.6154688597],\n",
              " '草桥': [39.8459434698, 116.3511532545],\n",
              " '莲花桥': [39.8976787809, 116.3103997707],\n",
              " '菜市口': [39.8894554507, 116.373925209],\n",
              " '蒲黄榆': [39.8656647996, 116.4215612411],\n",
              " '褡裢坡': [39.9240213643, 116.5634393692],\n",
              " '西单': [39.9074319023, 116.3742685318],\n",
              " '西四': [39.9245808594, 116.3734102249],\n",
              " '西土城': [39.9761869497, 116.3538730145],\n",
              " '西局': [39.8664841684, 116.3043808937],\n",
              " '西直门': [39.9404422892, 116.355471611],\n",
              " '西红门': [39.7895938573, 116.3287568092],\n",
              " '西苑': [39.9983283241, 116.2909269333],\n",
              " '西钓鱼台': [39.923297305, 116.2976646423],\n",
              " '角门东': [39.8451444491, 116.3849544525],\n",
              " '角门西': [39.8459414105, 116.3711491227],\n",
              " '车公庄': [39.932248773, 116.3558149338],\n",
              " '车公庄西': [39.9324719277, 116.3439850509],\n",
              " '车道沟': [39.9481331009, 116.2938773632],\n",
              " '郭庄子': [39.8643780825, 116.2531399727],\n",
              " '金台夕照': [39.9167145964, 116.4618426561],\n",
              " '金台路': [39.9228159658, 116.4780861139],\n",
              " '长春桥': [39.9583107871, 116.2943869829],\n",
              " '长椿街': [39.8996295163, 116.363067627],\n",
              " '阜成门': [39.9233960408, 116.3559865952],\n",
              " '陶然亭': [39.878538876, 116.3743543625],\n",
              " '雍和宫': [39.9492599173, 116.4169692993],\n",
              " '青年路': [39.923161543, 116.5175521374],\n",
              " '顺义': [40.1302465359, 116.6568553448],\n",
              " '首经贸': [39.8444483875, 116.3202059269],\n",
              " '马家堡': [39.8532248377, 116.3712644577],\n",
              " '马泉营': [40.0337675249, 116.5038192272],\n",
              " '高米店北': [39.773384175, 116.3308489323],\n",
              " '高米店南': [39.7634223137, 116.331782341],\n",
              " '魏公村': [39.9578132466, 116.3232851028],\n",
              " '黄村火车站': [39.7229498085, 116.3325762749],\n",
              " '黄村西大街': [39.7313828531, 116.3326191902],\n",
              " '黄渠': [39.9241694664, 116.5782129765],\n",
              " '鼓楼大街': [39.947812325, 116.3938379288]}"
            ]
          },
          "metadata": {
            "tags": []
          },
          "execution_count": 44
        }
      ]
    },
    {
      "cell_type": "code",
      "metadata": {
        "id": "5m6gftqiPE5c",
        "colab_type": "code",
        "colab": {}
      },
      "source": [
        "import networkx as nx\n",
        "import matplotlib.pyplot as plt"
      ],
      "execution_count": 0,
      "outputs": []
    },
    {
      "cell_type": "code",
      "metadata": {
        "id": "Kceg1En1tUH6",
        "colab_type": "code",
        "colab": {}
      },
      "source": [
        "subway_graph = nx.Graph()"
      ],
      "execution_count": 0,
      "outputs": []
    },
    {
      "cell_type": "code",
      "metadata": {
        "id": "Q3WKYyQXr7Gn",
        "colab_type": "code",
        "colab": {}
      },
      "source": [
        "subway_graph.add_nodes_from(name)"
      ],
      "execution_count": 0,
      "outputs": []
    },
    {
      "cell_type": "code",
      "metadata": {
        "id": "6wKhFyKuVS5T",
        "colab_type": "code",
        "colab": {}
      },
      "source": [
        "edges = [(u,v,d) for (u,v,d) in subway_graph.edges(data=True)]"
      ],
      "execution_count": 0,
      "outputs": []
    },
    {
      "cell_type": "code",
      "metadata": {
        "id": "TFA1YfUdhg05",
        "colab_type": "code",
        "colab": {
          "base_uri": "https://localhost:8080/",
          "height": 272
        },
        "outputId": "53ed4747-5004-4bb7-b1a3-9de1190d2668"
      },
      "source": [
        "nx.draw_networkx_nodes(subway_graph,geo_dic,with_labels =True,node_size=10)"
      ],
      "execution_count": 49,
      "outputs": [
        {
          "output_type": "execute_result",
          "data": {
            "text/plain": [
              "<matplotlib.collections.PathCollection at 0x7fd87cc9f0f0>"
            ]
          },
          "metadata": {
            "tags": []
          },
          "execution_count": 49
        },
        {
          "output_type": "display_data",
          "data": {
            "image/png": "[encoded data removed]",
            "text/plain": [
              "<Figure size 432x288 with 1 Axes>"
            ]
          },
          "metadata": {
            "tags": []
          }
        }
      ]
    },
    {
      "cell_type": "markdown",
      "metadata": {
        "id": "NJfcKdIusJKx",
        "colab_type": "text"
      },
      "source": [
        "**3. Build the search agent**\n",
        "\n",
        "- a. Build the search agent based on the graph we build.\n",
        "\n",
        "- b. As much as you can to use the already implemented search agent. You just need to define the is_goal, get_successor, strategy three functions."
      ]
    },
    {
      "cell_type": "markdown",
      "metadata": {
        "id": "lk-nVKrEZHa6",
        "colab_type": "text"
      },
      "source": [
        "Ans：\n",
        "\n",
        "方法见https://github.com/xiaorui777/NLP/blob/master/Breadth_first_%20search.ipynb"
      ]
    },
    {
      "cell_type": "markdown",
      "metadata": {
        "id": "GN5w7O6hsJNg",
        "colab_type": "text"
      },
      "source": [
        "**4. Create different policies for transfer system.**\n",
        "\n",
        "- a. Define different policies for transfer system.\n",
        "\n",
        "- b. Such as Shortest Path Priority（路程最短优先）, Minimum Transfer Priority(最少换乘优先), Comprehensive Priority(综合优先)\n",
        "\n",
        "- c. Implement Continuous transfer. Based on the Agent you implemented, please add this feature: Besides the @param start and @param destination two stations, add some more stations, we called @param by_way, it means, our path should from the start and end, but also include the @param by_way stations.\n"
      ]
    },
    {
      "cell_type": "markdown",
      "metadata": {
        "id": "qgNWV6JssgG0",
        "colab_type": "text"
      },
      "source": [
        "e.g\n",
        "1. Input:  start=A,  destination=B, by_way=[C] \n",
        "    Output: [A, … .., C, …. B]\n",
        "2. Input: start=A, destination=B, by_way=[C, D, E]\n",
        "    Output: [A … C … E … D … B]  \n",
        "     based on your policy, the E station could be reached firstly. \n",
        "![image.png](attachment:image.png)"
      ]
    },
    {
      "cell_type": "markdown",
      "metadata": {
        "id": "h8wGzyxTsx1g",
        "colab_type": "text"
      },
      "source": [
        "**5. Test your result with commercial applications.**\n",
        "将你的结果和高德地图或者百度地图进行比较，如果有不同，请分析原因"
      ]
    }
  ]
}