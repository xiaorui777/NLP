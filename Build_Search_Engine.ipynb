{
  "nbformat": 4,
  "nbformat_minor": 0,
  "metadata": {
    "colab": {
      "name": "Build_Search_Engine.ipynb",
      "version": "0.3.2",
      "provenance": [],
      "include_colab_link": true
    },
    "kernelspec": {
      "name": "python3",
      "display_name": "Python 3"
    }
  },
  "cells": [
    {
      "cell_type": "markdown",
      "metadata": {
        "id": "view-in-github",
        "colab_type": "text"
      },
      "source": [
        "<a href=\"https://colab.research.google.com/github/xiaorui777/NLP/blob/master/Build_Search_Engine.ipynb\" target=\"_parent\"><img src=\"https://colab.research.google.com/assets/colab-badge.svg\" alt=\"Open In Colab\"/></a>"
      ]
    },
    {
      "cell_type": "markdown",
      "metadata": {
        "id": "DJLKALEEBK99",
        "colab_type": "text"
      },
      "source": [
        "# Build Search Engine\n",
        "\n",
        "#### Input：Words\n",
        "#### Output： Documents"
      ]
    },
    {
      "cell_type": "code",
      "metadata": {
        "id": "hhiVu4kFBDN8",
        "colab_type": "code",
        "colab": {}
      },
      "source": [
        "csv_path = './sqlResult_1558435.csv'"
      ],
      "execution_count": 0,
      "outputs": []
    },
    {
      "cell_type": "code",
      "metadata": {
        "id": "FBC809TwCKQg",
        "colab_type": "code",
        "colab": {}
      },
      "source": [
        "import pandas as pd\n",
        "csv = pd.read_csv(csv_path, encoding = 'gb18030')"
      ],
      "execution_count": 0,
      "outputs": []
    },
    {
      "cell_type": "code",
      "metadata": {
        "id": "9uiOtLwPFfwC",
        "colab_type": "code",
        "colab": {}
      },
      "source": [
        "content = csv.fillna(' ')\n",
        "news_content = content['content'].tolist()"
      ],
      "execution_count": 0,
      "outputs": []
    },
    {
      "cell_type": "code",
      "metadata": {
        "id": "5rcCVtocF_z2",
        "colab_type": "code",
        "colab": {}
      },
      "source": [
        "# 中文分词\n",
        "import jieba\n",
        "def cut(string): return ' '.join(jieba.cut(string))"
      ],
      "execution_count": 0,
      "outputs": []
    },
    {
      "cell_type": "code",
      "metadata": {
        "id": "M1dHqoqAGMBE",
        "colab_type": "code",
        "colab": {}
      },
      "source": [
        "# 切词\n",
        "import re\n",
        "def token(string):\n",
        "    return re.findall(r'[\\d|\\w]+', string)"
      ],
      "execution_count": 0,
      "outputs": []
    },
    {
      "cell_type": "code",
      "metadata": {
        "id": "JvIFlUOQGetQ",
        "colab_type": "code",
        "colab": {}
      },
      "source": [
        "news_content = [token(n) for n in news_content]"
      ],
      "execution_count": 0,
      "outputs": []
    },
    {
      "cell_type": "code",
      "metadata": {
        "id": "WRnWbr9pGkVs",
        "colab_type": "code",
        "colab": {
          "base_uri": "https://localhost:8080/",
          "height": 85
        },
        "outputId": "7672dc55-4d43-4408-fa47-75d527b95f15"
      },
      "source": [
        "news_content = [' '.join(n) for n in news_content]\n",
        "news_content = [cut(n) for n in news_content]"
      ],
      "execution_count": 7,
      "outputs": [
        {
          "output_type": "stream",
          "text": [
            "Building prefix dict from the default dictionary ...\n",
            "Dumping model to file cache /tmp/jieba.cache\n",
            "Loading model cost 1.013 seconds.\n",
            "Prefix dict has been built succesfully.\n"
          ],
          "name": "stderr"
        }
      ]
    },
    {
      "cell_type": "code",
      "metadata": {
        "id": "7-vLUyVCG1uj",
        "colab_type": "code",
        "colab": {
          "base_uri": "https://localhost:8080/",
          "height": 59
        },
        "outputId": "0f9f4240-66e2-43a0-819f-efef5848fb6b"
      },
      "source": [
        "news_content[2]"
      ],
      "execution_count": 8,
      "outputs": [
        {
          "output_type": "execute_result",
          "data": {
            "text/plain": [
              "'此前 的 一加 3T 搭载 的 是 3400mAh 电池   DashCharge 快充 规格 为 5V   4A   至于 电池 缩水   可能 与 刘作 虎 所说   一加 手机 5 要 做 市面 最 轻薄 大屏 旗舰 的 设定 有关   按照 目前 掌握 的 资料   一加 手机 5 拥有 5   5 寸 1080P 三星 AMOLED 显示屏   6G   8GB   RAM   64GB   128GB   ROM   双 1600 万 摄像头   备货 量   惊喜   根据 京东 泄露 的 信息   一加 5 起 售价 是 xx99 元   应该 是 在 2799   2899   2999 中 的 某个'"
            ]
          },
          "metadata": {
            "tags": []
          },
          "execution_count": 8
        }
      ]
    },
    {
      "cell_type": "markdown",
      "metadata": {
        "id": "3ih608CPgey-",
        "colab_type": "text"
      },
      "source": [
        "## TFIDF Vectorized"
      ]
    },
    {
      "cell_type": "code",
      "metadata": {
        "id": "dh4iR5THHykR",
        "colab_type": "code",
        "colab": {}
      },
      "source": [
        "from sklearn.feature_extraction.text import TfidfVectorizer"
      ],
      "execution_count": 0,
      "outputs": []
    },
    {
      "cell_type": "code",
      "metadata": {
        "id": "OULhNSKTgswR",
        "colab_type": "code",
        "colab": {}
      },
      "source": [
        "vectorized = TfidfVectorizer()"
      ],
      "execution_count": 0,
      "outputs": []
    },
    {
      "cell_type": "code",
      "metadata": {
        "id": "h6UbqQK1g0oG",
        "colab_type": "code",
        "colab": {}
      },
      "source": [
        "sample_num = 10000\n",
        "sub_samples = news_content[:sample_num]"
      ],
      "execution_count": 0,
      "outputs": []
    },
    {
      "cell_type": "code",
      "metadata": {
        "id": "CF1Z0IgmhCi-",
        "colab_type": "code",
        "colab": {}
      },
      "source": [
        "X = vectorized.fit_transform(sub_samples)"
      ],
      "execution_count": 0,
      "outputs": []
    },
    {
      "cell_type": "code",
      "metadata": {
        "id": "YXNnG0GahRs5",
        "colab_type": "code",
        "colab": {
          "base_uri": "https://localhost:8080/",
          "height": 34
        },
        "outputId": "a8cea8c9-c8ca-49e8-92d3-5c86ba054f90"
      },
      "source": [
        "X.shape"
      ],
      "execution_count": 15,
      "outputs": [
        {
          "output_type": "execute_result",
          "data": {
            "text/plain": [
              "(10000, 135035)"
            ]
          },
          "metadata": {
            "tags": []
          },
          "execution_count": 15
        }
      ]
    },
    {
      "cell_type": "markdown",
      "metadata": {
        "id": "wLTyuIA5hc28",
        "colab_type": "text"
      },
      "source": [
        "# Build Search Engine\n",
        "#### input: words\n",
        "#### output: documents"
      ]
    },
    {
      "cell_type": "code",
      "metadata": {
        "id": "WGiXRjXDhUyB",
        "colab_type": "code",
        "colab": {}
      },
      "source": [
        "def naive_search(keywords):\n",
        "    news_ids = [i for i, n in enumerate(news_content) if all(w in n for w in keywords)]\n",
        "# 缺点：非常耗时"
      ],
      "execution_count": 0,
      "outputs": []
    },
    {
      "cell_type": "code",
      "metadata": {
        "id": "QtPELkH0iHQx",
        "colab_type": "code",
        "colab": {}
      },
      "source": [
        "# TFIDF的横轴是word1，word2...，纵轴是Document1，Document2...\n",
        "# Boolean Search的横轴是Document1，Document2...，纵轴是word1，word2...\n",
        "# 所以如果用Boolean Search优化搜索引擎的话，只需要将TFIDF转置即可\n",
        "\n",
        "transposed_x = X.transpose().toarray()"
      ],
      "execution_count": 0,
      "outputs": []
    },
    {
      "cell_type": "code",
      "metadata": {
        "id": "5T_egiC0izZq",
        "colab_type": "code",
        "colab": {
          "base_uri": "https://localhost:8080/",
          "height": 34
        },
        "outputId": "a2e2b59a-10e1-4399-eb06-5485b5112013"
      },
      "source": [
        "word_2_id = vectorized.vocabulary_\n",
        "word_2_id['此外']"
      ],
      "execution_count": 27,
      "outputs": [
        {
          "output_type": "execute_result",
          "data": {
            "text/plain": [
              "83934"
            ]
          },
          "metadata": {
            "tags": []
          },
          "execution_count": 27
        }
      ]
    },
    {
      "cell_type": "code",
      "metadata": {
        "id": "9b8S8wSKjNKk",
        "colab_type": "code",
        "colab": {}
      },
      "source": [
        "# 将 ID 当作 keys，word 当作 values\n",
        "id_2_word = {d: w for w,d in word_2_id.items()}"
      ],
      "execution_count": 0,
      "outputs": []
    },
    {
      "cell_type": "code",
      "metadata": {
        "id": "EUUMkGD9jq6t",
        "colab_type": "code",
        "colab": {
          "base_uri": "https://localhost:8080/",
          "height": 34
        },
        "outputId": "00180cfe-ceac-43ef-f28f-d5d62ec17196"
      },
      "source": [
        "id_2_word[83934]"
      ],
      "execution_count": 28,
      "outputs": [
        {
          "output_type": "execute_result",
          "data": {
            "text/plain": [
              "'此外'"
            ]
          },
          "metadata": {
            "tags": []
          },
          "execution_count": 28
        }
      ]
    },
    {
      "cell_type": "code",
      "metadata": {
        "id": "PHOP1I5IjusJ",
        "colab_type": "code",
        "colab": {
          "base_uri": "https://localhost:8080/",
          "height": 34
        },
        "outputId": "d4fcd0bf-384b-4193-b69f-56e599e72662"
      },
      "source": [
        "word_2_id['国际']"
      ],
      "execution_count": 29,
      "outputs": [
        {
          "output_type": "execute_result",
          "data": {
            "text/plain": [
              "45792"
            ]
          },
          "metadata": {
            "tags": []
          },
          "execution_count": 29
        }
      ]
    },
    {
      "cell_type": "code",
      "metadata": {
        "id": "zp7yBEkTlTY3",
        "colab_type": "code",
        "colab": {
          "base_uri": "https://localhost:8080/",
          "height": 34
        },
        "outputId": "a6d2c6c8-ca0d-4dc1-9ad7-02e0dac118fd"
      },
      "source": [
        "word_2_id['金融']"
      ],
      "execution_count": 32,
      "outputs": [
        {
          "output_type": "execute_result",
          "data": {
            "text/plain": [
              "125469"
            ]
          },
          "metadata": {
            "tags": []
          },
          "execution_count": 32
        }
      ]
    },
    {
      "cell_type": "code",
      "metadata": {
        "id": "B8o4tfwzknnB",
        "colab_type": "code",
        "colab": {}
      },
      "source": [
        "import numpy as np\n",
        "\n",
        "# 在以下这些文章编号中出现了'国际'\n",
        "international = set(np.where(transposed_x[45792])[0])\n",
        "\n",
        "# 在以下这些文章编号中出现了'金融'\n",
        "financial = set(np.where(transposed_x[125469])[0])"
      ],
      "execution_count": 0,
      "outputs": []
    },
    {
      "cell_type": "code",
      "metadata": {
        "id": "-VmaYcC4kxHv",
        "colab_type": "code",
        "colab": {
          "base_uri": "https://localhost:8080/",
          "height": 3842
        },
        "outputId": "b6424ef0-0994-4c23-fcc5-a362cd10ca1b"
      },
      "source": [
        "# 两者做一个交集，即以下的文章既出现了'国际'，又出现了'金融'\n",
        "international & financial"
      ],
      "execution_count": 35,
      "outputs": [
        {
          "output_type": "execute_result",
          "data": {
            "text/plain": [
              "{7,\n",
              " 8,\n",
              " 9,\n",
              " 14,\n",
              " 90,\n",
              " 191,\n",
              " 528,\n",
              " 600,\n",
              " 735,\n",
              " 764,\n",
              " 769,\n",
              " 779,\n",
              " 812,\n",
              " 835,\n",
              " 876,\n",
              " 914,\n",
              " 918,\n",
              " 950,\n",
              " 1028,\n",
              " 1082,\n",
              " 1102,\n",
              " 1106,\n",
              " 1125,\n",
              " 1146,\n",
              " 1151,\n",
              " 1160,\n",
              " 1201,\n",
              " 1258,\n",
              " 1288,\n",
              " 1324,\n",
              " 1395,\n",
              " 1445,\n",
              " 1466,\n",
              " 1596,\n",
              " 1599,\n",
              " 1600,\n",
              " 1624,\n",
              " 1656,\n",
              " 1745,\n",
              " 1948,\n",
              " 1960,\n",
              " 2067,\n",
              " 2099,\n",
              " 2220,\n",
              " 2237,\n",
              " 2254,\n",
              " 2314,\n",
              " 2319,\n",
              " 2333,\n",
              " 2345,\n",
              " 2356,\n",
              " 2360,\n",
              " 2507,\n",
              " 2513,\n",
              " 2542,\n",
              " 2560,\n",
              " 2669,\n",
              " 2685,\n",
              " 2696,\n",
              " 2776,\n",
              " 2829,\n",
              " 2856,\n",
              " 2861,\n",
              " 2867,\n",
              " 2928,\n",
              " 2931,\n",
              " 2960,\n",
              " 3002,\n",
              " 3051,\n",
              " 3214,\n",
              " 3461,\n",
              " 3478,\n",
              " 3517,\n",
              " 3519,\n",
              " 3573,\n",
              " 3702,\n",
              " 3715,\n",
              " 3721,\n",
              " 3740,\n",
              " 3762,\n",
              " 3786,\n",
              " 3830,\n",
              " 3837,\n",
              " 3892,\n",
              " 3916,\n",
              " 3947,\n",
              " 3953,\n",
              " 3955,\n",
              " 4024,\n",
              " 4025,\n",
              " 4083,\n",
              " 4087,\n",
              " 4127,\n",
              " 4212,\n",
              " 4235,\n",
              " 4288,\n",
              " 4289,\n",
              " 4313,\n",
              " 4318,\n",
              " 4331,\n",
              " 4338,\n",
              " 4357,\n",
              " 4361,\n",
              " 4370,\n",
              " 4372,\n",
              " 4390,\n",
              " 4407,\n",
              " 4412,\n",
              " 4430,\n",
              " 4440,\n",
              " 4457,\n",
              " 4486,\n",
              " 4491,\n",
              " 4507,\n",
              " 4582,\n",
              " 4601,\n",
              " 4738,\n",
              " 4762,\n",
              " 4831,\n",
              " 4969,\n",
              " 4990,\n",
              " 4995,\n",
              " 4999,\n",
              " 5030,\n",
              " 5072,\n",
              " 5076,\n",
              " 5085,\n",
              " 5171,\n",
              " 5227,\n",
              " 5308,\n",
              " 5380,\n",
              " 5388,\n",
              " 5416,\n",
              " 5508,\n",
              " 5514,\n",
              " 5518,\n",
              " 5520,\n",
              " 5528,\n",
              " 5537,\n",
              " 5564,\n",
              " 5587,\n",
              " 5603,\n",
              " 5606,\n",
              " 5678,\n",
              " 5755,\n",
              " 5811,\n",
              " 5823,\n",
              " 5824,\n",
              " 5858,\n",
              " 5879,\n",
              " 5892,\n",
              " 5951,\n",
              " 6016,\n",
              " 6046,\n",
              " 6094,\n",
              " 6160,\n",
              " 6215,\n",
              " 6237,\n",
              " 6250,\n",
              " 6271,\n",
              " 6303,\n",
              " 6305,\n",
              " 6324,\n",
              " 6342,\n",
              " 6348,\n",
              " 6357,\n",
              " 6392,\n",
              " 6400,\n",
              " 6429,\n",
              " 6435,\n",
              " 6450,\n",
              " 6458,\n",
              " 6524,\n",
              " 6543,\n",
              " 6554,\n",
              " 6573,\n",
              " 6585,\n",
              " 6600,\n",
              " 6614,\n",
              " 6624,\n",
              " 6657,\n",
              " 6695,\n",
              " 6715,\n",
              " 6723,\n",
              " 6724,\n",
              " 6746,\n",
              " 6781,\n",
              " 6796,\n",
              " 6803,\n",
              " 6845,\n",
              " 6873,\n",
              " 6879,\n",
              " 6944,\n",
              " 6956,\n",
              " 6992,\n",
              " 7087,\n",
              " 7137,\n",
              " 7195,\n",
              " 7251,\n",
              " 7264,\n",
              " 7267,\n",
              " 7277,\n",
              " 7311,\n",
              " 7414,\n",
              " 7533,\n",
              " 7563,\n",
              " 7571,\n",
              " 7581,\n",
              " 7632,\n",
              " 7637,\n",
              " 7655,\n",
              " 7663,\n",
              " 7667,\n",
              " 7689,\n",
              " 7749,\n",
              " 7767,\n",
              " 7805,\n",
              " 7895,\n",
              " 7913,\n",
              " 7921,\n",
              " 7965,\n",
              " 8067,\n",
              " 9897,\n",
              " 9910,\n",
              " 9918}"
            ]
          },
          "metadata": {
            "tags": []
          },
          "execution_count": 35
        }
      ]
    },
    {
      "cell_type": "code",
      "metadata": {
        "id": "7OR1RR9cl8_t",
        "colab_type": "code",
        "colab": {}
      },
      "source": [
        "from functools import reduce"
      ],
      "execution_count": 0,
      "outputs": []
    },
    {
      "cell_type": "code",
      "metadata": {
        "id": "IGGCHf4fm7O4",
        "colab_type": "code",
        "colab": {}
      },
      "source": [
        "d1, d2, d3 = {1, 2, 3}, {4, 5, 6, 3, 2}, {1, 3, 4}"
      ],
      "execution_count": 0,
      "outputs": []
    },
    {
      "cell_type": "code",
      "metadata": {
        "id": "Aw3mBYQxnian",
        "colab_type": "code",
        "colab": {}
      },
      "source": [
        "from operator import and_"
      ],
      "execution_count": 0,
      "outputs": []
    },
    {
      "cell_type": "code",
      "metadata": {
        "id": "Baernwl5nliz",
        "colab_type": "code",
        "colab": {
          "base_uri": "https://localhost:8080/",
          "height": 34
        },
        "outputId": "c0ece5f7-4826-457f-f2cc-2882f595b803"
      },
      "source": [
        "# 求 d1, d2, d3 的交集\n",
        "reduce(and_, [d1, d2, d3])"
      ],
      "execution_count": 41,
      "outputs": [
        {
          "output_type": "execute_result",
          "data": {
            "text/plain": [
              "{3}"
            ]
          },
          "metadata": {
            "tags": []
          },
          "execution_count": 41
        }
      ]
    },
    {
      "cell_type": "code",
      "metadata": {
        "id": "umu2wtXbnqNy",
        "colab_type": "code",
        "colab": {}
      },
      "source": [
        "# 定义搜索引擎\n",
        "\n",
        "def search_engine(query):\n",
        "    '''\n",
        "    @query is the searched words, splited by space\n",
        "    @ return is the related documents which ranked by tfidf similarity\n",
        "    '''\n",
        "    words = query.split()\n",
        "        \n",
        "    query_vec = vectorized.transform([' '.join(words)]).toarray()[0]\n",
        "    \n",
        "    candidates_ids = [word_2_id[w] for w in words]\n",
        "    documents_ids = [\n",
        "        set(np.where(transposed_x[_id])[0]) for _id in candidates_ids\n",
        "    ]\n",
        "    merged_documents = reduce(and_,documents_ids)\n",
        "    return merged_documents\n",
        "    # 我们就能知道哪些文章包含了这些单词\n",
        "    \n",
        "    # 加一个文章排序\n",
        "    # sorted_documents_id = sorted(merged_documents, key = lambda i: distance(query_vec, X[i].toarray()))\n",
        "    # return sorted_documents_id "
      ],
      "execution_count": 0,
      "outputs": []
    },
    {
      "cell_type": "code",
      "metadata": {
        "id": "gV7Jsr12pN8z",
        "colab_type": "code",
        "colab": {
          "base_uri": "https://localhost:8080/",
          "height": 34
        },
        "outputId": "a74678eb-a937-4b30-eeea-710c5b094c27"
      },
      "source": [
        "# 而且比 naive search 快很多\n",
        "\n",
        "search_engine('国际 金融 股价 下跌')"
      ],
      "execution_count": 48,
      "outputs": [
        {
          "output_type": "execute_result",
          "data": {
            "text/plain": [
              "{1146, 4582, 4831, 5606, 6781}"
            ]
          },
          "metadata": {
            "tags": []
          },
          "execution_count": 48
        }
      ]
    },
    {
      "cell_type": "code",
      "metadata": {
        "id": "hqqXdj81zhug",
        "colab_type": "code",
        "colab": {}
      },
      "source": [
        "def get_query_pat(query):\n",
        "    return re.complie('({})'.format('|'.join(query_split())))"
      ],
      "execution_count": 0,
      "outputs": []
    },
    {
      "cell_type": "code",
      "metadata": {
        "id": "CU3fUI5opkGj",
        "colab_type": "code",
        "colab": {
          "base_uri": "https://localhost:8080/",
          "height": 1686
        },
        "outputId": "a387590c-122b-4d17-a594-7dcd73bb6322"
      },
      "source": [
        "def search_engine_with_pretty_print(query):\n",
        "    \n",
        "candidates_ids = search_engine('国际 金融 股价 下跌')\n",
        "for i, _id in enumerate(candidates_ids):\n",
        "    print('# Search Result {}'.format(i))\n",
        "    print(content['content'][_id])"
      ],
      "execution_count": 49,
      "outputs": [
        {
          "output_type": "stream",
          "text": [
            "# Search Result 0\n",
            "“大象股”分化 短期需控仓位\r\n",
            "　　在银行、保险等金融股的带领下，A股昨日早盘走高，上证指数冲击3200点。但盘中受到万达电影、复星医药等行业龙头股的相关传闻影响而突然“闪崩”，带动中小盘快速下跌，并拖累大盘指数尾盘跳水，沪指最终下跌0.28%，创业板再度失守1800点。\r\n",
            "　　文、表?广州日报全媒体记者张忠安（除署名外）\r\n",
            "　　受到周三沪深两市冲高影响，周四早盘A股一片红，上证指数最高至3186点，创业板指数也冲击到1830点附近。盘面上，家电、白酒、银行、保险、汽车等大盘权重股纷纷走高，美的集团最高上涨到43.44元，再创历史新高。贵州茅台也达到477.93元的历史峰值。另外，中国平安、海康威视、苏泊尔等纷纷在周四创出上市以来的最高位。不过，数据显示，此前强势的大盘蓝筹股出现分化，其中，保险、银行等维持强势，而白酒、家电等却放量回撤，五粮液等尾盘跳水。\r\n",
            "　　对此，申万宏源分析师钱启敏表示，根据目前行情，一方面是大盘蓝筹股今年已经跑赢大盘，预期利好有所消化。另一方面短线市场缺乏资金支持，5月初至今存量资金净流失1700亿元，日均余额已连续8周低于1.3万亿元，成为制约行情的最重要因素。因此，他指出，A股目前短线心态严重，轮动迅速，以脉冲性走势为主，把握难度较大。\r\n",
            "　　多股异动??机构抛售万达电影2.29亿元\r\n",
            "　　值得注意的是，在周四A股盘面上，部分上市公司因为市场传闻而出现异动，其中，万达旗下的万达电影遭遇至少四家机构抛售，股价跌停，下午紧急停牌。而复星医药盘中也遭遇快速跳水，A股收盘跌幅超过8%，H股跌幅接近6%。\r\n",
            "　　昨日，万达系金融产品市场表现也赚足了眼球，出现“股债”双杀，其中万达电影午后临停，截至停牌跌9.91%。同时，万达多只债券纷纷下跌。\r\n",
            "　　有机构人士表示，万达系昨日异动主要是受到市场传闻影响。万达集团发布声明称：“网上有人恶意炒作建行等银行下发通知抛售万达债券一事，经了解建行等行从未下发此类通知，网上炒作属于谣言。”\r\n",
            "　　记者从交易所获取的数据显示，虽然只有半天的交易，但成交量却创下今年3月1日以来的最高水平，达到12.4亿元。在股价大跌背后是机构的抛售，其中，4大机构专用席位合计卖出2.29亿元，1机构席位买入2609.27万元。申万宏源上海一营业部买入6977.41万元，南京证券一营业部卖出3435.34万元。不过，万达最近确实利空消息不少，今年年初，国际评级机构穆迪曾下调过万达商业地产的发行人评级，由BAA2下调一级至BAA3。\r\n",
            "　　有分析人士就表示，一条未经证实的消息就能给相关企业金融产品带来如此大的影响，也折射出当前市场信心仍有待恢复。因此，资金有可能继续留守大盘蓝筹股，特别是国企大蓝筹。\r\n",
            "　　板块异动??特斯拉概念股昨日大涨\r\n",
            "　　广州日报讯?（全媒体记者段郴群）昨日，有消息传出特斯拉将与上海市政府签署投资建厂协议，根据双方签署的合作协议，特斯拉在中国的首家工厂将落户上海临港开发区。而此次与特斯拉合作的是上海电气（601727）。广州日报全媒体记者昨日致电特斯拉中国相关人士，对方表示，对此合作消息，特斯拉不予置评。\r\n",
            "　　有望带动销售\r\n",
            "　　据了解，目前特斯拉全球销售供不应求，其在美国的工厂产能无法满足全球消费者的购买需求，特别在中国市场。对于此次传出在中国合资建厂，业内表示，一是可以大大增加特斯拉的供应量，同时也有望让消费者能更快拿到车。而目前特斯拉在中国市场采用全进口模式，如果实现合资生产，有望省去25%的进口税，在省去运费以及进口税后，中国消费者购买特斯拉产品价格或比现在的价格更实惠。\r\n",
            "　　而受此消息刺激，昨日A股特斯拉概念个股大幅上涨，其中上海临港（600848）涨停，而与特斯拉有业务合作的天汽模（002510）也在近期大涨。\r\n",
            "　　业内表示，最近包括天齐锂业等相关概念个股纷纷上涨，光大证券分析，特斯拉在中国建厂有望直接利好其供应商，投资者可以积极关注；同时，广发证券认为，特斯拉如在中国设厂，之前与特斯拉有合作或潜在合作意向的公司有望最先受益。\r\n",
            "　　相关数据\r\n",
            "　　市场调研公司JL?Warren?Capital的统计数据显示，今年一季度，特斯拉向中国市场出口Model?S和Mode?X车型共计4799辆，交付量同比增长350%，而根据特斯拉官方消息，其在2017年第一季度总共交付25418辆Model?S和Model?X车型。（段郴群）\r\n",
            "　　盘面情况\r\n",
            "　　截至昨日收盘，上证指数报3147.45点，下跌0.28%，成交2204亿元；深证成指报10265.20点，下跌0.98%，成交2577亿元；创业板指报1798.38点，下跌1.44%。\r\n",
            "　　蓝筹分化\r\n",
            "　　大盘蓝筹股出现明显分化，家电、白酒快速回调，保险和银行股成为护盘功臣，招商银行收盘上涨6.66%，中国太保涨逾3%，中国人寿、华安证券等涨逾2%。\r\n",
            "　　投资提醒\r\n",
            "　　有分析指出，股市突然放量下跌意味着当前市场信心仍有待恢复，资金或继续留守大盘蓝筹股，特别是国企大蓝筹。\r\n",
            "\n",
            "# Search Result 1\n",
            "　　随着时间日益临近半年末考核时点，市场的各种消息也开始对A股市场造成重大影响。周四A股就受到市场传言影响，导致某些个股出现大幅下跌引发市场恐慌，沪深两市股指双双出现小幅回调，成交量则出现猛增。鉴于两市股指日K线图上均出现了明显的冲高回落迹象，市场人士对于到6月底这段时间的走势也开始明显趋于谨慎。\r\n",
            "　　从市场全天的走势来看，早盘在保险股的带动下，以MSCI指数标的个股为代表的明晟概念股出现明显上行走势，带动股指不断震荡走高。不过在万达集团相关债券突然出现大幅下跌走势的影响下，万达电影(002739.SZ)股价早盘也出现大幅下行，临近早盘逼近跌停，午后开始特停。\r\n",
            "　　随着传言在市场的传播，午后更多的个股受到波及，复星医药(600196.SH)股价午后也一度出现闪崩，市场情绪明显受到影响，尾盘股指出现快速回落，市场成交量也明显放大！上证指数最后报收3147.45点，下跌8.76点，跌幅0.28%，成交2204亿元；深成指报收10265.20点，下跌101.97点，跌幅0.98%，成交2577亿元；创业板指数报收1798.38点，下跌26.31点，跌幅1.44%，成交630亿元。两市全天合计成交4781亿元，较上一交易日增加逾两成。\r\n",
            "　　市场人士普遍认为，就早盘市场的走势而言其实不错，明晟概念股大多数是白马蓝筹，也符合近来市场价值投资的风向，股指午后的大跌固然和市场传言有关，也和目前市场流动性整体较为紧张，市场仍处于存量博弈阶段有关。随着传言被澄清或证实，市场会自然消化这一影响，回到自身本来的运行轨迹中来。不过估计在月底之前市场走势会相对较弱，像样的反弹恐怕要等到7月份了！\r\n",
            "　　东方证券策略分析师薛俊认为，短期来看，A股进入MSCI新兴市场指数是对当前价值蓝筹和行业龙头为主导的市场行情的强化。此次被纳入MSCI新兴市场指数为222只大盘股，主要集中于金融、消费、工业、地产等大市值蓝筹龙头。今年以来大小票分化行情明显， QFII和沪深股通北向资金也更青睐银行、食品饮料、家用电器、计算机、医药生物等低估值、高股息率蓝筹龙头。A股进入MSCI指数是对目前A股以大市值蓝筹为主行情的验证和强化。\r\n",
            "　　MSCI新兴市场指数纳入A股反映了A股市场开放程度的提高，以及市场制度性建设获得显著成效。随着人民币国际化进程和资本市场开放进程稳步推进，未来A股市场在沪深股通交易额度限制、全球金融产品预审权的进一步放开方面有望更进一步。中长期来看，MSCI纳入A股也有望继续推动A股市场投资者结构以及制度建设的完善，整体市场风格有望加速与国际市场接轨。\r\n",
            "　　而从增量资金角度来看，MSCI新兴市场指数纳入A股带来的中短期增量资金有限。估计2018年6月最终实施方案后，总流入资金大约在138亿美元左右，折合成人民币在1000亿元左右。长期来看，随着加权因子从5%提高到100%，以及标的股的扩容，真正进入A股的海外资金有望突破万亿人民币级别。参考中国台湾、韩国等市场的纳入周期，这个过程在6-10年不等。\r\n",
            "\n",
            "# Search Result 2\n",
            "　　新华社伦敦６月２１日电（记者邓茜）伦敦股市《金融时报》１００种股票平均价格指数２１日报收７４４７．７９点，比前一交易日下跌２４．９２点，跌幅为０．３３％。欧洲三大股指当天均以下跌报收。\r\n",
            "　　个股方面，当天伦敦股市成分股中矿业股领涨，位于涨幅前五位的个股分别为：餐饮及酒店集团惠特布雷德股价上涨３．４０％，英国天然气供应商森特理克集团股价上涨２．１３％，希尔制药股价上涨２．０５％，国际联合航空集团股价上涨１．９５％，嘉能可股价上涨１．７５％。\r\n",
            "　　当天伦敦股市成分股中金融股领跌，位于跌幅前五位的个股分别为：Ｐｒｏｖｉｄｅｎｔ投资公司股价下跌１７．５９％，金融服务商哈格里夫斯－兰斯当股价下跌２．４２％，金融投资公司Ｓｔ　Ｊａｍｅｓ＇ｓ　Ｐｌａｃｅ股价下跌１．７９％，保险公司标准人寿股价下跌１．５６％，家用清洁用品公司利洁时公司股价下跌１．４８％。\r\n",
            "　　欧洲其他两大主要股指方面，法国巴黎股市ＣＡＣ４０指数报收５２７４．２６点，比前一交易日下跌１９．３９点，跌幅为０．３７％；德国法兰克福股市ＤＡＸ指数报收１２７７４．２６点，比前一交易日下跌４０．５３点，跌幅为０．３２％。\r\n",
            "\n",
            "# Search Result 3\n",
            "蓝筹预期乐观 沪深300涨1.17%\r\n",
            "　　昨天是MSCI宣布纳入A股的首个交易日。上证指数震荡收涨，在大盘股带动下沪深300收涨1.17%，收盘创2015年12月来高位，但是其他板块个股表现平平，而港股和亚太股市则出现下跌。\r\n",
            "　　广州日报讯?（全媒体记者杨欣）?周三，在MSCI宣布A股第四次闯关成功后，早盘两市双双高开，五分钟后相继翻绿，但随后又强势反弹，开启震荡模式，临近收盘白马股放量拉升，三大股指均收红。沪指收报3156.21点，0.52%，成交额1670亿元。深成指收报10367.17点，涨0.76%，成交额2252亿元。创业板收报1824.69点，涨0.20%，成交额593亿元。\r\n",
            "　　由于投资者担心A股成为MSCI新兴市场指数新成员之后会产生“吸金”作用，因此港股和其他亚太市场昨天普遍表现不佳。昨天恒指低开后迅速下探超1%，虽然一度调头回升，但未能维持升势，截至收盘，恒指跌0.57%，报25694.58点；日韩股市收盘下跌，日经225指数收盘跌0.45%，报20138.79点。韩国综合指数跌0.49%，报2357.53点。\r\n",
            "　　大盘股上涨赚钱效应却不佳\r\n",
            "　　大部分市场人士认为，从昨天市场的走势来看，对重大利好并没有做出太过积极的反应，主要的原因在于资金引进方面。由于海外机构配置个股会需要消耗比较长的时间，因此被列入MSCI对于A股来说实际上是一个偏向于中长期的利好。市场短期没有做出脉冲性的走势，自是跟利好的时间性有关。\r\n",
            "　　而更重要的原因则在于蓝筹股本身上升动力不足。目前上证50指数的周线图指标已经在比较高的位置。大盘蓝筹已经经历了一两个月的上涨，无论对于个股还是上证50指数来说都面临着调整的要求。技术上的调整压力压制了大盘蓝筹上涨的动力。\r\n",
            "　　实际上，虽然收盘指数均收涨，但是盘面上却是非常尴尬。本报全媒体记者粗略统计，市场上涨个股1377只，下跌个股1499只，涨跌比为9:10，买入下跌个股几率更大；涨幅超过2%的个股287只，占总数概率9.5%左右，说明想要当日获利超过2%的几率不到一成；涨幅超过5%的个股68只，其中需要减掉17只一字板涨停个股，占总数概率1.5%左右，说明要获得较大收益概率不足2%，这些数字显然与本周涨幅完全不匹配，赚钱效应已经大幅缩减。\r\n",
            "　　外资口味要摸透?\r\n",
            "　　A股热点也别忽略\r\n",
            "　　有市场人士指出，目前这一消息对市场的影响偏理性，如想在下一步布局中胜出，则需研究外资的口味。而港股通机制和QFII是最直接的外资入A渠道，两部分资金增减情况值得投资者关注。\r\n",
            "　　实际上，在A股正式被宣布纳入MSCI前，已经有外资加速埋伏A股的迹象。从沪港通渠道来看，近3个月外资通过沪股通净买入137.29亿元，期间总成交高达2713.93亿元。其中56个交易日，有34个交易日外资为净买入，占比在60%以上。在深港通上，近3个月外资通过深股通净买入更是高达360亿元，期间56个交易日，外资有53个交易日为净买入，占比超过90%。\r\n",
            "　　通过沪港通等渠道进入A股的外资最爱所谓的龙头以及白马板块。56个交易日，共有6只个股每日都在沪深股通的前十大活跃个股中，分别是海康威视、五粮液、美的集团、格力电器、贵州茅台和中国平安，全部为各自行业中的绩优龙头股。\r\n",
            "　　同样代表外资口味的QFII也是投资者的重要参考指标。一季报显示，苏泊尔、水井坊、五粮液、白云机场、上海银行、贵州茅台等少数个股得到外资一致看好。其中，上海银行被瑞银等多家外资机构集中扫货。\r\n",
            "　　大幅买入的同时，近3个月中国建筑、中国动力和海螺水泥被大幅减持超过5个亿，值得关注。此外，数据显示，一季度至少有53只个股遭外资减持，其中减持数量超过1000万股的共有9只，分别是格力电器、广深铁路、威孚高科、五粮液、洛阳钼业、金正大、海康威视、美的集团、深圳机场等，虽然这些大幅减持的个股一季报和年报业绩表现也较好，但随着不少个股大幅上涨，股价处于高位，被场内外资减持的同时，短时间内也不可能成为场外外资的投资标的。\r\n",
            "　　MSCI效应或扩散\r\n",
            "　　本报全媒体记者发现，昨天盘面上创业板指高开低走，上证50指数震荡走高，表明资金对于蓝筹股的预期较高。被纳入MACI的222只大盘股过半数大涨，市场炒作偏好发生倾斜。后市投资者可关注一些位置较低，基本面形象较好的蓝筹股和绩优股。\r\n",
            "　　但是也有投资者担心，MSCI涉及标的股此前已经有一定涨幅，短期内上涨空间不大，追高的话很容易被套。\r\n",
            "　　中信证券市场人士陈慕林则认为，目前市场板块的运行节奏不是很好把握，热点切换得比较快，并且延续性较差。\r\n",
            "　　此外，昨天市场当中深圳本地股和上海本地股的表现比较突出。其中上海本地股是时隔了很长时间之后再次在市场当中兴起。面对今天这样的行情，有业内人士认为“炒地图”行情有望再次启动。\r\n",
            "　　近期的消息面也倾向于这两个板块。近日国家发改委、国家海洋局印发了《全国海洋经济发展“十三五”规划》，上海和深圳被作为我国海洋经济的桥头堡，一旦要冲击海洋经济世界级城市，上海和深圳必将受益。\r\n",
            "　　A股三大热点需关注　　\r\n",
            "　　广州日报讯?（文/表?全媒体记者张忠安）A股成功闯关MSCI，沪深两市昨日尾盘拉升，蓝筹股集体大涨，大单资金流入明显。不过，整体看，成交量并未有效扩大，上证指数或正在脱离底部区域，但较为缓慢。\r\n",
            "　　关注一：\r\n",
            "　　MSCI是什么？\r\n",
            "　　根据记者了解，MSCI指数系列十分庞大，共划分为市值加权指数系列、因子及策略指数系列、主题指数系列、房地产指数系列等六大系列，其中，市值加权指数系列最为重要，A股此次被纳入的正是该指数。而如果按层级分，A股纳入的指数处在MSCI全球指数旗下的新兴市场指数。而MSCI中国指数就放在亚洲市场（除日本）指数下面。“上一层级指数成分股中包含了下一层级指数的成分股，换句话说下一层级指数成分股是上一层级指数的子集。”广发证券策略分析师陈杰表示。\r\n",
            "　　关注二：\r\n",
            "　　A股有多大好处？\r\n",
            "　　A股被纳入MSCI后，短期能提供的资金在千亿元之内。但总体规模会有多少？有机构经过测算，中长期新增资金可能会达到2.7万亿元人民币。\r\n",
            "　　有分析指出，如果按5%纳入因子计算，预计新流入资金量约1000亿元，考虑到如下实际因素，短期内新流入的资金量可能小于1000亿元。跟踪MSCI指数的基金中包含了相当规模的主动管理型基金，主动型基金可以选择低配甚至不配A股。这也意味着，短期的新增资金对A股有正面影响，但难成决定性力量。不过，中长期意义较大，平安证券分析师张亚婕称，如果A股全部纳入大概带来约3400?亿美元的水平，折合人民币在2.32万亿元。\r\n",
            "　　关注三：\r\n",
            "　　A股哪些个股被入选？\r\n",
            "　　此次纳入A?股的决定在?MSCI?所咨询的国际机构投资者中得到了广泛支持，计划初始纳入222只大盘A股。\r\n",
            "　　广发证券策略分析师陈杰指出，从入选的个股分类来看，金融板块市值和数量占比最高。与此前方案相比，正式方案将A+H两地上市的A股也纳入在内，多增加了国有五大行、三大保险公司以及多家千亿元市值以上的券商股。食品饮料行业一共只有8只标的股票，?其中白酒股占了三家，分别是贵州茅台、五粮液和洋河股份，市值均超过千亿元。\r\n",
            "　　名词解析：MSCI\r\n",
            "　　MSCI英文全称为Morgan?Stanley?Capital?International，是美国著名的指数编制公司，摩根士丹利资本国际公司（MSCI）。它是一家股权、固定资产、对冲基金、股票市场指数的供应商。截至2015年6月，全球约10万亿美元的资产以MSCI指数为基准。\r\n",
            "　　基金业解读：??对A股长期有正面作用\r\n",
            "　　广州日报讯?（全媒体记者刘幸）A股纳入MSCI新兴市场指数，A股迎来等待四年的机会。本次将有222只A股被纳入到MSCI新兴市场指数，成为海外投资者的基本配置基准。A股全部纳入后，在MSCI新兴市场指数的比重将超过10%，与H股、B股、海外中资股之和比重相当。本次纳入比例5%，影响到的流入资金规模约在500亿~750亿元人民币，未来纳入比例还会提高。\r\n",
            "　　平安大华基金认为，从国际经验来看，纳入MSCI指数对股市总体而言有积极影响。例如，加入MSCI指数后一年时间里，韩国股市在首次被纳入后的三年里，股指上涨了65%。A股此次成功纳入MSCI指数将带来约千亿元的新增资金，相对A股近53万亿元市值占比较小，而从初始纳入5%到最终全部纳入仍需较长时间，虽有正面作用但影响偏长期。\r\n",
            "　　基岩资本副总裁黄明麒表示，此次A股成功加入MSCI指数具有很大的金融意义，代表着我国资本市场更大程度上受到了国际资本市场的认可。\r\n",
            "　　博时基金宏观策略部投资经理余军博士表示，中长期看，国际资金对A股的配置权重将会逐渐加大，中国本地的金融、消费以及制造业等龙头上市公司将会获得国际投资者的青睐，而目前A股偏价值的投资风格也将会延续。\r\n",
            "　　博时基金指数与量化投资部基金经理万琼表示，本次纳入的222只A股，与沪深300重合度较高，且金融行业权重占比较高，短期内这些相关指数、行业受情绪面影响或将有一定的提振作用。投资者可以关注沪深300、大盘主题类的国内基金产品，例如博时裕富沪深300、博时上证50等正收益基金。\r\n",
            "\n",
            "# Search Result 4\n",
            "　　6月22日早盘，被称为A股“第一院线股”的万达电影（002739． SZ）在尚无明显利空消息情况下暴跌，截至午间收盘跌9.87%，逼近跌停，成交量明显放大。\r\n",
            "　　这也是万达电影今年以来单日最大跌幅。\r\n",
            "　　具体来看，万达电影早间开盘报57.63元/股，此后股价一路震荡下行，午间收盘报51.95元/股，成交总额达到12.42亿元，换手率为5.42%。\r\n",
            "　　此外，万达多只债券现券收益率大幅走高，对应价格大跌。6月22日，万达2024年到期的美元债券大跌1.9%；16万达01债（136143）下跌幅度超过2%。\r\n",
            "　　公开信息显示，16万达01债券的发债主体为大连万达商业地产股份有限公司，债券名称为大连万达商业地产股份有限公司2016年公司债券，实际发行量50亿元，单位面值100元，票面利率3.2%，起息日2016年1月14日，到期日2021年1月14日。\r\n",
            "　　事实上，不止是16万达01债大幅跳水，15万达01债（122446）早盘价格一度跌逾2.3%，15万达02债（122467）早盘跌2.43%。\r\n",
            "　　而在5月25日，16万达01债券的评级机构大公国际资信评估有限公司还对其出具了跟踪评级公告，认为包括15万达01、15万达02、16万达01、16万达02、16万达03、16万达04、16万达05、16万达06、15大连万达MTN001、15大连万达MTN002、16大连万达MTN001、16大连万达MTN002、16大连万达MTN003、16大连万达MTN004、17大连万达MTN001、17大连万达MTN002维持AAA级别信用评级，对大连万达商业地产股份有限公司主体长期信用评价也为AAA。上述债券规模合计达到850亿元。\r\n",
            "　　此番万达遭遇股债“双杀”原因尚不明确。万达电影证券部一位不愿透露姓名的证券事务经理告诉证券时报，公司暂不清楚下跌原因，目前经营状况正常，没有问题，一些网络传言不可轻信。此外，一位万达电影证券部工作人员表示，公司目前没有停牌的决定。\r\n",
            "　　据万达官网介绍，万达集团创立于1988年，形成商业、文化、网络、金融四大产业集团，2015年位列《财富》世界500强企业第385名。2016年企业资产7962亿元，营业收入2550亿元，目标到2020年，企业资产2000亿美元，市值2000亿美元，收入1000亿美元，净利100亿美元，成为世界一流跨国企业。\r\n",
            "\n"
          ],
          "name": "stdout"
        }
      ]
    },
    {
      "cell_type": "code",
      "metadata": {
        "id": "vdbLX5WXvsAy",
        "colab_type": "code",
        "colab": {}
      },
      "source": [
        ""
      ],
      "execution_count": 0,
      "outputs": []
    }
  ]
}