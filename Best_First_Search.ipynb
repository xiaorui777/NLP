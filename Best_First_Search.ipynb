{
  "nbformat": 4,
  "nbformat_minor": 0,
  "metadata": {
    "colab": {
      "name": "Best_First_Search.ipynb",
      "version": "0.3.2",
      "provenance": [],
      "include_colab_link": true
    },
    "kernelspec": {
      "name": "python3",
      "display_name": "Python 3"
    }
  },
  "cells": [
    {
      "cell_type": "markdown",
      "metadata": {
        "id": "view-in-github",
        "colab_type": "text"
      },
      "source": [
        "<a href=\"https://colab.research.google.com/github/xiaorui777/NLP/blob/master/Best_First_Search.ipynb\" target=\"_parent\"><img src=\"https://colab.research.google.com/assets/colab-badge.svg\" alt=\"Open In Colab\"/></a>"
      ]
    },
    {
      "cell_type": "markdown",
      "metadata": {
        "id": "fJWrbYB62xkU",
        "colab_type": "text"
      },
      "source": [
        "# Best First Search"
      ]
    },
    {
      "cell_type": "markdown",
      "metadata": {
        "id": "MBs8_bEk22w8",
        "colab_type": "text"
      },
      "source": [
        "### 我们根据中国的城市来做一个简易版导航地图"
      ]
    },
    {
      "cell_type": "code",
      "metadata": {
        "id": "MGycTzGEjJ07",
        "colab_type": "code",
        "colab": {}
      },
      "source": [
        "coordination_source = \"\"\"\n",
        "{name:'lanzhou', geoCoord:[103.73, 36.03]},\n",
        "{name:'jiayuguan', geoCoord:[98.17, 39.47]},\n",
        "{name:'xining', geoCoord:[101.74, 36.56]},\n",
        "{name:'chengdu', geoCoord:[104.06, 30.67]},\n",
        "{name:'shijiazhuang', geoCoord:[114.48, 38.03]},\n",
        "{name:'lasa', geoCoord:[102.73, 25.04]},\n",
        "{name:'guiyang', geoCoord:[106.71, 26.57]},\n",
        "{name:'wuhan', geoCoord:[114.31, 30.52]},\n",
        "{name:'zhengzhou', geoCoord:[113.65, 34.76]},\n",
        "{name:'jinan', geoCoord:[117, 36.65]},\n",
        "{name:'nanjing', geoCoord:[118.78, 32.04]},\n",
        "{name:'hefei', geoCoord:[117.27, 31.86]},\n",
        "{name:'hangzhou', geoCoord:[120.19, 30.26]},\n",
        "{name:'nanchang', geoCoord:[115.89, 28.68]},\n",
        "{name:'fuzhou', geoCoord:[119.3, 26.08]},\n",
        "{name:'guangzhou', geoCoord:[113.23, 23.16]},\n",
        "{name:'changsha', geoCoord:[113, 28.21]},\n",
        "//{name:'海口', geoCoord:[110.35, 20.02]},\n",
        "{name:'shengyang', geoCoord:[123.38, 41.8]},\n",
        "{name:'changchun', geoCoord:[125.35, 43.88]},\n",
        "{name:'haorbing', geoCoord:[126.63, 45.75]},\n",
        "{name:'taiyuan', geoCoord:[112.53, 37.87]},\n",
        "{name:'xian', geoCoord:[108.95, 34.27]},\n",
        "//{name:'台湾', geoCoord:[121.30, 25.03]},\n",
        "{name:'beijing', geoCoord:[116.46, 39.92]},\n",
        "{name:'shanghai', geoCoord:[121.48, 31.22]},\n",
        "{name:'chongqing', geoCoord:[106.54, 29.59]},\n",
        "{name:'tianjing', geoCoord:[117.2, 39.13]},\n",
        "{name:'huhehaote', geoCoord:[111.65, 40.82]},\n",
        "{name:'nanning', geoCoord:[108.33, 22.84]},\n",
        "//{name:'西藏', geoCoord:[91.11, 29.97]},\n",
        "{name:'yinchuan', geoCoord:[106.27, 38.47]},\n",
        "{name:'wulumuqi', geoCoord:[87.68, 43.77]},\n",
        "{name:'xiangang', geoCoord:[114.17, 22.28]},\n",
        "{name:'aomen', geoCoord:[113.54, 22.19]}\n",
        "\"\"\""
      ],
      "execution_count": 0,
      "outputs": []
    },
    {
      "cell_type": "code",
      "metadata": {
        "id": "nzJ-kBd9jOAE",
        "colab_type": "code",
        "colab": {}
      },
      "source": [
        "import re"
      ],
      "execution_count": 0,
      "outputs": []
    },
    {
      "cell_type": "code",
      "metadata": {
        "id": "1wWW9Hk8jUXn",
        "colab_type": "code",
        "colab": {}
      },
      "source": [
        "# 用字典存放城市名和坐标\n",
        "city_location = {}\n",
        "#{\n",
        "# city_name: ()\n",
        "#}"
      ],
      "execution_count": 0,
      "outputs": []
    },
    {
      "cell_type": "code",
      "metadata": {
        "id": "SsNI_i-ejV_6",
        "colab_type": "code",
        "colab": {
          "base_uri": "https://localhost:8080/",
          "height": 561
        },
        "outputId": "569ce507-c0f1-41d8-909a-32c56e6e0261"
      },
      "source": [
        "# 一行一行读（split（'\\n'）换行）\n",
        "for line in coordination_source.split('\\n'):\n",
        "    # 只考虑中国大陆， //之后的地名是隔海的不考虑\n",
        "    if line.startswith('//'):continue\n",
        "    if line.strip() == '': continue\n",
        "    \n",
        "    city = re.findall(\"name:'(\\w+)'\", line)[0]\n",
        "    x_y = re.findall(\"Coord:\\[(\\d+.\\d+),\\s(\\d+.\\d+)\\]\", line)[0]\n",
        "    # 将坐标列表转化为元组\n",
        "    x_y = tuple(map(float,x_y))\n",
        "    city_location[city] = x_y\n",
        "    print(city, x_y)"
      ],
      "execution_count": 4,
      "outputs": [
        {
          "output_type": "stream",
          "text": [
            "lanzhou (103.73, 36.03)\n",
            "jiayuguan (98.17, 39.47)\n",
            "xining (101.74, 36.56)\n",
            "chengdu (104.06, 30.67)\n",
            "shijiazhuang (114.48, 38.03)\n",
            "lasa (102.73, 25.04)\n",
            "guiyang (106.71, 26.57)\n",
            "wuhan (114.31, 30.52)\n",
            "zhengzhou (113.65, 34.76)\n",
            "jinan (117.0, 36.65)\n",
            "nanjing (118.78, 32.04)\n",
            "hefei (117.27, 31.86)\n",
            "hangzhou (120.19, 30.26)\n",
            "nanchang (115.89, 28.68)\n",
            "fuzhou (119.3, 26.08)\n",
            "guangzhou (113.23, 23.16)\n",
            "changsha (113.0, 28.21)\n",
            "shengyang (123.38, 41.8)\n",
            "changchun (125.35, 43.88)\n",
            "haorbing (126.63, 45.75)\n",
            "taiyuan (112.53, 37.87)\n",
            "xian (108.95, 34.27)\n",
            "beijing (116.46, 39.92)\n",
            "shanghai (121.48, 31.22)\n",
            "chongqing (106.54, 29.59)\n",
            "tianjing (117.2, 39.13)\n",
            "huhehaote (111.65, 40.82)\n",
            "nanning (108.33, 22.84)\n",
            "yinchuan (106.27, 38.47)\n",
            "wulumuqi (87.68, 43.77)\n",
            "xiangang (114.17, 22.28)\n",
            "aomen (113.54, 22.19)\n"
          ],
          "name": "stdout"
        }
      ]
    },
    {
      "cell_type": "code",
      "metadata": {
        "id": "JIjjXA58Facj",
        "colab_type": "code",
        "colab": {}
      },
      "source": [
        "import math"
      ],
      "execution_count": 0,
      "outputs": []
    },
    {
      "cell_type": "code",
      "metadata": {
        "id": "m2JhOdADHWYg",
        "colab_type": "code",
        "colab": {}
      },
      "source": [
        "# 将经纬度投射到平面上得到两地距离\n",
        "def geo_distance(origin, destination):\n",
        "    \"\"\"\n",
        "    Calculate the Haversine distance.\n",
        "\n",
        "    Parameters\n",
        "    ----------\n",
        "    origin : tuple of float\n",
        "        (lat, long)\n",
        "    destination : tuple of float\n",
        "        (lat, long)\n",
        "\n",
        "    Returns\n",
        "    -------\n",
        "    distance_in_km : float\n",
        "\n",
        "    Examples\n",
        "    --------\n",
        "    >>> origin = (48.1372, 11.5756)  # Munich\n",
        "    >>> destination = (52.5186, 13.4083)  # Berlin\n",
        "    >>> round(distance(origin, destination), 1)\n",
        "    504.2\n",
        "    \"\"\"\n",
        "    lat1, lon1 = origin\n",
        "    lat2, lon2 = destination\n",
        "    radius = 6371  # km\n",
        "\n",
        "    dlat = math.radians(lat2 - lat1)\n",
        "    dlon = math.radians(lon2 - lon1)\n",
        "    a = (math.sin(dlat / 2) * math.sin(dlat / 2) +\n",
        "         math.cos(math.radians(lat1)) * math.cos(math.radians(lat2)) *\n",
        "         math.sin(dlon / 2) * math.sin(dlon / 2))\n",
        "    c = 2 * math.atan2(math.sqrt(a), math.sqrt(1 - a))\n",
        "    d = radius * c\n",
        "\n",
        "    return d"
      ],
      "execution_count": 0,
      "outputs": []
    },
    {
      "cell_type": "code",
      "metadata": {
        "id": "hRv0yxRBLa-j",
        "colab_type": "code",
        "colab": {}
      },
      "source": [
        "def get_city_distance(city1,city2):\n",
        "    return geo_distance(city_location[city1],city_location[city2])"
      ],
      "execution_count": 0,
      "outputs": []
    },
    {
      "cell_type": "code",
      "metadata": {
        "id": "qCTk8zv1Mgx3",
        "colab_type": "code",
        "colab": {
          "base_uri": "https://localhost:8080/",
          "height": 34
        },
        "outputId": "529f1a78-db7f-4a53-c898-ebb25ae5af0b"
      },
      "source": [
        "get_city_distance('hangzhou','shanghai')"
      ],
      "execution_count": 8,
      "outputs": [
        {
          "output_type": "execute_result",
          "data": {
            "text/plain": [
              "153.5185697155768"
            ]
          },
          "metadata": {
            "tags": []
          },
          "execution_count": 8
        }
      ]
    },
    {
      "cell_type": "code",
      "metadata": {
        "id": "gq-OqSbQMtHf",
        "colab_type": "code",
        "colab": {}
      },
      "source": [
        "# 用网络画图\n",
        "import networkx as nx"
      ],
      "execution_count": 0,
      "outputs": []
    },
    {
      "cell_type": "code",
      "metadata": {
        "id": "TRd8PF7JNBMg",
        "colab_type": "code",
        "colab": {}
      },
      "source": [
        "cities = list(city_location.keys())"
      ],
      "execution_count": 0,
      "outputs": []
    },
    {
      "cell_type": "code",
      "metadata": {
        "id": "haHlP45KNHvy",
        "colab_type": "code",
        "colab": {
          "base_uri": "https://localhost:8080/",
          "height": 561
        },
        "outputId": "3f46d518-76f8-45a3-e654-87916e607020"
      },
      "source": [
        "cities"
      ],
      "execution_count": 11,
      "outputs": [
        {
          "output_type": "execute_result",
          "data": {
            "text/plain": [
              "['lanzhou',\n",
              " 'jiayuguan',\n",
              " 'xining',\n",
              " 'chengdu',\n",
              " 'shijiazhuang',\n",
              " 'lasa',\n",
              " 'guiyang',\n",
              " 'wuhan',\n",
              " 'zhengzhou',\n",
              " 'jinan',\n",
              " 'nanjing',\n",
              " 'hefei',\n",
              " 'hangzhou',\n",
              " 'nanchang',\n",
              " 'fuzhou',\n",
              " 'guangzhou',\n",
              " 'changsha',\n",
              " 'shengyang',\n",
              " 'changchun',\n",
              " 'haorbing',\n",
              " 'taiyuan',\n",
              " 'xian',\n",
              " 'beijing',\n",
              " 'shanghai',\n",
              " 'chongqing',\n",
              " 'tianjing',\n",
              " 'huhehaote',\n",
              " 'nanning',\n",
              " 'yinchuan',\n",
              " 'wulumuqi',\n",
              " 'xiangang',\n",
              " 'aomen']"
            ]
          },
          "metadata": {
            "tags": []
          },
          "execution_count": 11
        }
      ]
    },
    {
      "cell_type": "code",
      "metadata": {
        "id": "FVHD1BdqNI2O",
        "colab_type": "code",
        "colab": {}
      },
      "source": [
        "# 建立一个空图\n",
        "city_graph = nx.Graph()"
      ],
      "execution_count": 0,
      "outputs": []
    },
    {
      "cell_type": "code",
      "metadata": {
        "id": "qpRolqEANQV8",
        "colab_type": "code",
        "colab": {}
      },
      "source": [
        "# 添加节点\n",
        "city_graph.add_nodes_from(cities)"
      ],
      "execution_count": 0,
      "outputs": []
    },
    {
      "cell_type": "code",
      "metadata": {
        "id": "donkZXQUNcMr",
        "colab_type": "code",
        "colab": {
          "base_uri": "https://localhost:8080/",
          "height": 319
        },
        "outputId": "45578b34-6e98-46da-b352-40c246affd19"
      },
      "source": [
        "# 网络可视化\n",
        "nx.draw(city_graph,city_location,with_labels = True, node_size = 10)"
      ],
      "execution_count": 14,
      "outputs": [
        {
          "output_type": "display_data",
          "data": {
            "image/png": "[encoded data removed]",
            "text/plain": [
              "<Figure size 432x288 with 1 Axes>"
            ]
          },
          "metadata": {
            "tags": []
          }
        }
      ]
    },
    {
      "cell_type": "code",
      "metadata": {
        "id": "2De8_cmYNd2D",
        "colab_type": "code",
        "colab": {
          "base_uri": "https://localhost:8080/",
          "height": 34
        },
        "outputId": "8bf10aff-645c-4ccd-bdac-98bcfed1b01e"
      },
      "source": [
        "get_city_distance('hangzhou','shanghai')"
      ],
      "execution_count": 15,
      "outputs": [
        {
          "output_type": "execute_result",
          "data": {
            "text/plain": [
              "153.5185697155768"
            ]
          },
          "metadata": {
            "tags": []
          },
          "execution_count": 15
        }
      ]
    },
    {
      "cell_type": "code",
      "metadata": {
        "id": "Ko7Cv0p5Sxtz",
        "colab_type": "code",
        "colab": {
          "base_uri": "https://localhost:8080/",
          "height": 34
        },
        "outputId": "1cf53b75-078b-4fe1-a6ea-a61851f428c5"
      },
      "source": [
        "get_city_distance('xian','lanzhou')"
      ],
      "execution_count": 16,
      "outputs": [
        {
          "output_type": "execute_result",
          "data": {
            "text/plain": [
              "582.9782141643079"
            ]
          },
          "metadata": {
            "tags": []
          },
          "execution_count": 16
        }
      ]
    },
    {
      "cell_type": "code",
      "metadata": {
        "id": "_cx1_bU-S5uH",
        "colab_type": "code",
        "colab": {}
      },
      "source": [
        "# 如果两地之间的距离小于700，那么就是有路可以连接两地\n",
        "threshold = 700"
      ],
      "execution_count": 0,
      "outputs": []
    },
    {
      "cell_type": "code",
      "metadata": {
        "id": "GX-7ysetS9Jz",
        "colab_type": "code",
        "colab": {}
      },
      "source": [
        "from collections import defaultdict"
      ],
      "execution_count": 0,
      "outputs": []
    },
    {
      "cell_type": "code",
      "metadata": {
        "id": "mzMo2Hv-Zexk",
        "colab_type": "code",
        "colab": {}
      },
      "source": [
        "cities_connection = defaultdict(list)"
      ],
      "execution_count": 0,
      "outputs": []
    },
    {
      "cell_type": "code",
      "metadata": {
        "id": "z4jt3OrKrWWw",
        "colab_type": "code",
        "colab": {
          "base_uri": "https://localhost:8080/",
          "height": 34
        },
        "outputId": "35844a96-e5a2-4484-ac29-f9656261216d"
      },
      "source": [
        "print(cities_connection)"
      ],
      "execution_count": 20,
      "outputs": [
        {
          "output_type": "stream",
          "text": [
            "defaultdict(<class 'list'>, {})\n"
          ],
          "name": "stdout"
        }
      ]
    },
    {
      "cell_type": "code",
      "metadata": {
        "id": "o2u6FI5dZl6F",
        "colab_type": "code",
        "colab": {}
      },
      "source": [
        "for c1 in cities:\n",
        "    for c2 in cities:\n",
        "        if c1 == c2: continue\n",
        "            \n",
        "        if get_city_distance(c1,c2)<threshold:\n",
        "            cities_connection[c1].append(c2)"
      ],
      "execution_count": 0,
      "outputs": []
    },
    {
      "cell_type": "code",
      "metadata": {
        "id": "NIzBJfjKsC7F",
        "colab_type": "code",
        "colab": {
          "base_uri": "https://localhost:8080/",
          "height": 69
        },
        "outputId": "0bfbb7b5-5337-4e34-c0e4-704f842a2d44"
      },
      "source": [
        "print(cities_connection)"
      ],
      "execution_count": 22,
      "outputs": [
        {
          "output_type": "stream",
          "text": [
            "defaultdict(<class 'list'>, {'lanzhou': ['jiayuguan', 'xining', 'chengdu', 'lasa', 'guiyang', 'xian', 'chongqing', 'nanning', 'yinchuan'], 'jiayuguan': ['lanzhou', 'xining', 'chengdu', 'lasa'], 'xining': ['lanzhou', 'jiayuguan', 'chengdu', 'lasa', 'guiyang', 'chongqing', 'yinchuan'], 'chengdu': ['lanzhou', 'jiayuguan', 'xining', 'lasa', 'guiyang', 'xian', 'chongqing', 'nanning', 'yinchuan'], 'shijiazhuang': ['wuhan', 'zhengzhou', 'jinan', 'nanjing', 'hefei', 'nanchang', 'guangzhou', 'changsha', 'taiyuan', 'xian', 'beijing', 'tianjing', 'huhehaote'], 'lasa': ['lanzhou', 'jiayuguan', 'xining', 'chengdu', 'guiyang', 'chongqing', 'nanning', 'yinchuan'], 'guiyang': ['lanzhou', 'xining', 'chengdu', 'lasa', 'xian', 'chongqing', 'nanning', 'yinchuan'], 'wuhan': ['shijiazhuang', 'zhengzhou', 'jinan', 'nanjing', 'hefei', 'hangzhou', 'nanchang', 'fuzhou', 'guangzhou', 'changsha', 'taiyuan', 'xian', 'beijing', 'tianjing', 'huhehaote', 'xiangang', 'aomen'], 'zhengzhou': ['shijiazhuang', 'wuhan', 'jinan', 'nanjing', 'hefei', 'nanchang', 'guangzhou', 'changsha', 'taiyuan', 'xian', 'beijing', 'tianjing', 'huhehaote', 'xiangang', 'aomen'], 'jinan': ['shijiazhuang', 'wuhan', 'zhengzhou', 'nanjing', 'hefei', 'hangzhou', 'nanchang', 'fuzhou', 'changsha', 'taiyuan', 'beijing', 'shanghai', 'tianjing', 'huhehaote'], 'nanjing': ['shijiazhuang', 'wuhan', 'zhengzhou', 'jinan', 'hefei', 'hangzhou', 'nanchang', 'fuzhou', 'changsha', 'beijing', 'shanghai', 'tianjing'], 'hefei': ['shijiazhuang', 'wuhan', 'zhengzhou', 'jinan', 'nanjing', 'hangzhou', 'nanchang', 'fuzhou', 'guangzhou', 'changsha', 'taiyuan', 'beijing', 'shanghai', 'tianjing', 'xiangang', 'aomen'], 'hangzhou': ['wuhan', 'jinan', 'nanjing', 'hefei', 'nanchang', 'fuzhou', 'beijing', 'shanghai', 'tianjing'], 'nanchang': ['shijiazhuang', 'wuhan', 'zhengzhou', 'jinan', 'nanjing', 'hefei', 'hangzhou', 'fuzhou', 'guangzhou', 'changsha', 'taiyuan', 'beijing', 'shanghai', 'tianjing', 'xiangang', 'aomen'], 'fuzhou': ['wuhan', 'jinan', 'nanjing', 'hefei', 'hangzhou', 'nanchang', 'guangzhou', 'shanghai', 'xiangang', 'aomen'], 'guangzhou': ['shijiazhuang', 'wuhan', 'zhengzhou', 'hefei', 'nanchang', 'fuzhou', 'changsha', 'taiyuan', 'xian', 'nanning', 'xiangang', 'aomen'], 'changsha': ['shijiazhuang', 'wuhan', 'zhengzhou', 'jinan', 'nanjing', 'hefei', 'nanchang', 'guangzhou', 'taiyuan', 'xian', 'beijing', 'tianjing', 'huhehaote', 'nanning', 'xiangang', 'aomen'], 'shengyang': ['changchun', 'haorbing', 'shanghai'], 'changchun': ['shengyang', 'haorbing'], 'haorbing': ['shengyang', 'changchun'], 'taiyuan': ['shijiazhuang', 'wuhan', 'zhengzhou', 'jinan', 'hefei', 'nanchang', 'guangzhou', 'changsha', 'xian', 'beijing', 'tianjing', 'huhehaote', 'yinchuan', 'aomen'], 'xian': ['lanzhou', 'chengdu', 'shijiazhuang', 'guiyang', 'wuhan', 'zhengzhou', 'guangzhou', 'changsha', 'taiyuan', 'chongqing', 'huhehaote', 'nanning', 'yinchuan'], 'beijing': ['shijiazhuang', 'wuhan', 'zhengzhou', 'jinan', 'nanjing', 'hefei', 'hangzhou', 'nanchang', 'changsha', 'taiyuan', 'tianjing', 'huhehaote'], 'shanghai': ['jinan', 'nanjing', 'hefei', 'hangzhou', 'nanchang', 'fuzhou', 'shengyang', 'tianjing'], 'chongqing': ['lanzhou', 'xining', 'chengdu', 'lasa', 'guiyang', 'xian', 'huhehaote', 'nanning', 'yinchuan'], 'tianjing': ['shijiazhuang', 'wuhan', 'zhengzhou', 'jinan', 'nanjing', 'hefei', 'hangzhou', 'nanchang', 'changsha', 'taiyuan', 'beijing', 'shanghai', 'huhehaote'], 'huhehaote': ['shijiazhuang', 'wuhan', 'zhengzhou', 'jinan', 'changsha', 'taiyuan', 'xian', 'beijing', 'chongqing', 'tianjing', 'yinchuan'], 'nanning': ['lanzhou', 'chengdu', 'lasa', 'guiyang', 'guangzhou', 'changsha', 'xian', 'chongqing', 'yinchuan', 'xiangang', 'aomen'], 'yinchuan': ['lanzhou', 'xining', 'chengdu', 'lasa', 'guiyang', 'taiyuan', 'xian', 'chongqing', 'huhehaote', 'nanning'], 'xiangang': ['wuhan', 'zhengzhou', 'hefei', 'nanchang', 'fuzhou', 'guangzhou', 'changsha', 'nanning', 'aomen'], 'aomen': ['wuhan', 'zhengzhou', 'hefei', 'nanchang', 'fuzhou', 'guangzhou', 'changsha', 'taiyuan', 'nanning', 'xiangang']})\n"
          ],
          "name": "stdout"
        }
      ]
    },
    {
      "cell_type": "code",
      "metadata": {
        "id": "rc_AyC_baU81",
        "colab_type": "code",
        "colab": {
          "base_uri": "https://localhost:8080/",
          "height": 170
        },
        "outputId": "b6430b14-7b04-4576-c5f3-10d55b2f9333"
      },
      "source": [
        "cities_connection['lanzhou']"
      ],
      "execution_count": 23,
      "outputs": [
        {
          "output_type": "execute_result",
          "data": {
            "text/plain": [
              "['jiayuguan',\n",
              " 'xining',\n",
              " 'chengdu',\n",
              " 'lasa',\n",
              " 'guiyang',\n",
              " 'xian',\n",
              " 'chongqing',\n",
              " 'nanning',\n",
              " 'yinchuan']"
            ]
          },
          "metadata": {
            "tags": []
          },
          "execution_count": 23
        }
      ]
    },
    {
      "cell_type": "code",
      "metadata": {
        "id": "QRU9fymFa_yE",
        "colab_type": "code",
        "colab": {}
      },
      "source": [
        "cities_connection_graph = nx.Graph(cities_connection)"
      ],
      "execution_count": 0,
      "outputs": []
    },
    {
      "cell_type": "code",
      "metadata": {
        "id": "0eSyA_jOaf1s",
        "colab_type": "code",
        "colab": {
          "base_uri": "https://localhost:8080/",
          "height": 319
        },
        "outputId": "c620e75e-adbb-432d-a31f-e68db5057e99"
      },
      "source": [
        "nx.draw(cities_connection_graph, city_location, with_labels=True, node_size = 10)"
      ],
      "execution_count": 25,
      "outputs": [
        {
          "output_type": "display_data",
          "data": {
            "image/png": "[encoded data removed]",
            "text/plain": [
              "<Figure size 432x288 with 1 Axes>"
            ]
          },
          "metadata": {
            "tags": []
          }
        }
      ]
    },
    {
      "cell_type": "code",
      "metadata": {
        "id": "rWxl7g8Da8cd",
        "colab_type": "code",
        "colab": {}
      },
      "source": [
        "def is_goal(desitination):\n",
        "    def _wrap(current_path):\n",
        "        return current_path[-1] == desitination\n",
        "    return _wrap"
      ],
      "execution_count": 0,
      "outputs": []
    },
    {
      "cell_type": "code",
      "metadata": {
        "id": "TsuW6ZyHfQWD",
        "colab_type": "code",
        "colab": {}
      },
      "source": [
        "def search(graph, start, is_goal, search_strategy):\n",
        "    # 把起点加入路径\n",
        "    pathes = [[start] ]\n",
        "    seen = set()\n",
        "    \n",
        "    while pathes:\n",
        "        # 把pathes中起点删除，加到path中\n",
        "        path = pathes.pop(0)\n",
        "        froniter = path[-1]\n",
        "        \n",
        "        if froniter in seen: continue\n",
        "            \n",
        "        successors = graph[froniter]\n",
        "        for city in successors: \n",
        "            if city in path: continue\n",
        "            \n",
        "            new_path = path+[city]\n",
        "            \n",
        "            pathes.append(new_path)\n",
        "        \n",
        "            if is_goal(new_path): return new_path\n",
        "        #print('len(pathes)={}'.format(pathes))\n",
        "        seen.add(froniter)\n",
        "        pathes = search_strategy(pathes)"
      ],
      "execution_count": 0,
      "outputs": []
    },
    {
      "cell_type": "code",
      "metadata": {
        "id": "jm5-h_YCfSXN",
        "colab_type": "code",
        "colab": {
          "base_uri": "https://localhost:8080/",
          "height": 34
        },
        "outputId": "195409da-ab40-4d3f-d1cc-158a97427b21"
      },
      "source": [
        "search(cities_connection, start='xian', is_goal=is_goal('shanghai'),search_strategy=lambda n: n)"
      ],
      "execution_count": 28,
      "outputs": [
        {
          "output_type": "execute_result",
          "data": {
            "text/plain": [
              "['xian', 'shijiazhuang', 'jinan', 'shanghai']"
            ]
          },
          "metadata": {
            "tags": []
          },
          "execution_count": 28
        }
      ]
    },
    {
      "cell_type": "code",
      "metadata": {
        "id": "WR92FGXfgmuZ",
        "colab_type": "code",
        "colab": {}
      },
      "source": [
        "# 只从最好的n个中搜索（beam）\n",
        "def sort_path(cmp_func, beam=-1):\n",
        "    def _sorted(pathes):\n",
        "        return sorted(pathes, key=cmp_func)[:beam]\n",
        "    return _sorted"
      ],
      "execution_count": 0,
      "outputs": []
    },
    {
      "cell_type": "code",
      "metadata": {
        "id": "Bg54lOdEjiEf",
        "colab_type": "code",
        "colab": {
          "base_uri": "https://localhost:8080/",
          "height": 34
        },
        "outputId": "8227f2be-1018-4627-de4f-463c6ca6356b"
      },
      "source": [
        "search(cities_connection, start='beijing', is_goal=is_goal('lasa'), search_strategy=lambda n: n)"
      ],
      "execution_count": 30,
      "outputs": [
        {
          "output_type": "execute_result",
          "data": {
            "text/plain": [
              "['beijing', 'changsha', 'nanning', 'lasa']"
            ]
          },
          "metadata": {
            "tags": []
          },
          "execution_count": 30
        }
      ]
    },
    {
      "cell_type": "code",
      "metadata": {
        "id": "z8Lq4XTGjksF",
        "colab_type": "code",
        "colab": {}
      },
      "source": [
        "# 排序函数：加起来的距离最短\n",
        "def get_path_distance(path):\n",
        "    distance = 0\n",
        "    \n",
        "    for i, c in enumerate(path[:-1]):\n",
        "        distance += get_city_distance(c, path[i+1])\n",
        "    \n",
        "    return distance\n"
      ],
      "execution_count": 0,
      "outputs": []
    },
    {
      "cell_type": "code",
      "metadata": {
        "id": "DTo-qhEUkN72",
        "colab_type": "code",
        "colab": {}
      },
      "source": [
        "# 总站数\n",
        "def get_total_station(path):\n",
        "    return len(path)"
      ],
      "execution_count": 0,
      "outputs": []
    },
    {
      "cell_type": "code",
      "metadata": {
        "id": "xBvOcZTakUAt",
        "colab_type": "code",
        "colab": {}
      },
      "source": [
        "# 结合最优总距离和总站数\n",
        "def get_comprehensive_path(path):\n",
        "    return get_path_distance(path) + get_total_station(path)"
      ],
      "execution_count": 0,
      "outputs": []
    },
    {
      "cell_type": "code",
      "metadata": {
        "id": "Dp6Cs1a3kWdQ",
        "colab_type": "code",
        "colab": {}
      },
      "source": [
        "# 想去尽可能多的城市\n",
        "def get_as_much_path(path): \n",
        "    return -1 * len(path)"
      ],
      "execution_count": 0,
      "outputs": []
    },
    {
      "cell_type": "code",
      "metadata": {
        "id": "T-2ppSQZkYI3",
        "colab_type": "code",
        "colab": {
          "base_uri": "https://localhost:8080/",
          "height": 34
        },
        "outputId": "862b8700-7f01-4234-a59e-71fb0d1d9432"
      },
      "source": [
        "get_path_distance(['beijing', 'changsha'])"
      ],
      "execution_count": 35,
      "outputs": [
        {
          "output_type": "execute_result",
          "data": {
            "text/plain": [
              "665.2271362574077"
            ]
          },
          "metadata": {
            "tags": []
          },
          "execution_count": 35
        }
      ]
    },
    {
      "cell_type": "code",
      "metadata": {
        "id": "gV_RlurdklD6",
        "colab_type": "code",
        "colab": {
          "base_uri": "https://localhost:8080/",
          "height": 34
        },
        "outputId": "ad7691ad-a510-4aa4-e4a7-e6f968ac223a"
      },
      "source": [
        "search(cities_connection, start='beijing', is_goal=is_goal('lasa'), search_strategy=lambda n:n)"
      ],
      "execution_count": 36,
      "outputs": [
        {
          "output_type": "execute_result",
          "data": {
            "text/plain": [
              "['beijing', 'changsha', 'nanning', 'lasa']"
            ]
          },
          "metadata": {
            "tags": []
          },
          "execution_count": 36
        }
      ]
    },
    {
      "cell_type": "code",
      "metadata": {
        "id": "UbhnTNd8l_4x",
        "colab_type": "code",
        "colab": {
          "base_uri": "https://localhost:8080/",
          "height": 34
        },
        "outputId": "5c31680d-08bd-45eb-f03c-67e29418ae85"
      },
      "source": [
        "search(cities_connection, start='beijing', is_goal=is_goal('xian'), search_strategy=sort_path(get_total_station))"
      ],
      "execution_count": 37,
      "outputs": [
        {
          "output_type": "execute_result",
          "data": {
            "text/plain": [
              "['beijing', 'shijiazhuang', 'xian']"
            ]
          },
          "metadata": {
            "tags": []
          },
          "execution_count": 37
        }
      ]
    },
    {
      "cell_type": "code",
      "metadata": {
        "id": "jXk_ShnymCeR",
        "colab_type": "code",
        "colab": {
          "base_uri": "https://localhost:8080/",
          "height": 34
        },
        "outputId": "38320bab-ba8f-40f7-b689-bf00a04a0f70"
      },
      "source": [
        "search(cities_connection, start='beijing', is_goal=is_goal('lasa'), search_strategy=sort_path(get_comprehensive_path))"
      ],
      "execution_count": 38,
      "outputs": [
        {
          "output_type": "execute_result",
          "data": {
            "text/plain": [
              "['beijing', 'huhehaote', 'yinchuan', 'lasa']"
            ]
          },
          "metadata": {
            "tags": []
          },
          "execution_count": 38
        }
      ]
    },
    {
      "cell_type": "code",
      "metadata": {
        "id": "43nbk8xnmRYO",
        "colab_type": "code",
        "colab": {
          "base_uri": "https://localhost:8080/",
          "height": 289
        },
        "outputId": "09ca7f6d-e05f-402d-dad3-a79679a63eb2"
      },
      "source": [
        "search(cities_connection, start='beijing', is_goal=is_goal('lasa'), search_strategy=sort_path(get_as_much_path))"
      ],
      "execution_count": 39,
      "outputs": [
        {
          "output_type": "execute_result",
          "data": {
            "text/plain": [
              "['beijing',\n",
              " 'shijiazhuang',\n",
              " 'wuhan',\n",
              " 'zhengzhou',\n",
              " 'jinan',\n",
              " 'nanjing',\n",
              " 'hefei',\n",
              " 'hangzhou',\n",
              " 'nanchang',\n",
              " 'fuzhou',\n",
              " 'guangzhou',\n",
              " 'changsha',\n",
              " 'taiyuan',\n",
              " 'xian',\n",
              " 'lanzhou',\n",
              " 'lasa']"
            ]
          },
          "metadata": {
            "tags": []
          },
          "execution_count": 39
        }
      ]
    },
    {
      "cell_type": "code",
      "metadata": {
        "id": "xii1hvqK1mCl",
        "colab_type": "code",
        "colab": {}
      },
      "source": [
        ""
      ],
      "execution_count": 0,
      "outputs": []
    }
  ]
}