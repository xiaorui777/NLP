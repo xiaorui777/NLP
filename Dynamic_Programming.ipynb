{
  "nbformat": 4,
  "nbformat_minor": 0,
  "metadata": {
    "colab": {
      "name": "Dynamic-Programming",
      "version": "0.3.2",
      "provenance": [],
      "include_colab_link": true
    },
    "kernelspec": {
      "name": "python3",
      "display_name": "Python 3"
    }
  },
  "cells": [
    {
      "cell_type": "markdown",
      "metadata": {
        "id": "view-in-github",
        "colab_type": "text"
      },
      "source": [
        "<a href=\"https://colab.research.google.com/github/xiaorui777/NLP/blob/master/Dynamic_Programming.ipynb\" target=\"_parent\"><img src=\"https://colab.research.google.com/assets/colab-badge.svg\" alt=\"Open In Colab\"/></a>"
      ]
    },
    {
      "cell_type": "markdown",
      "metadata": {
        "id": "K7VBctUrLxgk",
        "colab_type": "text"
      },
      "source": [
        "# Dynamic Programming For Cutting Problem"
      ]
    },
    {
      "cell_type": "markdown",
      "metadata": {
        "id": "WcZ_-IIMOohO",
        "colab_type": "text"
      },
      "source": [
        "### 问题描述：一段钢材，切分成不同长度能卖出不同价钱，如何切分钢材使得收益最高呢？\n",
        "\n",
        "#### length i     1，         2，        3 ，        4，         5，         6，        7，         8 ，        9 ，        10 \n",
        "#### price Pi     1，         5，        8 ，        9，        10，      17，      17，       20 ，       24，       30  "
      ]
    },
    {
      "cell_type": "code",
      "metadata": {
        "id": "pfbRF84ALTAE",
        "colab_type": "code",
        "colab": {}
      },
      "source": [
        "from collections import defaultdict"
      ],
      "execution_count": 0,
      "outputs": []
    },
    {
      "cell_type": "code",
      "metadata": {
        "id": "qK1jEYVtK4ST",
        "colab_type": "code",
        "colab": {}
      },
      "source": [
        "original_price = [1, 5, 8, 9, 10, 17, 17, 20, 24, 30]\n",
        "price = defaultdict(int)"
      ],
      "execution_count": 0,
      "outputs": []
    },
    {
      "cell_type": "code",
      "metadata": {
        "id": "VXWS8jH7LiT5",
        "colab_type": "code",
        "colab": {}
      },
      "source": [
        "for i, p in enumerate(original_price):\n",
        "    price[i + 1] = p\n",
        "assert price[1] == 1"
      ],
      "execution_count": 0,
      "outputs": []
    },
    {
      "cell_type": "code",
      "metadata": {
        "id": "qEmACl4KN7uw",
        "colab_type": "code",
        "outputId": "8b9d22ee-87da-4200-aafd-b45306d397ea",
        "colab": {
          "base_uri": "https://localhost:8080/",
          "height": 34
        }
      },
      "source": [
        "price[132]"
      ],
      "execution_count": 4,
      "outputs": [
        {
          "output_type": "execute_result",
          "data": {
            "text/plain": [
              "0"
            ]
          },
          "metadata": {
            "tags": []
          },
          "execution_count": 4
        }
      ]
    },
    {
      "cell_type": "code",
      "metadata": {
        "id": "PPi9YlBgRrV6",
        "colab_type": "code",
        "colab": {}
      },
      "source": [
        "solution = {}\n",
        "# for a given length N, we set the corrsponding split parts\n",
        "# {\n",
        "#    4 : (2,2)\n",
        "# }"
      ],
      "execution_count": 0,
      "outputs": []
    },
    {
      "cell_type": "code",
      "metadata": {
        "id": "rTFEeR4XVXDP",
        "colab_type": "code",
        "outputId": "cdd3cc5b-ef26-4a2a-c557-a4e86a4ab352",
        "colab": {
          "base_uri": "https://localhost:8080/",
          "height": 59
        }
      },
      "source": [
        "\"\"\"def r(n):\n",
        "        return max(\n",
        "        # [p[n], r(1) + r(n-1), r(2) + r(n-2), ... , r(n-1) + r(1)]   \n",
        "        \n",
        "        [price[n]] + [r(i) + r(n-i) for i in range(1, n)])\n",
        "        \n",
        "        目前的问题：如果数字很大 r(123)，需要运行很久\n",
        "        时间复杂度：n！\"\"\""
      ],
      "execution_count": 6,
      "outputs": [
        {
          "output_type": "execute_result",
          "data": {
            "text/plain": [
              "'def r(n):\\n        return max(\\n        # [p[n], r(1) + r(n-1), r(2) + r(n-2), ... , r(n-1) + r(1)]   \\n        \\n        [price[n]] + [r(i) + r(n-i) for i in range(1, n)])\\n        \\n        目前的问题：如果数字很大 r(123)，需要运行很久\\n        时间复杂度：n！'"
            ]
          },
          "metadata": {
            "tags": []
          },
          "execution_count": 6
        }
      ]
    },
    {
      "cell_type": "code",
      "metadata": {
        "id": "ooyAtLuyV0xr",
        "colab_type": "code",
        "colab": {}
      },
      "source": [
        "from functools import lru_cache"
      ],
      "execution_count": 0,
      "outputs": []
    },
    {
      "cell_type": "code",
      "metadata": {
        "id": "boS7M6jBLoHP",
        "colab_type": "code",
        "colab": {}
      },
      "source": [
        "@lru_cache(maxsize = 2**10)\n",
        "def r(n):   \n",
        "    max_price, split_point = max(\n",
        "        [(price[n], 0)]+ [(r(i) + r(n-i), i) for i in range(1, n)], key=lambda x: x[0]\n",
        "    )\n",
        "    solution[n] = (split_point, n - split_point)\n",
        "    \n",
        "    return max_price"
      ],
      "execution_count": 0,
      "outputs": []
    },
    {
      "cell_type": "code",
      "metadata": {
        "id": "Y513HItgOJ8X",
        "colab_type": "code",
        "outputId": "421f6f10-e1cb-4782-b936-ec5231eec798",
        "colab": {
          "base_uri": "https://localhost:8080/",
          "height": 34
        }
      },
      "source": [
        "r(18)"
      ],
      "execution_count": 9,
      "outputs": [
        {
          "output_type": "execute_result",
          "data": {
            "text/plain": [
              "52"
            ]
          },
          "metadata": {
            "tags": []
          },
          "execution_count": 9
        }
      ]
    },
    {
      "cell_type": "markdown",
      "metadata": {
        "id": "-j0DHjHnmENI",
        "colab_type": "text"
      },
      "source": [
        "## Dynamic Programming\n",
        "\n",
        "（不断查表的意思）\n",
        "\n",
        "三个要点：\n",
        "\n",
        "+ 分析子问题的重复性\n",
        "+ 子问题进行存储\n",
        "+ Solution 要进行解析"
      ]
    },
    {
      "cell_type": "code",
      "metadata": {
        "id": "h7Y7369UQaLL",
        "colab_type": "code",
        "outputId": "4970e493-84f3-4980-d13c-11bff33cbf14",
        "colab": {
          "base_uri": "https://localhost:8080/",
          "height": 323
        }
      },
      "source": [
        "solution"
      ],
      "execution_count": 10,
      "outputs": [
        {
          "output_type": "execute_result",
          "data": {
            "text/plain": [
              "{1: (0, 1),\n",
              " 2: (0, 2),\n",
              " 3: (0, 3),\n",
              " 4: (2, 2),\n",
              " 5: (2, 3),\n",
              " 6: (0, 6),\n",
              " 7: (1, 6),\n",
              " 8: (2, 6),\n",
              " 9: (3, 6),\n",
              " 10: (0, 10),\n",
              " 11: (1, 10),\n",
              " 12: (2, 10),\n",
              " 13: (3, 10),\n",
              " 14: (2, 12),\n",
              " 15: (2, 13),\n",
              " 16: (6, 10),\n",
              " 17: (1, 16),\n",
              " 18: (2, 16)}"
            ]
          },
          "metadata": {
            "tags": []
          },
          "execution_count": 10
        }
      ]
    },
    {
      "cell_type": "code",
      "metadata": {
        "id": "sTmI4DFBUZpy",
        "colab_type": "code",
        "colab": {}
      },
      "source": [
        "def not_cut(split): return split == 0\n",
        "\n",
        "def parse_solution(target_length, revenue_solution):\n",
        "        left, right = revenue_solution[target_length]\n",
        "        \n",
        "        # 如果左边不切割，那么直接返回右边\n",
        "        if not_cut(left): return [right]\n",
        "        \n",
        "        # 如果对于两边都能切分的话，就将两边的结果结合起来\n",
        "        return parse_solution(left, revenue_solution) + parse_solution(right, revenue_solution)"
      ],
      "execution_count": 0,
      "outputs": []
    },
    {
      "cell_type": "code",
      "metadata": {
        "id": "A-bVF-Zan3eF",
        "colab_type": "code",
        "outputId": "ef8805ab-18aa-4559-fab5-d34ba263a28f",
        "colab": {
          "base_uri": "https://localhost:8080/",
          "height": 34
        }
      },
      "source": [
        "parse_solution(18, solution)"
      ],
      "execution_count": 12,
      "outputs": [
        {
          "output_type": "execute_result",
          "data": {
            "text/plain": [
              "[2, 6, 10]"
            ]
          },
          "metadata": {
            "tags": []
          },
          "execution_count": 12
        }
      ]
    },
    {
      "cell_type": "markdown",
      "metadata": {
        "id": "VXjA8JLGvGSp",
        "colab_type": "text"
      },
      "source": [
        "# Dynamic Programming For Edit Distance Problem"
      ]
    },
    {
      "cell_type": "markdown",
      "metadata": {
        "id": "NEIte_Axa9vn",
        "colab_type": "text"
      },
      "source": [
        "### 问题描述：给定两个字符串 a 和 b，只允许以下三种操作：\n",
        "\n",
        " + 插入操作（距离定义为1）\n",
        " + 删除操作（距离定义为1）\n",
        " + 替换操作（距离定义为2）因为替换可以理解为先删除再插入\n",
        "\n",
        "### 求：a 和 b 的最小编辑距离。\n",
        "\n",
        "举例： \"sot\" => \"stop\"\n",
        "\n",
        "\n",
        "step1 ：插入\" t \"。  \"sot\" => \"stot\"，编辑距离为 1。\n",
        "\n",
        "step2 :   替换\" t \" 为 \" p \"。 \"stot\" => \"stop\"，编辑距离为 2。\n",
        "\n",
        "即，最小编辑距离为 1 + 2 = 3\n",
        "\n",
        "求解这个问题的思路：动态规划"
      ]
    },
    {
      "cell_type": "code",
      "metadata": {
        "id": "RL7Edr20CYVb",
        "colab_type": "code",
        "colab": {}
      },
      "source": [
        "edit_solution = {}"
      ],
      "execution_count": 0,
      "outputs": []
    },
    {
      "cell_type": "code",
      "metadata": {
        "id": "g2gFXdO8o58E",
        "colab_type": "code",
        "colab": {}
      },
      "source": [
        "@lru_cache(maxsize=2**10)\n",
        "def edit_distance(string1, string2):\n",
        "    \n",
        "    if len(string1) == 0: return len(string2)\n",
        "    if len(string2) == 0: return len(string1)\n",
        "    \n",
        "    tail_s1 = string1[-1]\n",
        "    tail_s2 = string2[-1]\n",
        "    \n",
        "    candidates  = [\n",
        "            # string 1 delete tail\n",
        "            (edit_distance(string1[:-1], string2) + 1, 'DEL {}'.format(tail_s1)), \n",
        "            \n",
        "            # string 1 add tail of string2\n",
        "            (edit_distance(string1, string2[:-1]) + 1,  'ADD {}' .format(tail_s2)),\n",
        "    ]\n",
        "    \n",
        "    # 如果 string1 和 string2 最后一位相同则加 0 ，如果不相同则加 2\n",
        "    if tail_s1 == tail_s2:\n",
        "        both_forward = (edit_distance(string1[:-1], string2[:-1]) + 0, ' ')\n",
        "    else:\n",
        "        both_forward = (edit_distance(string1[:-1], string2[:-1]) + 2, 'SUB {} => {}'.format(tail_s1, tail_s2))\n",
        "    \n",
        "    candidates . append(both_forward)\n",
        "    \n",
        "    min_distance, operation = min(candidates, key=lambda x: x[0])\n",
        "    \n",
        "    edit_solution[(string1, string2)] = operation\n",
        "    return min_distance"
      ],
      "execution_count": 0,
      "outputs": []
    },
    {
      "cell_type": "code",
      "metadata": {
        "id": "UeyY1QxHHbx1",
        "colab_type": "code",
        "outputId": "ac3bcda7-fb27-4fe7-b74f-1850690cd4e9",
        "colab": {
          "base_uri": "https://localhost:8080/",
          "height": 34
        }
      },
      "source": [
        "edit_distance('我今天确实不想吃饭', '我今天真的不太想吃饭' )"
      ],
      "execution_count": 15,
      "outputs": [
        {
          "output_type": "execute_result",
          "data": {
            "text/plain": [
              "5"
            ]
          },
          "metadata": {
            "tags": []
          },
          "execution_count": 15
        }
      ]
    },
    {
      "cell_type": "code",
      "metadata": {
        "id": "7ds4YQXOcPVD",
        "colab_type": "code",
        "colab": {
          "base_uri": "https://localhost:8080/",
          "height": 34
        },
        "outputId": "f2b3a7ef-53f8-4e24-c307-a5a831cac3dd"
      },
      "source": [
        "edit_distance('horse', 'ros' )"
      ],
      "execution_count": 16,
      "outputs": [
        {
          "output_type": "execute_result",
          "data": {
            "text/plain": [
              "4"
            ]
          },
          "metadata": {
            "tags": []
          },
          "execution_count": 16
        }
      ]
    },
    {
      "cell_type": "code",
      "metadata": {
        "id": "yJ-857MBnyvK",
        "colab_type": "code",
        "colab": {
          "base_uri": "https://localhost:8080/",
          "height": 34
        },
        "outputId": "39cc1370-39fb-428d-9d4a-71a07f41fef1"
      },
      "source": [
        "edit_distance('小明今天确实不想吃饭', '我今天真的不太想吃饭' )"
      ],
      "execution_count": 17,
      "outputs": [
        {
          "output_type": "execute_result",
          "data": {
            "text/plain": [
              "8"
            ]
          },
          "metadata": {
            "tags": []
          },
          "execution_count": 17
        }
      ]
    },
    {
      "cell_type": "code",
      "metadata": {
        "id": "R4D2bxCVVGQL",
        "colab_type": "code",
        "outputId": "0e0a45f8-541d-4f7d-a085-ea15793a5868",
        "colab": {
          "base_uri": "https://localhost:8080/",
          "height": 3502
        }
      },
      "source": [
        "edit_solution"
      ],
      "execution_count": 18,
      "outputs": [
        {
          "output_type": "execute_result",
          "data": {
            "text/plain": [
              "{('h', 'r'): 'DEL h',\n",
              " ('h', 'ro'): 'DEL h',\n",
              " ('h', 'ros'): 'DEL h',\n",
              " ('ho', 'r'): 'DEL o',\n",
              " ('ho', 'ro'): ' ',\n",
              " ('ho', 'ros'): 'ADD s',\n",
              " ('hor', 'r'): ' ',\n",
              " ('hor', 'ro'): 'DEL r',\n",
              " ('hor', 'ros'): 'DEL r',\n",
              " ('hors', 'r'): 'DEL s',\n",
              " ('hors', 'ro'): 'DEL s',\n",
              " ('hors', 'ros'): ' ',\n",
              " ('horse', 'r'): 'DEL e',\n",
              " ('horse', 'ro'): 'DEL e',\n",
              " ('horse', 'ros'): 'DEL e',\n",
              " ('小', '我'): 'DEL 小',\n",
              " ('小', '我今'): 'DEL 小',\n",
              " ('小', '我今天'): 'DEL 小',\n",
              " ('小', '我今天真'): 'DEL 小',\n",
              " ('小', '我今天真的'): 'DEL 小',\n",
              " ('小', '我今天真的不'): 'DEL 小',\n",
              " ('小', '我今天真的不太'): 'DEL 小',\n",
              " ('小', '我今天真的不太想'): 'DEL 小',\n",
              " ('小', '我今天真的不太想吃'): 'DEL 小',\n",
              " ('小', '我今天真的不太想吃饭'): 'DEL 小',\n",
              " ('小明', '我'): 'DEL 明',\n",
              " ('小明', '我今'): 'DEL 明',\n",
              " ('小明', '我今天'): 'DEL 明',\n",
              " ('小明', '我今天真'): 'DEL 明',\n",
              " ('小明', '我今天真的'): 'DEL 明',\n",
              " ('小明', '我今天真的不'): 'DEL 明',\n",
              " ('小明', '我今天真的不太'): 'DEL 明',\n",
              " ('小明', '我今天真的不太想'): 'DEL 明',\n",
              " ('小明', '我今天真的不太想吃'): 'DEL 明',\n",
              " ('小明', '我今天真的不太想吃饭'): 'DEL 明',\n",
              " ('小明今', '我'): 'DEL 今',\n",
              " ('小明今', '我今'): ' ',\n",
              " ('小明今', '我今天'): 'ADD 天',\n",
              " ('小明今', '我今天真'): 'ADD 真',\n",
              " ('小明今', '我今天真的'): 'ADD 的',\n",
              " ('小明今', '我今天真的不'): 'ADD 不',\n",
              " ('小明今', '我今天真的不太'): 'ADD 太',\n",
              " ('小明今', '我今天真的不太想'): 'ADD 想',\n",
              " ('小明今', '我今天真的不太想吃'): 'ADD 吃',\n",
              " ('小明今', '我今天真的不太想吃饭'): 'ADD 饭',\n",
              " ('小明今天', '我'): 'DEL 天',\n",
              " ('小明今天', '我今'): 'DEL 天',\n",
              " ('小明今天', '我今天'): ' ',\n",
              " ('小明今天', '我今天真'): 'ADD 真',\n",
              " ('小明今天', '我今天真的'): 'ADD 的',\n",
              " ('小明今天', '我今天真的不'): 'ADD 不',\n",
              " ('小明今天', '我今天真的不太'): 'ADD 太',\n",
              " ('小明今天', '我今天真的不太想'): 'ADD 想',\n",
              " ('小明今天', '我今天真的不太想吃'): 'ADD 吃',\n",
              " ('小明今天', '我今天真的不太想吃饭'): 'ADD 饭',\n",
              " ('小明今天确', '我'): 'DEL 确',\n",
              " ('小明今天确', '我今'): 'DEL 确',\n",
              " ('小明今天确', '我今天'): 'DEL 确',\n",
              " ('小明今天确', '我今天真'): 'DEL 确',\n",
              " ('小明今天确', '我今天真的'): 'DEL 确',\n",
              " ('小明今天确', '我今天真的不'): 'DEL 确',\n",
              " ('小明今天确', '我今天真的不太'): 'DEL 确',\n",
              " ('小明今天确', '我今天真的不太想'): 'DEL 确',\n",
              " ('小明今天确', '我今天真的不太想吃'): 'DEL 确',\n",
              " ('小明今天确', '我今天真的不太想吃饭'): 'DEL 确',\n",
              " ('小明今天确实', '我'): 'DEL 实',\n",
              " ('小明今天确实', '我今'): 'DEL 实',\n",
              " ('小明今天确实', '我今天'): 'DEL 实',\n",
              " ('小明今天确实', '我今天真'): 'DEL 实',\n",
              " ('小明今天确实', '我今天真的'): 'DEL 实',\n",
              " ('小明今天确实', '我今天真的不'): 'DEL 实',\n",
              " ('小明今天确实', '我今天真的不太'): 'DEL 实',\n",
              " ('小明今天确实', '我今天真的不太想'): 'DEL 实',\n",
              " ('小明今天确实', '我今天真的不太想吃'): 'DEL 实',\n",
              " ('小明今天确实', '我今天真的不太想吃饭'): 'DEL 实',\n",
              " ('小明今天确实不', '我'): 'DEL 不',\n",
              " ('小明今天确实不', '我今'): 'DEL 不',\n",
              " ('小明今天确实不', '我今天'): 'DEL 不',\n",
              " ('小明今天确实不', '我今天真'): 'DEL 不',\n",
              " ('小明今天确实不', '我今天真的'): 'DEL 不',\n",
              " ('小明今天确实不', '我今天真的不'): ' ',\n",
              " ('小明今天确实不', '我今天真的不太'): 'ADD 太',\n",
              " ('小明今天确实不', '我今天真的不太想'): 'ADD 想',\n",
              " ('小明今天确实不', '我今天真的不太想吃'): 'ADD 吃',\n",
              " ('小明今天确实不', '我今天真的不太想吃饭'): 'ADD 饭',\n",
              " ('小明今天确实不想', '我'): 'DEL 想',\n",
              " ('小明今天确实不想', '我今'): 'DEL 想',\n",
              " ('小明今天确实不想', '我今天'): 'DEL 想',\n",
              " ('小明今天确实不想', '我今天真'): 'DEL 想',\n",
              " ('小明今天确实不想', '我今天真的'): 'DEL 想',\n",
              " ('小明今天确实不想', '我今天真的不'): 'DEL 想',\n",
              " ('小明今天确实不想', '我今天真的不太'): 'DEL 想',\n",
              " ('小明今天确实不想', '我今天真的不太想'): ' ',\n",
              " ('小明今天确实不想', '我今天真的不太想吃'): 'ADD 吃',\n",
              " ('小明今天确实不想', '我今天真的不太想吃饭'): 'ADD 饭',\n",
              " ('小明今天确实不想吃', '我'): 'DEL 吃',\n",
              " ('小明今天确实不想吃', '我今'): 'DEL 吃',\n",
              " ('小明今天确实不想吃', '我今天'): 'DEL 吃',\n",
              " ('小明今天确实不想吃', '我今天真'): 'DEL 吃',\n",
              " ('小明今天确实不想吃', '我今天真的'): 'DEL 吃',\n",
              " ('小明今天确实不想吃', '我今天真的不'): 'DEL 吃',\n",
              " ('小明今天确实不想吃', '我今天真的不太'): 'DEL 吃',\n",
              " ('小明今天确实不想吃', '我今天真的不太想'): 'DEL 吃',\n",
              " ('小明今天确实不想吃', '我今天真的不太想吃'): ' ',\n",
              " ('小明今天确实不想吃', '我今天真的不太想吃饭'): 'ADD 饭',\n",
              " ('小明今天确实不想吃饭', '我'): 'DEL 饭',\n",
              " ('小明今天确实不想吃饭', '我今'): 'DEL 饭',\n",
              " ('小明今天确实不想吃饭', '我今天'): 'DEL 饭',\n",
              " ('小明今天确实不想吃饭', '我今天真'): 'DEL 饭',\n",
              " ('小明今天确实不想吃饭', '我今天真的'): 'DEL 饭',\n",
              " ('小明今天确实不想吃饭', '我今天真的不'): 'DEL 饭',\n",
              " ('小明今天确实不想吃饭', '我今天真的不太'): 'DEL 饭',\n",
              " ('小明今天确实不想吃饭', '我今天真的不太想'): 'DEL 饭',\n",
              " ('小明今天确实不想吃饭', '我今天真的不太想吃'): 'DEL 饭',\n",
              " ('小明今天确实不想吃饭', '我今天真的不太想吃饭'): ' ',\n",
              " ('我', '我'): ' ',\n",
              " ('我', '我今'): 'ADD 今',\n",
              " ('我', '我今天'): 'ADD 天',\n",
              " ('我', '我今天真'): 'ADD 真',\n",
              " ('我', '我今天真的'): 'ADD 的',\n",
              " ('我', '我今天真的不'): 'ADD 不',\n",
              " ('我', '我今天真的不太'): 'ADD 太',\n",
              " ('我', '我今天真的不太想'): 'ADD 想',\n",
              " ('我', '我今天真的不太想吃'): 'ADD 吃',\n",
              " ('我', '我今天真的不太想吃饭'): 'ADD 饭',\n",
              " ('我今', '我'): 'DEL 今',\n",
              " ('我今', '我今'): ' ',\n",
              " ('我今', '我今天'): 'ADD 天',\n",
              " ('我今', '我今天真'): 'ADD 真',\n",
              " ('我今', '我今天真的'): 'ADD 的',\n",
              " ('我今', '我今天真的不'): 'ADD 不',\n",
              " ('我今', '我今天真的不太'): 'ADD 太',\n",
              " ('我今', '我今天真的不太想'): 'ADD 想',\n",
              " ('我今', '我今天真的不太想吃'): 'ADD 吃',\n",
              " ('我今', '我今天真的不太想吃饭'): 'ADD 饭',\n",
              " ('我今天', '我'): 'DEL 天',\n",
              " ('我今天', '我今'): 'DEL 天',\n",
              " ('我今天', '我今天'): ' ',\n",
              " ('我今天', '我今天真'): 'ADD 真',\n",
              " ('我今天', '我今天真的'): 'ADD 的',\n",
              " ('我今天', '我今天真的不'): 'ADD 不',\n",
              " ('我今天', '我今天真的不太'): 'ADD 太',\n",
              " ('我今天', '我今天真的不太想'): 'ADD 想',\n",
              " ('我今天', '我今天真的不太想吃'): 'ADD 吃',\n",
              " ('我今天', '我今天真的不太想吃饭'): 'ADD 饭',\n",
              " ('我今天确', '我'): 'DEL 确',\n",
              " ('我今天确', '我今'): 'DEL 确',\n",
              " ('我今天确', '我今天'): 'DEL 确',\n",
              " ('我今天确', '我今天真'): 'DEL 确',\n",
              " ('我今天确', '我今天真的'): 'DEL 确',\n",
              " ('我今天确', '我今天真的不'): 'DEL 确',\n",
              " ('我今天确', '我今天真的不太'): 'DEL 确',\n",
              " ('我今天确', '我今天真的不太想'): 'DEL 确',\n",
              " ('我今天确', '我今天真的不太想吃'): 'DEL 确',\n",
              " ('我今天确', '我今天真的不太想吃饭'): 'DEL 确',\n",
              " ('我今天确实', '我'): 'DEL 实',\n",
              " ('我今天确实', '我今'): 'DEL 实',\n",
              " ('我今天确实', '我今天'): 'DEL 实',\n",
              " ('我今天确实', '我今天真'): 'DEL 实',\n",
              " ('我今天确实', '我今天真的'): 'DEL 实',\n",
              " ('我今天确实', '我今天真的不'): 'DEL 实',\n",
              " ('我今天确实', '我今天真的不太'): 'DEL 实',\n",
              " ('我今天确实', '我今天真的不太想'): 'DEL 实',\n",
              " ('我今天确实', '我今天真的不太想吃'): 'DEL 实',\n",
              " ('我今天确实', '我今天真的不太想吃饭'): 'DEL 实',\n",
              " ('我今天确实不', '我'): 'DEL 不',\n",
              " ('我今天确实不', '我今'): 'DEL 不',\n",
              " ('我今天确实不', '我今天'): 'DEL 不',\n",
              " ('我今天确实不', '我今天真'): 'DEL 不',\n",
              " ('我今天确实不', '我今天真的'): 'DEL 不',\n",
              " ('我今天确实不', '我今天真的不'): ' ',\n",
              " ('我今天确实不', '我今天真的不太'): 'ADD 太',\n",
              " ('我今天确实不', '我今天真的不太想'): 'ADD 想',\n",
              " ('我今天确实不', '我今天真的不太想吃'): 'ADD 吃',\n",
              " ('我今天确实不', '我今天真的不太想吃饭'): 'ADD 饭',\n",
              " ('我今天确实不想', '我'): 'DEL 想',\n",
              " ('我今天确实不想', '我今'): 'DEL 想',\n",
              " ('我今天确实不想', '我今天'): 'DEL 想',\n",
              " ('我今天确实不想', '我今天真'): 'DEL 想',\n",
              " ('我今天确实不想', '我今天真的'): 'DEL 想',\n",
              " ('我今天确实不想', '我今天真的不'): 'DEL 想',\n",
              " ('我今天确实不想', '我今天真的不太'): 'DEL 想',\n",
              " ('我今天确实不想', '我今天真的不太想'): ' ',\n",
              " ('我今天确实不想', '我今天真的不太想吃'): 'ADD 吃',\n",
              " ('我今天确实不想', '我今天真的不太想吃饭'): 'ADD 饭',\n",
              " ('我今天确实不想吃', '我'): 'DEL 吃',\n",
              " ('我今天确实不想吃', '我今'): 'DEL 吃',\n",
              " ('我今天确实不想吃', '我今天'): 'DEL 吃',\n",
              " ('我今天确实不想吃', '我今天真'): 'DEL 吃',\n",
              " ('我今天确实不想吃', '我今天真的'): 'DEL 吃',\n",
              " ('我今天确实不想吃', '我今天真的不'): 'DEL 吃',\n",
              " ('我今天确实不想吃', '我今天真的不太'): 'DEL 吃',\n",
              " ('我今天确实不想吃', '我今天真的不太想'): 'DEL 吃',\n",
              " ('我今天确实不想吃', '我今天真的不太想吃'): ' ',\n",
              " ('我今天确实不想吃', '我今天真的不太想吃饭'): 'ADD 饭',\n",
              " ('我今天确实不想吃饭', '我'): 'DEL 饭',\n",
              " ('我今天确实不想吃饭', '我今'): 'DEL 饭',\n",
              " ('我今天确实不想吃饭', '我今天'): 'DEL 饭',\n",
              " ('我今天确实不想吃饭', '我今天真'): 'DEL 饭',\n",
              " ('我今天确实不想吃饭', '我今天真的'): 'DEL 饭',\n",
              " ('我今天确实不想吃饭', '我今天真的不'): 'DEL 饭',\n",
              " ('我今天确实不想吃饭', '我今天真的不太'): 'DEL 饭',\n",
              " ('我今天确实不想吃饭', '我今天真的不太想'): 'DEL 饭',\n",
              " ('我今天确实不想吃饭', '我今天真的不太想吃'): 'DEL 饭',\n",
              " ('我今天确实不想吃饭', '我今天真的不太想吃饭'): ' '}"
            ]
          },
          "metadata": {
            "tags": []
          },
          "execution_count": 18
        }
      ]
    },
    {
      "cell_type": "code",
      "metadata": {
        "id": "lvsFGXuhWuA8",
        "colab_type": "code",
        "colab": {}
      },
      "source": [
        "def parse_solution(string1, string2, revenue_solution):\n",
        "    \n",
        "    operation = revenue_solution[string1, string2]\n",
        "\n",
        "    if len(string1) == 1 or  len(string2) == 1: \n",
        "        if string1 != string2:\n",
        "            return [string1 + ' SUB => ' + string2]\n",
        "        return []\n",
        "    \n",
        "    if operation == ' ' and len(string1)>1 and len(string2)>1:\n",
        "        return parse_solution(string1[:-1], string2[:-1],revenue_solution)\n",
        "    \n",
        "    if operation == ('DEL ' + string1[-1]) and len(string1)>1 and len(string2)>1:\n",
        "        return [operation] + parse_solution(string1[:-1], string2,revenue_solution)\n",
        "    \n",
        "    if operation == ('ADD ' + string2[-1]) and len(string1)>1 and len(string2)>1:\n",
        "        return [operation] + parse_solution(string1, string2[:-1],revenue_solution)\n",
        "    \n",
        "    return []"
      ],
      "execution_count": 0,
      "outputs": []
    },
    {
      "cell_type": "code",
      "metadata": {
        "id": "8b2TgKMy870C",
        "colab_type": "code",
        "colab": {
          "base_uri": "https://localhost:8080/",
          "height": 34
        },
        "outputId": "b6eb47a3-6e05-41d2-8dae-70b93531edf8"
      },
      "source": [
        "parse_solution('我今天确实不想吃饭', '我今天真的不太想吃饭' , edit_solution)"
      ],
      "execution_count": 20,
      "outputs": [
        {
          "output_type": "execute_result",
          "data": {
            "text/plain": [
              "['ADD 太', 'DEL 实', 'DEL 确', 'ADD 的', 'ADD 真']"
            ]
          },
          "metadata": {
            "tags": []
          },
          "execution_count": 20
        }
      ]
    },
    {
      "cell_type": "code",
      "metadata": {
        "id": "ow40cJ0oBjhr",
        "colab_type": "code",
        "colab": {
          "base_uri": "https://localhost:8080/",
          "height": 34
        },
        "outputId": "5737451a-2121-4599-ba73-c3a88e65c5bf"
      },
      "source": [
        "parse_solution('horse', 'ros' , edit_solution)"
      ],
      "execution_count": 21,
      "outputs": [
        {
          "output_type": "execute_result",
          "data": {
            "text/plain": [
              "['DEL e', 'DEL r', 'h SUB => r']"
            ]
          },
          "metadata": {
            "tags": []
          },
          "execution_count": 21
        }
      ]
    },
    {
      "cell_type": "code",
      "metadata": {
        "id": "3Meds6d3cigl",
        "colab_type": "code",
        "colab": {
          "base_uri": "https://localhost:8080/",
          "height": 34
        },
        "outputId": "4d9c265e-c006-4ce9-e27b-e542723a61b2"
      },
      "source": [
        "parse_solution('小明今天确实不想吃饭', '我今天真的不太想吃饭' , edit_solution)"
      ],
      "execution_count": 22,
      "outputs": [
        {
          "output_type": "execute_result",
          "data": {
            "text/plain": [
              "['ADD 太', 'DEL 实', 'DEL 确', 'ADD 的', 'ADD 真', '小明 SUB => 我']"
            ]
          },
          "metadata": {
            "tags": []
          },
          "execution_count": 22
        }
      ]
    },
    {
      "cell_type": "code",
      "metadata": {
        "id": "gLyJQ0ohog4p",
        "colab_type": "code",
        "colab": {}
      },
      "source": [
        ""
      ],
      "execution_count": 0,
      "outputs": []
    }
  ]
}